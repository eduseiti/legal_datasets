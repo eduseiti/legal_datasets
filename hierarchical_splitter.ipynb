{
 "cells": [
  {
   "cell_type": "code",
   "execution_count": 1,
   "id": "5fb570e4-78ef-43eb-a27f-48a2067c2db3",
   "metadata": {},
   "outputs": [],
   "source": [
    "import re\n",
    "import json\n",
    "import os"
   ]
  },
  {
   "cell_type": "code",
   "execution_count": 2,
   "id": "03891b97-5956-4bcc-ba54-081092eabf98",
   "metadata": {},
   "outputs": [],
   "source": [
    "import pandas as pd"
   ]
  },
  {
   "cell_type": "code",
   "execution_count": 8,
   "id": "0c841f88-fc45-4c72-a0e8-bd6aed8d5ea9",
   "metadata": {},
   "outputs": [],
   "source": [
    "import glob"
   ]
  },
  {
   "cell_type": "code",
   "execution_count": 3,
   "id": "1c71656c-7a36-4167-8118-a55f0023ed3c",
   "metadata": {},
   "outputs": [],
   "source": [
    "%load_ext autoreload\n",
    "%autoreload 2"
   ]
  },
  {
   "cell_type": "code",
   "execution_count": 106,
   "id": "ee35475d-d05e-4a70-a48f-332f88398205",
   "metadata": {},
   "outputs": [],
   "source": [
    "from legal_document_splitter import *"
   ]
  },
  {
   "cell_type": "code",
   "execution_count": 6,
   "id": "f2bdb3ea-d198-4ddf-bd18-2eee59edd64a",
   "metadata": {},
   "outputs": [],
   "source": [
    "DATA_PATH=\"data/\""
   ]
  },
  {
   "cell_type": "markdown",
   "id": "b274c399-4d6b-40cd-85bb-12bc457a1bda",
   "metadata": {},
   "source": [
    "### Load all the legal documents from the folder"
   ]
  },
  {
   "cell_type": "code",
   "execution_count": 17,
   "id": "167c1470-6c5d-4de7-a31e-c52dd9a9f0f4",
   "metadata": {},
   "outputs": [],
   "source": [
    "all_files = np.sort(glob.glob(DATA_PATH + \"normas_referenciadas/*.txt\"))"
   ]
  },
  {
   "cell_type": "code",
   "execution_count": 18,
   "id": "c1195781-4a80-4caa-b13d-b410453f551f",
   "metadata": {},
   "outputs": [
    {
     "data": {
      "text/plain": [
       "array(['data/normas_referenciadas/ADI RFB nº 12, de 2016.txt',\n",
       "       'data/normas_referenciadas/Acordo para Evitar a Dupla Tributação em Matéria de Impostos sobre a Renda e o Capital firmado entre o Brasil e a Alemanha.txt',\n",
       "       'data/normas_referenciadas/Acórdão do RE nº 855.091RS (Tema 808).txt',\n",
       "       'data/normas_referenciadas/Ato Declaratório (AD) PGFN nº 3, de 18 de setembro de 2008.txt',\n",
       "       'data/normas_referenciadas/Ato Declaratório Cosar nº 47.txt',\n",
       "       'data/normas_referenciadas/Ato Declaratório Executivo Codac nº 23, de 4 de dezembro de 2019.txt',\n",
       "       'data/normas_referenciadas/Ato Declaratório Executivo RFB nº 2, de 6 de março de 2024.txt',\n",
       "       'data/normas_referenciadas/Ato Declaratório Executivo SRF nº 72, de 22 de dezembro de 2005.txt',\n",
       "       'data/normas_referenciadas/Ato Declaratório Interpretativo RFB nº 1.txt',\n",
       "       'data/normas_referenciadas/Ato Declaratório Interpretativo SRF nº 14, de 1º de dezembro de 2005.txt',\n",
       "       'data/normas_referenciadas/Ato Declaratório Interpretativo SRF nº 14, de 4 de maio de 2004.txt',\n",
       "       'data/normas_referenciadas/Ato Declaratório Interpretativo SRF nº 16, de 22 de dezembro de 2005.txt',\n",
       "       'data/normas_referenciadas/Ato Declaratório Interpretativo SRF nº 2.txt',\n",
       "       'data/normas_referenciadas/Ato Declaratório Interpretativo SRF nº 24.txt',\n",
       "       'data/normas_referenciadas/Ato Declaratório Interpretativo SRF nº 5.txt',\n",
       "       'data/normas_referenciadas/Ato Declaratório Normativo CST nº 10, de 1991.txt',\n",
       "       'data/normas_referenciadas/Ato Declaratório Normativo CST nº 11, de 1978.txt',\n",
       "       'data/normas_referenciadas/Ato Declaratório Normativo CST nº 16, de 27 de julho de 1979.txt',\n",
       "       'data/normas_referenciadas/Ato Declaratório Normativo CST nº 25, de 13 de dezembro de 1989.txt',\n",
       "       'data/normas_referenciadas/Ato Declaratório Normativo CST nº 29, de 25 de junho de 1986.txt',\n",
       "       'data/normas_referenciadas/Ato Declaratório Normativo Cosit nº 19, de 1998.txt',\n",
       "       'data/normas_referenciadas/Ato Declaratório Normativo Cosit nº 19, de 25 de outubro de 2000.txt',\n",
       "       'data/normas_referenciadas/Ato Declaratório Normativo Cosit nº 20, de 1989.txt',\n",
       "       'data/normas_referenciadas/Ato Declaratório Normativo Cosit nº 24, de 14 de setembro de 1999.txt',\n",
       "       'data/normas_referenciadas/Ato Declaratório Normativo Cosit nº 28, de 27 de dezembro de 1996.txt',\n",
       "       'data/normas_referenciadas/Ato Declaratório Normativo Cosit nº 7, de 13 de janeiro de 1997.txt',\n",
       "       'data/normas_referenciadas/Ato Declaratório Normativo Cosit nº 9, de 1º de abril de 1999.txt',\n",
       "       'data/normas_referenciadas/Ato Declaratório PGFN Nº 1, de 12 de março de 2018.txt',\n",
       "       'data/normas_referenciadas/Ato Declaratório PGFN Nº 1, de 18 de fevereiro de 2005.txt',\n",
       "       'data/normas_referenciadas/Ato Declaratório PGFN Nº 1, de 2 de janeiro de 2014.txt',\n",
       "       'data/normas_referenciadas/Ato Declaratório PGFN Nº 1, de 27 de março de 2009.txt',\n",
       "       'data/normas_referenciadas/Ato Declaratório PGFN nº 13.txt',\n",
       "       'data/normas_referenciadas/Ato Declaratório PGFN nº 14.txt',\n",
       "       'data/normas_referenciadas/Ato Declaratório PGFN nº 2.txt',\n",
       "       'data/normas_referenciadas/Ato Declaratório PGFN nº 3.txt',\n",
       "       'data/normas_referenciadas/Ato Declaratório PGFN nº 4, de 12 de agosto de 2002.txt',\n",
       "       'data/normas_referenciadas/Ato Declaratório PGFN nº 4, de 16 de novembro de 2006.txt',\n",
       "       'data/normas_referenciadas/Ato Declaratório PGFN nº 5, de 16 de novembro de 2006.txt',\n",
       "       'data/normas_referenciadas/Ato Declaratório PGFN nº 5, de 3 de maio de 2016.txt',\n",
       "       'data/normas_referenciadas/Ato Declaratório PGFN nº 6 DE 2006.txt',\n",
       "       'data/normas_referenciadas/Ato Declaratório PGFN nº 6 DE 2008.txt',\n",
       "       'data/normas_referenciadas/Ato Declaratório PGFN nº 9.txt',\n",
       "       'data/normas_referenciadas/Ato Declaratório RFB nº 18.txt',\n",
       "       'data/normas_referenciadas/Ato Declaratório RFB nº 3.txt',\n",
       "       'data/normas_referenciadas/Ato Declaratório SRF nº 22.txt',\n",
       "       'data/normas_referenciadas/Ato Declaratório SRF nº 26.txt',\n",
       "       'data/normas_referenciadas/Ato Declaratório SRF nº 28.txt',\n",
       "       'data/normas_referenciadas/Ato Declaratório SRF nº 3.txt',\n",
       "       'data/normas_referenciadas/Ato Declaratório SRF nº 48.txt',\n",
       "       'data/normas_referenciadas/Ato Declaratório SRF nº 7.txt',\n",
       "       'data/normas_referenciadas/Ato Declaratório SRF nº 8.txt',\n",
       "       'data/normas_referenciadas/Ato Declaratório SRF nº 84.txt',\n",
       "       'data/normas_referenciadas/Ato Declaratório SRF nº 95.txt',\n",
       "       'data/normas_referenciadas/Ato Declaratório SRF nº 96.txt',\n",
       "       'data/normas_referenciadas/Ato Declaratório do Presidente da Mesa do Congresso Nacional nº 38, de 14 de outubro de 2005.txt',\n",
       "       'data/normas_referenciadas/Ação Direta de Inconstitucionalidade (ADI) nº 5.422, do Supremo Tribunal Federal.txt',\n",
       "       'data/normas_referenciadas/Ação Direta de Inconstitucionalidade nº 5.583DF do Supremo Tribunal Federal (STF).txt',\n",
       "       'data/normas_referenciadas/Circular do Banco Central do Brasil nº 3.432, de 3 de fevereiro de 2009.txt',\n",
       "       'data/normas_referenciadas/Consolidação das Leis do Trabalho (CLT).txt',\n",
       "       'data/normas_referenciadas/Constituição Federal de 1988.txt',\n",
       "       'data/normas_referenciadas/Convenção Postal Universal.txt',\n",
       "       'data/normas_referenciadas/Convenção de Berna da União Postal Universal (UPU).txt',\n",
       "       'data/normas_referenciadas/Convenção de Viena sobre o Direito dos Tratados.txt',\n",
       "       'data/normas_referenciadas/Convenção de Viena, Decreto nº 56.435, de 8 de junho de 1965.txt',\n",
       "       'data/normas_referenciadas/Convenção sobre Privilégios e Imunidades das Agências Especializadas.txt',\n",
       "       'data/normas_referenciadas/Convenção sobre Privilégios e Imunidades das Nações Unidas.txt',\n",
       "       'data/normas_referenciadas/Convênio de Criação de um Conselho de Cooperação Aduaneira.txt',\n",
       "       'data/normas_referenciadas/Código Civil.txt',\n",
       "       'data/normas_referenciadas/Código Tributário Nacional (CTN).txt',\n",
       "       'data/normas_referenciadas/Decisão Cosit nº 2, de 2000.txt',\n",
       "       'data/normas_referenciadas/Declaração de Benefícios Fiscais (DFB).txt',\n",
       "       'data/normas_referenciadas/Declaração de Imposto de Renda Retido na Fonte (DIRF).txt',\n",
       "       'data/normas_referenciadas/Declaração de Serviços Médicos e de Saúde (Dmed).txt',\n",
       "       'data/normas_referenciadas/Declaração de informações sobre Atividades Imobiliárias (Dimob).txt',\n",
       "       'data/normas_referenciadas/Declaração sobre Operações Imobiliárias (DOI).txt',\n",
       "       'data/normas_referenciadas/Decreto nº 21.177.txt',\n",
       "       'data/normas_referenciadas/Decreto nº 27.784.txt',\n",
       "       'data/normas_referenciadas/Decreto nº 3.000.txt',\n",
       "       'data/normas_referenciadas/Decreto nº 361.txt',\n",
       "       'data/normas_referenciadas/Decreto nº 4.897.txt',\n",
       "       'data/normas_referenciadas/Decreto nº 5.128.txt',\n",
       "       'data/normas_referenciadas/Decreto nº 50.656.txt',\n",
       "       'data/normas_referenciadas/Decreto nº 52.288.txt',\n",
       "       'data/normas_referenciadas/Decreto nº 56.435.txt',\n",
       "       'data/normas_referenciadas/Decreto nº 57.784.txt',\n",
       "       'data/normas_referenciadas/Decreto nº 57.942.txt',\n",
       "       'data/normas_referenciadas/Decreto nº 59.308.txt',\n",
       "       'data/normas_referenciadas/Decreto nº 59.309.txt',\n",
       "       'data/normas_referenciadas/Decreto nº 59.566.txt',\n",
       "       'data/normas_referenciadas/Decreto nº 61.078.txt',\n",
       "       'data/normas_referenciadas/Decreto nº 62.125.txt',\n",
       "       'data/normas_referenciadas/Decreto nº 63.151.txt',\n",
       "       'data/normas_referenciadas/Decreto nº 67.542.txt',\n",
       "       'data/normas_referenciadas/Decreto nº 70.951.txt',\n",
       "       'data/normas_referenciadas/Decreto nº 71.733.txt',\n",
       "       'data/normas_referenciadas/Decreto nº 75.102.txt',\n",
       "       'data/normas_referenciadas/Decreto nº 8.289.txt',\n",
       "       'data/normas_referenciadas/Decreto nº 8.624.txt',\n",
       "       'data/normas_referenciadas/Decreto nº 85.306.txt',\n",
       "       'data/normas_referenciadas/Decreto nº 85.801.txt',\n",
       "       'data/normas_referenciadas/Decreto nº 86.006.txt',\n",
       "       'data/normas_referenciadas/Decreto nº 86.084.txt',\n",
       "       'data/normas_referenciadas/Decreto nº 86.365.txt',\n",
       "       'data/normas_referenciadas/Decreto nº 87.563.txt',\n",
       "       'data/normas_referenciadas/Decreto nº 9.580, de 22 de novembro de 2018.txt',\n",
       "       'data/normas_referenciadas/Decreto nº 93.153.txt',\n",
       "       'data/normas_referenciadas/Decreto nº 95.711.txt',\n",
       "       'data/normas_referenciadas/Despacho nº 3482020PGFN- ME, de 26082020.txt',\n",
       "       'data/normas_referenciadas/Documento de Informação e Apuração do ITR (Diat).txt',\n",
       "       'data/normas_referenciadas/Estatuto da Criança e do Adolescente (ECA).txt',\n",
       "       'data/normas_referenciadas/IN RFB nº 1.500, de 2014.txt',\n",
       "       'data/normas_referenciadas/Instrução Normativa RFB nº 1.037.txt',\n",
       "       'data/normas_referenciadas/Instrução Normativa RFB nº 1.131.txt',\n",
       "       'data/normas_referenciadas/Instrução Normativa RFB nº 1.343.txt',\n",
       "       'data/normas_referenciadas/Instrução Normativa RFB nº 1.500.txt',\n",
       "       'data/normas_referenciadas/Instrução Normativa RFB nº 1.505, de 05 de agosto de 2014.txt',\n",
       "       'data/normas_referenciadas/Instrução Normativa RFB nº 1.531.txt',\n",
       "       'data/normas_referenciadas/Instrução Normativa RFB nº 1.548.txt',\n",
       "       'data/normas_referenciadas/Instrução Normativa RFB nº 1.558, de 31 de março de 2015.txt',\n",
       "       'data/normas_referenciadas/Instrução Normativa RFB nº 1.585.txt',\n",
       "       'data/normas_referenciadas/Instrução Normativa RFB nº 1.627.txt',\n",
       "       'data/normas_referenciadas/Instrução Normativa RFB nº 1.645.txt',\n",
       "       'data/normas_referenciadas/Instrução Normativa RFB nº 1.704.txt',\n",
       "       'data/normas_referenciadas/Instrução Normativa RFB nº 1.717.txt',\n",
       "       'data/normas_referenciadas/Instrução Normativa RFB nº 1.888.txt',\n",
       "       'data/normas_referenciadas/Instrução Normativa RFB nº 1.997, de 21 de novembro de 2019.txt',\n",
       "       'data/normas_referenciadas/Instrução Normativa RFB nº 107.txt',\n",
       "       'data/normas_referenciadas/Instrução Normativa RFB nº 118.txt',\n",
       "       'data/normas_referenciadas/Instrução Normativa RFB nº 165.txt',\n",
       "       'data/normas_referenciadas/Instrução Normativa RFB nº 2.055.txt',\n",
       "       'data/normas_referenciadas/Instrução Normativa RFB nº 2.060.txt',\n",
       "       'data/normas_referenciadas/Instrução Normativa RFB nº 2.066.txt',\n",
       "       'data/normas_referenciadas/Instrução Normativa RFB nº 2.172.txt',\n",
       "       'data/normas_referenciadas/Instrução Normativa RFB nº 2.178.txt',\n",
       "       'data/normas_referenciadas/Instrução Normativa RFB nº 2.180.txt',\n",
       "       'data/normas_referenciadas/Instrução Normativa RFB nº 208.txt',\n",
       "       'data/normas_referenciadas/Instrução Normativa RFB nº 256.txt',\n",
       "       'data/normas_referenciadas/Instrução Normativa RFB nº 283.txt',\n",
       "       'data/normas_referenciadas/Instrução Normativa RFB nº 588.txt',\n",
       "       'data/normas_referenciadas/Instrução Normativa RFB nº 599.txt',\n",
       "       'data/normas_referenciadas/Instrução Normativa RFB nº 67.txt',\n",
       "       'data/normas_referenciadas/Instrução Normativa RFB nº 698.txt',\n",
       "       'data/normas_referenciadas/Instrução Normativa RFB nº 76.txt',\n",
       "       'data/normas_referenciadas/Instrução Normativa RFB nº 81.txt',\n",
       "       'data/normas_referenciadas/Instrução Normativa RFB nº 83.txt',\n",
       "       'data/normas_referenciadas/Instrução Normativa RFB nº 936.txt',\n",
       "       'data/normas_referenciadas/Instrução Normativa SRF nº 1.008, de 9 de fevereiro de 2010.txt',\n",
       "       'data/normas_referenciadas/Instrução Normativa SRF nº 23, de 25 de março de 1983.txt',\n",
       "       'data/normas_referenciadas/Instrução Normativa SRF nº 4, de 13 de janeiro de 1999.txt',\n",
       "       'data/normas_referenciadas/Instrução Normativa SRF nº 599, de 28 de dezembro de 2005.txt',\n",
       "       'data/normas_referenciadas/Instrução Normativa SRF nº 84, de 11 de outubro de 2001.txt',\n",
       "       'data/normas_referenciadas/Instrução Normativa SRF nº 84, de 20 de dezembro de 1979.txt',\n",
       "       'data/normas_referenciadas/Legislação do Fundo de Garantia do Tempo de Serviço (FGTS).txt',\n",
       "       'data/normas_referenciadas/Lei n° 10.406, de 10 de janeiro de 2002 - Código Civil.txt',\n",
       "       'data/normas_referenciadas/Lei n° 10.522, de 19 de julho de 2002.txt',\n",
       "       'data/normas_referenciadas/Lei nº 1.301.txt',\n",
       "       'data/normas_referenciadas/Lei nº 1.381.txt',\n",
       "       'data/normas_referenciadas/Lei nº 1.493.txt',\n",
       "       'data/normas_referenciadas/Lei nº 1.510.txt',\n",
       "       'data/normas_referenciadas/Lei nº 1.535.txt',\n",
       "       'data/normas_referenciadas/Lei nº 10.101.txt',\n",
       "       'data/normas_referenciadas/Lei nº 10.200.txt',\n",
       "       'data/normas_referenciadas/Lei nº 10.406.txt',\n",
       "       'data/normas_referenciadas/Lei nº 10.451.txt',\n",
       "       'data/normas_referenciadas/Lei nº 10.522.txt',\n",
       "       'data/normas_referenciadas/Lei nº 10.559.txt',\n",
       "       'data/normas_referenciadas/Lei nº 10.698.txt',\n",
       "       'data/normas_referenciadas/Lei nº 10.741.txt',\n",
       "       'data/normas_referenciadas/Lei nº 10.833.txt',\n",
       "       'data/normas_referenciadas/Lei nº 10.865.txt',\n",
       "       'data/normas_referenciadas/Lei nº 10.973.txt',\n",
       "       'data/normas_referenciadas/Lei nº 109.txt',\n",
       "       'data/normas_referenciadas/Lei nº 11.033.txt',\n",
       "       'data/normas_referenciadas/Lei nº 11.051.txt',\n",
       "       'data/normas_referenciadas/Lei nº 11.053.txt',\n",
       "       'data/normas_referenciadas/Lei nº 11.196.txt',\n",
       "       'data/normas_referenciadas/Lei nº 11.312.txt',\n",
       "       'data/normas_referenciadas/Lei nº 11.324.txt',\n",
       "       'data/normas_referenciadas/Lei nº 11.437.txt',\n",
       "       'data/normas_referenciadas/Lei nº 11.438.txt',\n",
       "       'data/normas_referenciadas/Lei nº 11.472.txt',\n",
       "       'data/normas_referenciadas/Lei nº 11.482.txt',\n",
       "       'data/normas_referenciadas/Lei nº 11.524.txt',\n",
       "       'data/normas_referenciadas/Lei nº 11.727.txt',\n",
       "       'data/normas_referenciadas/Lei nº 11.773.txt',\n",
       "       'data/normas_referenciadas/Lei nº 11.795.txt',\n",
       "       'data/normas_referenciadas/Lei nº 11.941.txt',\n",
       "       'data/normas_referenciadas/Lei nº 11.945.txt',\n",
       "       'data/normas_referenciadas/Lei nº 12.024.txt',\n",
       "       'data/normas_referenciadas/Lei nº 12.190.txt',\n",
       "       'data/normas_referenciadas/Lei nº 12.249.txt',\n",
       "       'data/normas_referenciadas/Lei nº 12.350.txt',\n",
       "       'data/normas_referenciadas/Lei nº 12.431.txt',\n",
       "       'data/normas_referenciadas/Lei nº 12.513.txt',\n",
       "       'data/normas_referenciadas/Lei nº 12.594.txt',\n",
       "       'data/normas_referenciadas/Lei nº 12.618.txt',\n",
       "       'data/normas_referenciadas/Lei nº 12.715.txt',\n",
       "       'data/normas_referenciadas/Lei nº 12.794.txt',\n",
       "       'data/normas_referenciadas/Lei nº 12.832.txt',\n",
       "       'data/normas_referenciadas/Lei nº 12.871.txt',\n",
       "       'data/normas_referenciadas/Lei nº 12.973.txt',\n",
       "       'data/normas_referenciadas/Lei nº 123.txt',\n",
       "       'data/normas_referenciadas/Lei nº 13.043.txt',\n",
       "       'data/normas_referenciadas/Lei nº 13.097.txt',\n",
       "       'data/normas_referenciadas/Lei nº 13.105.txt',\n",
       "       'data/normas_referenciadas/Lei nº 13.149.txt',\n",
       "       'data/normas_referenciadas/Lei nº 13.254.txt',\n",
       "       'data/normas_referenciadas/Lei nº 13.259.txt',\n",
       "       'data/normas_referenciadas/Lei nº 13.315.txt',\n",
       "       'data/normas_referenciadas/Lei nº 13.428.txt',\n",
       "       'data/normas_referenciadas/Lei nº 13.466.txt',\n",
       "       'data/normas_referenciadas/Lei nº 13.800.txt',\n",
       "       'data/normas_referenciadas/Lei nº 14.119.txt',\n",
       "       'data/normas_referenciadas/Lei nº 14.260.txt',\n",
       "       'data/normas_referenciadas/Lei nº 14.286.txt',\n",
       "       'data/normas_referenciadas/Lei nº 14.754.txt',\n",
       "       'data/normas_referenciadas/Lei nº 167.txt',\n",
       "       'data/normas_referenciadas/Lei nº 2.396.txt',\n",
       "       'data/normas_referenciadas/Lei nº 2.579.txt',\n",
       "       'data/normas_referenciadas/Lei nº 271.txt',\n",
       "       'data/normas_referenciadas/Lei nº 4.242.txt',\n",
       "       'data/normas_referenciadas/Lei nº 4.504.txt',\n",
       "       'data/normas_referenciadas/Lei nº 4.506.txt',\n",
       "       'data/normas_referenciadas/Lei nº 4.591.txt',\n",
       "       'data/normas_referenciadas/Lei nº 4.862.txt',\n",
       "       'data/normas_referenciadas/Lei nº 4.886.txt',\n",
       "       'data/normas_referenciadas/Lei nº 5.172.txt',\n",
       "       'data/normas_referenciadas/Lei nº 5.452.txt',\n",
       "       'data/normas_referenciadas/Lei nº 5.809.txt',\n",
       "       'data/normas_referenciadas/Lei nº 5.844.txt',\n",
       "       'data/normas_referenciadas/Lei nº 58.txt',\n",
       "       'data/normas_referenciadas/Lei nº 6.015.txt',\n",
       "       'data/normas_referenciadas/Lei nº 6.404.txt',\n",
       "       'data/normas_referenciadas/Lei nº 6.766.txt',\n",
       "       'data/normas_referenciadas/Lei nº 7.070.txt',\n",
       "       'data/normas_referenciadas/Lei nº 7.290.txt',\n",
       "       'data/normas_referenciadas/Lei nº 7.713.txt',\n",
       "       'data/normas_referenciadas/Lei nº 7.739.txt',\n",
       "       'data/normas_referenciadas/Lei nº 8.023.txt',\n",
       "       'data/normas_referenciadas/Lei nº 8.036.txt',\n",
       "       'data/normas_referenciadas/Lei nº 8.059.txt',\n",
       "       'data/normas_referenciadas/Lei nº 8.069.txt',\n",
       "       'data/normas_referenciadas/Lei nº 8.112.txt',\n",
       "       'data/normas_referenciadas/Lei nº 8.134.txt',\n",
       "       'data/normas_referenciadas/Lei nº 8.242.txt',\n",
       "       'data/normas_referenciadas/Lei nº 8.313.txt',\n",
       "       'data/normas_referenciadas/Lei nº 8.383.txt',\n",
       "       'data/normas_referenciadas/Lei nº 8.541.txt',\n",
       "       'data/normas_referenciadas/Lei nº 8.668.txt',\n",
       "       'data/normas_referenciadas/Lei nº 8.685.txt',\n",
       "       'data/normas_referenciadas/Lei nº 8.794.txt',\n",
       "       'data/normas_referenciadas/Lei nº 8.795.txt',\n",
       "       'data/normas_referenciadas/Lei nº 8.852.txt',\n",
       "       'data/normas_referenciadas/Lei nº 8.891.txt',\n",
       "       'data/normas_referenciadas/Lei nº 8.929.txt',\n",
       "       'data/normas_referenciadas/Lei nº 8.971.txt',\n",
       "       'data/normas_referenciadas/Lei nº 8.981.txt',\n",
       "       'data/normas_referenciadas/Lei nº 9.003.txt',\n",
       "       'data/normas_referenciadas/Lei nº 9.096.txt',\n",
       "       'data/normas_referenciadas/Lei nº 9.140.txt',\n",
       "       'data/normas_referenciadas/Lei nº 9.249.txt',\n",
       "       'data/normas_referenciadas/Lei nº 9.250, de 26 de dezembro de 1995.txt',\n",
       "       'data/normas_referenciadas/Lei nº 9.278.txt',\n",
       "       'data/normas_referenciadas/Lei nº 9.307.txt',\n",
       "       'data/normas_referenciadas/Lei nº 9.393.txt',\n",
       "       'data/normas_referenciadas/Lei nº 9.394.txt',\n",
       "       'data/normas_referenciadas/Lei nº 9.430.txt',\n",
       "       'data/normas_referenciadas/Lei nº 9.468.txt',\n",
       "       'data/normas_referenciadas/Lei nº 9.481.txt',\n",
       "       'data/normas_referenciadas/Lei nº 9.504.txt',\n",
       "       'data/normas_referenciadas/Lei nº 9.532.txt',\n",
       "       'data/normas_referenciadas/Lei nº 9.615.txt',\n",
       "       'data/normas_referenciadas/Lei nº 9.718.txt',\n",
       "       'data/normas_referenciadas/Lei nº 9.779.txt',\n",
       "       'data/normas_referenciadas/Lei nº 9.784.txt',\n",
       "       'data/normas_referenciadas/Lei nº 9.959.txt',\n",
       "       'data/normas_referenciadas/Medida Provisória nº 2.158.txt',\n",
       "       'data/normas_referenciadas/Medida Provisória nº 2.159.txt',\n",
       "       'data/normas_referenciadas/Medida Provisória nº 2.189.txt',\n",
       "       'data/normas_referenciadas/Medida Provisória nº 2.228.txt',\n",
       "       'data/normas_referenciadas/Medida Provisória nº 252.txt',\n",
       "       'data/normas_referenciadas/Medida Provisória nº 497, de 27 de julho de 2010.txt',\n",
       "       'data/normas_referenciadas/Medida Provisória nº 670, de 10 de março de 2015.txt',\n",
       "       'data/normas_referenciadas/Nota PGFN CRJ nº 1.040 2015.txt',\n",
       "       'data/normas_referenciadas/Nota PGFN CRJ nº 1.104 2017.txt',\n",
       "       'data/normas_referenciadas/Nota PGFN CRJ nº 1.549 2012.txt',\n",
       "       'data/normas_referenciadas/Nota PGFN CRJ nº 981 2015.txt',\n",
       "       'data/normas_referenciadas/Nota PGFNCRJ nº 1.114, de 14 de junho de 2012.txt',\n",
       "       'data/normas_referenciadas/Nota SEI nº 48 2018 CRJPGACETPGFN-MF.txt',\n",
       "       'data/normas_referenciadas/PMF nº 227, de 1980.txt',\n",
       "       'data/normas_referenciadas/PMF nº 454, de 1977.txt',\n",
       "       'data/normas_referenciadas/PMF nº 80, de 1979.txt',\n",
       "       'data/normas_referenciadas/Parecer Cosit nº 26, de 29 de junho de 2000.txt',\n",
       "       'data/normas_referenciadas/Parecer Cosit nº 30, de 28 de setembro de 2001.txt',\n",
       "       'data/normas_referenciadas/Parecer Normativo CST nº 1, de 4 de fevereiro de 1985.txt',\n",
       "       'data/normas_referenciadas/Parecer Normativo CST nº 10, de 17 de agosto de 1992.txt',\n",
       "       'data/normas_referenciadas/Parecer Normativo CST nº 122, de 8 de junho de 1974.txt',\n",
       "       'data/normas_referenciadas/Parecer Normativo CST nº 129, de 13 de setembro de 1973.txt',\n",
       "       'data/normas_referenciadas/Parecer Normativo CST nº 130, de 1975.txt',\n",
       "       'data/normas_referenciadas/Parecer Normativo CST nº 130, de 8 de julho de 1970.txt',\n",
       "       'data/normas_referenciadas/Parecer Normativo CST nº 173, de 26 de setembro de 1974.txt',\n",
       "       'data/normas_referenciadas/Parecer Normativo CST nº 179, de 1970.txt',\n",
       "       'data/normas_referenciadas/Parecer Normativo CST nº 2, de 15 de janeiro de 1980.txt',\n",
       "       'data/normas_referenciadas/Parecer Normativo CST nº 25, de 1976.txt',\n",
       "       'data/normas_referenciadas/Parecer Normativo CST nº 250, de 15 de março de 1971.txt',\n",
       "       'data/normas_referenciadas/Parecer Normativo CST nº 28, de 29 de dezembro de 1983.txt',\n",
       "       'data/normas_referenciadas/Parecer Normativo CST nº 32, de 17 de agosto de 1981.txt',\n",
       "       'data/normas_referenciadas/Parecer Normativo CST nº 36, de 30 de maio de 1977.txt',\n",
       "       'data/normas_referenciadas/Parecer Normativo CST nº 38, de 1975.txt',\n",
       "       'data/normas_referenciadas/Parecer Normativo CST nº 44, de 30 de junho de 1976.txt',\n",
       "       'data/normas_referenciadas/Parecer Normativo CST nº 6, de 19 de fevereiro de 1986.txt',\n",
       "       'data/normas_referenciadas/Parecer Normativo CST nº 60, de 20 de junho de 1978.txt',\n",
       "       'data/normas_referenciadas/Parecer Normativo CST nº 62, de 31 de agosto de 1976.txt',\n",
       "       'data/normas_referenciadas/Parecer Normativo CST nº 66, de 5 de setembro de 1986.txt',\n",
       "       'data/normas_referenciadas/Parecer Normativo CST nº 68, de 14 de setembro de 1976.txt',\n",
       "       'data/normas_referenciadas/Parecer Normativo CST nº 72, de 1979.txt',\n",
       "       'data/normas_referenciadas/Parecer Normativo CST nº 8, de 1979.txt',\n",
       "       'data/normas_referenciadas/Parecer Normativo CST nº 9, de 1º de julho de 1983.txt',\n",
       "       'data/normas_referenciadas/Parecer Normativo CST nº 90, de 16 de outubro de 1978.txt',\n",
       "       'data/normas_referenciadas/Parecer Normativo Cosit nº 1, de 17 de março de 1994.txt',\n",
       "       'data/normas_referenciadas/Parecer Normativo Cosit nº 1, de 24 de setembro de 2002.txt',\n",
       "       'data/normas_referenciadas/Parecer Normativo Cosit nº 1, de 8 de agosto de 1995.txt',\n",
       "       'data/normas_referenciadas/Parecer Normativo Cosit nº 11, de 30 de setembro de 1992.txt',\n",
       "       'data/normas_referenciadas/Parecer Normativo Cosit nº 3, de 28 de agosto de 1996.txt',\n",
       "       'data/normas_referenciadas/Parecer Normativo Cosit nº 4, de 3 de novembro de 1995.txt',\n",
       "       'data/normas_referenciadas/Parecer Normativo Cosit nº 6, de 4 de agosto de 2014.txt',\n",
       "       'data/normas_referenciadas/Parecer Normativo nº 129, de 13 de setembro de 1973.txt',\n",
       "       'data/normas_referenciadas/Parecer PGFN nº 1.888 2008.txt',\n",
       "       'data/normas_referenciadas/Parecer PGFN nº 2118 2011.txt',\n",
       "       'data/normas_referenciadas/Parecer PGFN nº 2683 2008.txt',\n",
       "       'data/normas_referenciadas/Parecer PGFN nº 701 2016.txt',\n",
       "       'data/normas_referenciadas/Parecer PGFNCAT nº 1.503, de 19 de julho de 2010, aprovado pelo Ministro de Estado da Fazenda em 26 de julho de 2010.txt',\n",
       "       'data/normas_referenciadas/Parecer PGFNCAT nº 815 2010.txt',\n",
       "       'data/normas_referenciadas/Parecer PGFNCRJ Nº 2271 2013.txt',\n",
       "       'data/normas_referenciadas/Parecer SEI Nº 110 2018 CRJPGACETPGFN-MF, aprovado pelo Despacho nº 3482020PGFN-ME, de 26 de agosto de 2020.txt',\n",
       "       'data/normas_referenciadas/Parecer SEI nº 10167 2021 ME.txt',\n",
       "       'data/normas_referenciadas/Parecer SEI nº 110 2018 CRJPGACETPGFN-MF.txt',\n",
       "       'data/normas_referenciadas/Parecer SEI nº 15069 2022 ME.txt',\n",
       "       'data/normas_referenciadas/Parecer nº 93 2018 DECOR CGU AGU.txt',\n",
       "       'data/normas_referenciadas/Portaria Conjunta SRFTSE nº 74, de 10 de janeiro de 2006.txt',\n",
       "       'data/normas_referenciadas/Portaria nº 277.txt',\n",
       "       'data/normas_referenciadas/REsp nº 1.306.393DF_ Tema Repetitivo nº 535.txt',\n",
       "       'data/normas_referenciadas/Resolução CGPC nº 26, de 29 de setembro de 2008.txt',\n",
       "       'data/normas_referenciadas/Resolução CGSN nº 140, de 22 de maio de 2018.txt',\n",
       "       'data/normas_referenciadas/Resolução TSE nº 22.250, de 2006.txt',\n",
       "       'data/normas_referenciadas/Sistema de Recolhimento Mensal Obrigatório (Carnê-Leão).txt',\n",
       "       'data/normas_referenciadas/Solução de Consulta Cosit nº 100.txt',\n",
       "       'data/normas_referenciadas/Solução de Consulta Cosit nº 102.txt',\n",
       "       'data/normas_referenciadas/Solução de Consulta Cosit nº 105.txt',\n",
       "       'data/normas_referenciadas/Solução de Consulta Cosit nº 106.txt',\n",
       "       'data/normas_referenciadas/Solução de Consulta Cosit nº 111.txt',\n",
       "       'data/normas_referenciadas/Solução de Consulta Cosit nº 114.txt',\n",
       "       'data/normas_referenciadas/Solução de Consulta Cosit nº 115.txt',\n",
       "       'data/normas_referenciadas/Solução de Consulta Cosit nº 116.txt',\n",
       "       'data/normas_referenciadas/Solução de Consulta Cosit nº 122.txt',\n",
       "       'data/normas_referenciadas/Solução de Consulta Cosit nº 123.txt',\n",
       "       'data/normas_referenciadas/Solução de Consulta Cosit nº 125.txt',\n",
       "       'data/normas_referenciadas/Solução de Consulta Cosit nº 134.txt',\n",
       "       'data/normas_referenciadas/Solução de Consulta Cosit nº 135.txt',\n",
       "       'data/normas_referenciadas/Solução de Consulta Cosit nº 138.txt',\n",
       "       'data/normas_referenciadas/Solução de Consulta Cosit nº 14.txt',\n",
       "       'data/normas_referenciadas/Solução de Consulta Cosit nº 140.txt',\n",
       "       'data/normas_referenciadas/Solução de Consulta Cosit nº 142.txt',\n",
       "       'data/normas_referenciadas/Solução de Consulta Cosit nº 144.txt',\n",
       "       'data/normas_referenciadas/Solução de Consulta Cosit nº 147.txt',\n",
       "       'data/normas_referenciadas/Solução de Consulta Cosit nº 15.txt',\n",
       "       'data/normas_referenciadas/Solução de Consulta Cosit nº 152.txt',\n",
       "       'data/normas_referenciadas/Solução de Consulta Cosit nº 153.txt',\n",
       "       'data/normas_referenciadas/Solução de Consulta Cosit nº 157.txt',\n",
       "       'data/normas_referenciadas/Solução de Consulta Cosit nº 159.txt',\n",
       "       'data/normas_referenciadas/Solução de Consulta Cosit nº 161, de 27 de setembro de 2021.txt',\n",
       "       'data/normas_referenciadas/Solução de Consulta Cosit nº 161, de 7 de agosto de 2023.txt',\n",
       "       'data/normas_referenciadas/Solução de Consulta Cosit nº 162.txt',\n",
       "       'data/normas_referenciadas/Solução de Consulta Cosit nº 164.txt',\n",
       "       'data/normas_referenciadas/Solução de Consulta Cosit nº 166.txt',\n",
       "       'data/normas_referenciadas/Solução de Consulta Cosit nº 167.txt',\n",
       "       'data/normas_referenciadas/Solução de Consulta Cosit nº 17.txt',\n",
       "       'data/normas_referenciadas/Solução de Consulta Cosit nº 171.txt',\n",
       "       'data/normas_referenciadas/Solução de Consulta Cosit nº 173.txt',\n",
       "       'data/normas_referenciadas/Solução de Consulta Cosit nº 179.txt',\n",
       "       'data/normas_referenciadas/Solução de Consulta Cosit nº 180.txt',\n",
       "       'data/normas_referenciadas/Solução de Consulta Cosit nº 181.txt',\n",
       "       'data/normas_referenciadas/Solução de Consulta Cosit nº 183.txt',\n",
       "       'data/normas_referenciadas/Solução de Consulta Cosit nº 19, de 18 de março de 2021.txt',\n",
       "       'data/normas_referenciadas/Solução de Consulta Cosit nº 19, de 4 de novembro de 2013.txt',\n",
       "       'data/normas_referenciadas/Solução de Consulta Cosit nº 194.txt',\n",
       "       'data/normas_referenciadas/Solução de Consulta Cosit nº 200.txt',\n",
       "       'data/normas_referenciadas/Solução de Consulta Cosit nº 201.txt',\n",
       "       'data/normas_referenciadas/Solução de Consulta Cosit nº 202.txt',\n",
       "       'data/normas_referenciadas/Solução de Consulta Cosit nº 204, de 4 de setembro de 2023.txt',\n",
       "       'data/normas_referenciadas/Solução de Consulta Cosit nº 204, de 5 de agosto de 2015.txt',\n",
       "       'data/normas_referenciadas/Solução de Consulta Cosit nº 206.txt',\n",
       "       'data/normas_referenciadas/Solução de Consulta Cosit nº 207.txt',\n",
       "       'data/normas_referenciadas/Solução de Consulta Cosit nº 208.txt',\n",
       "       'data/normas_referenciadas/Solução de Consulta Cosit nº 209.txt',\n",
       "       'data/normas_referenciadas/Solução de Consulta Cosit nº 211.txt',\n",
       "       'data/normas_referenciadas/Solução de Consulta Cosit nº 214.txt',\n",
       "       'data/normas_referenciadas/Solução de Consulta Cosit nº 215.txt',\n",
       "       'data/normas_referenciadas/Solução de Consulta Cosit nº 217.txt',\n",
       "       'data/normas_referenciadas/Solução de Consulta Cosit nº 218.txt',\n",
       "       'data/normas_referenciadas/Solução de Consulta Cosit nº 221.txt',\n",
       "       'data/normas_referenciadas/Solução de Consulta Cosit nº 224, de 14 de agosto de 2014.txt',\n",
       "       'data/normas_referenciadas/Solução de Consulta Cosit nº 224, de 25 de setembro de 2023.txt',\n",
       "       'data/normas_referenciadas/Solução de Consulta Cosit nº 23.txt',\n",
       "       'data/normas_referenciadas/Solução de Consulta Cosit nº 231.txt',\n",
       "       'data/normas_referenciadas/Solução de Consulta Cosit nº 240, de 19 de agosto de 2019.txt',\n",
       "       'data/normas_referenciadas/Solução de Consulta Cosit nº 240, de 19 de maio de 2017.txt',\n",
       "       'data/normas_referenciadas/Solução de Consulta Cosit nº 256.txt',\n",
       "       'data/normas_referenciadas/Solução de Consulta Cosit nº 261.txt',\n",
       "       'data/normas_referenciadas/Solução de Consulta Cosit nº 264, de 24 de junho de 2019.txt',\n",
       "       'data/normas_referenciadas/Solução de Consulta Cosit nº 264, de 25 de setembro de 2019.txt',\n",
       "       'data/normas_referenciadas/Solução de Consulta Cosit nº 264, de 30 de outubro de 2023.txt',\n",
       "       'data/normas_referenciadas/Solução de Consulta Cosit nº 284.txt',\n",
       "       'data/normas_referenciadas/Solução de Consulta Cosit nº 309.txt',\n",
       "       'data/normas_referenciadas/Solução de Consulta Cosit nº 313.txt',\n",
       "       'data/normas_referenciadas/Solução de Consulta Cosit nº 320.txt',\n",
       "       'data/normas_referenciadas/Solução de Consulta Cosit nº 325.txt',\n",
       "       'data/normas_referenciadas/Solução de Consulta Cosit nº 33.txt',\n",
       "       'data/normas_referenciadas/Solução de Consulta Cosit nº 337, de 15 de dezembro de 2014.txt',\n",
       "       'data/normas_referenciadas/Solução de Consulta Cosit nº 337, de 28 de dezembro de 2018.txt',\n",
       "       'data/normas_referenciadas/Solução de Consulta Cosit nº 354.txt',\n",
       "       'data/normas_referenciadas/Solução de Consulta Cosit nº 356.txt',\n",
       "       'data/normas_referenciadas/Solução de Consulta Cosit nº 361.txt',\n",
       "       'data/normas_referenciadas/Solução de Consulta Cosit nº 4.txt',\n",
       "       'data/normas_referenciadas/Solução de Consulta Cosit nº 42.txt',\n",
       "       'data/normas_referenciadas/Solução de Consulta Cosit nº 48, de 10 de dezembro de 2013.txt',\n",
       "       'data/normas_referenciadas/Solução de Consulta Cosit nº 48, de 24 de março de 2021.txt',\n",
       "       'data/normas_referenciadas/Solução de Consulta Cosit nº 50.txt',\n",
       "       'data/normas_referenciadas/Solução de Consulta Cosit nº 503.txt',\n",
       "       'data/normas_referenciadas/Solução de Consulta Cosit nº 53.txt',\n",
       "       'data/normas_referenciadas/Solução de Consulta Cosit nº 6.txt',\n",
       "       'data/normas_referenciadas/Solução de Consulta Cosit nº 60, de 20 de fevereiro de 2014.txt',\n",
       "       'data/normas_referenciadas/Solução de Consulta Cosit nº 60, de 23 de junho de 2020.txt',\n",
       "       'data/normas_referenciadas/Solução de Consulta Cosit nº 600.txt',\n",
       "       'data/normas_referenciadas/Solução de Consulta Cosit nº 63.txt',\n",
       "       'data/normas_referenciadas/Solução de Consulta Cosit nº 64.txt',\n",
       "       'data/normas_referenciadas/Solução de Consulta Cosit nº 656.txt',\n",
       "       'data/normas_referenciadas/Solução de Consulta Cosit nº 66.txt',\n",
       "       'data/normas_referenciadas/Solução de Consulta Cosit nº 665.txt',\n",
       "       'data/normas_referenciadas/Solução de Consulta Cosit nº 674.txt',\n",
       "       'data/normas_referenciadas/Solução de Consulta Cosit nº 69.txt',\n",
       "       'data/normas_referenciadas/Solução de Consulta Cosit nº 7.txt',\n",
       "       'data/normas_referenciadas/Solução de Consulta Cosit nº 70, de 28 de março de 2014.txt',\n",
       "       'data/normas_referenciadas/Solução de Consulta Cosit nº 70, de 30 de dezembro de 2013.txt',\n",
       "       'data/normas_referenciadas/Solução de Consulta Cosit nº 72.txt',\n",
       "       'data/normas_referenciadas/Solução de Consulta Cosit nº 73.txt',\n",
       "       'data/normas_referenciadas/Solução de Consulta Cosit nº 75.txt',\n",
       "       'data/normas_referenciadas/Solução de Consulta Cosit nº 76.txt',\n",
       "       'data/normas_referenciadas/Solução de Consulta Cosit nº 79.txt',\n",
       "       'data/normas_referenciadas/Solução de Consulta Cosit nº 81.txt',\n",
       "       'data/normas_referenciadas/Solução de Consulta Cosit nº 82, de 2 de abril de 2014.txt',\n",
       "       'data/normas_referenciadas/Solução de Consulta Cosit nº 82, de 4 de abril de 2023.txt',\n",
       "       'data/normas_referenciadas/Solução de Consulta Cosit nº 92.txt',\n",
       "       'data/normas_referenciadas/Solução de Consulta Cosit nº 98, de 10 de maio de 2023.txt',\n",
       "       'data/normas_referenciadas/Solução de Consulta Cosit nº 98, de 3 de abril de 2014.txt',\n",
       "       'data/normas_referenciadas/Solução de Consulta Interna Cosit nº 10, de 5 de junho de 2014.txt',\n",
       "       'data/normas_referenciadas/Solução de Consulta Interna Cosit nº 11, de 28 de junho de 2012.txt',\n",
       "       'data/normas_referenciadas/Solução de Consulta Interna Cosit nº 12, de 15 de maio de 2013.txt',\n",
       "       'data/normas_referenciadas/Solução de Consulta Interna Cosit nº 2, de 14 de janeiro de 2014.txt',\n",
       "       'data/normas_referenciadas/Solução de Consulta Interna Cosit nº 20, de 13 de agosto de 2013.txt',\n",
       "       'data/normas_referenciadas/Solução de Consulta Interna Cosit nº 23, de 30 de agosto de 2013.txt',\n",
       "       'data/normas_referenciadas/Solução de Consulta Interna Cosit nº 27, de 7 de julho de 2008.txt',\n",
       "       'data/normas_referenciadas/Solução de Consulta Interna Cosit nº 29, de 4 de novembro de 2013.txt',\n",
       "       'data/normas_referenciadas/Solução de Consulta Interna Cosit nº 3, de 8 de fevereiro de 2012.txt',\n",
       "       'data/normas_referenciadas/Solução de Consulta Interna Cosit nº 4, de 17 de abril de 2012.txt',\n",
       "       'data/normas_referenciadas/Solução de Consulta Interna Cosit nº 5, de 15 de fevereiro de 2013.txt',\n",
       "       'data/normas_referenciadas/Solução de Consulta Interna Cosit nº 5, de 28 de março de 2006.txt',\n",
       "       'data/normas_referenciadas/Solução de Consulta Interna Cosit nº 6, de 18 de maio de 2015.txt',\n",
       "       'data/normas_referenciadas/Solução de Consulta Interna Cosit nº 7, de 17 de maio de 2012.txt',\n",
       "       'data/normas_referenciadas/Solução de Consulta SRRF03Disit nº 15, de 9 de março de 2009.txt',\n",
       "       'data/normas_referenciadas/Solução de Consulta SRRF06Disit nº 6.007, de 25 de março de 2019.txt',\n",
       "       'data/normas_referenciadas/Solução de Consulta nº 140, de 5 de junho de 2015.txt',\n",
       "       'data/normas_referenciadas/Solução de Divergência Cosit nº 10, de 14 de agosto de 2014.txt',\n",
       "       'data/normas_referenciadas/Solução de Divergência Cosit nº 16, de 27 de setembro de 2012.txt',\n",
       "       'data/normas_referenciadas/Solução de Divergência Cosit nº 19, de 16 de setembro de 2013.txt',\n",
       "       'data/normas_referenciadas/Súmula Carf nº 42.txt',\n",
       "       'data/normas_referenciadas/Súmula nº 125 do Superior Tribunal de Justiça (STJ).txt',\n",
       "       'data/normas_referenciadas/Súmula nº 136 do Superior Tribunal de Justiça (STJ).txt'],\n",
       "      dtype='<U152')"
      ]
     },
     "execution_count": 18,
     "metadata": {},
     "output_type": "execute_result"
    }
   ],
   "source": [
    "all_files"
   ]
  },
  {
   "cell_type": "code",
   "execution_count": 82,
   "id": "15080a31-f46b-42bb-b080-95796959898e",
   "metadata": {},
   "outputs": [],
   "source": [
    "normas_json = {}\n",
    "\n",
    "for which_file in all_files:\n",
    "    with open(which_file) as input_file:\n",
    "        normas_json[os.path.basename(which_file)] = input_file.read()"
   ]
  },
  {
   "cell_type": "code",
   "execution_count": 83,
   "id": "1f2d73f9-c486-4da5-aab8-5116d085ab65",
   "metadata": {
    "scrolled": true
   },
   "outputs": [
    {
     "data": {
      "text/plain": [
       "dict_keys(['ADI RFB nº 12, de 2016.txt', 'Acordo para Evitar a Dupla Tributação em Matéria de Impostos sobre a Renda e o Capital firmado entre o Brasil e a Alemanha.txt', 'Acórdão do RE nº 855.091RS (Tema 808).txt', 'Ato Declaratório (AD) PGFN nº 3, de 18 de setembro de 2008.txt', 'Ato Declaratório Cosar nº 47.txt', 'Ato Declaratório Executivo Codac nº 23, de 4 de dezembro de 2019.txt', 'Ato Declaratório Executivo RFB nº 2, de 6 de março de 2024.txt', 'Ato Declaratório Executivo SRF nº 72, de 22 de dezembro de 2005.txt', 'Ato Declaratório Interpretativo RFB nº 1.txt', 'Ato Declaratório Interpretativo SRF nº 14, de 1º de dezembro de 2005.txt', 'Ato Declaratório Interpretativo SRF nº 14, de 4 de maio de 2004.txt', 'Ato Declaratório Interpretativo SRF nº 16, de 22 de dezembro de 2005.txt', 'Ato Declaratório Interpretativo SRF nº 2.txt', 'Ato Declaratório Interpretativo SRF nº 24.txt', 'Ato Declaratório Interpretativo SRF nº 5.txt', 'Ato Declaratório Normativo CST nº 10, de 1991.txt', 'Ato Declaratório Normativo CST nº 11, de 1978.txt', 'Ato Declaratório Normativo CST nº 16, de 27 de julho de 1979.txt', 'Ato Declaratório Normativo CST nº 25, de 13 de dezembro de 1989.txt', 'Ato Declaratório Normativo CST nº 29, de 25 de junho de 1986.txt', 'Ato Declaratório Normativo Cosit nº 19, de 1998.txt', 'Ato Declaratório Normativo Cosit nº 19, de 25 de outubro de 2000.txt', 'Ato Declaratório Normativo Cosit nº 20, de 1989.txt', 'Ato Declaratório Normativo Cosit nº 24, de 14 de setembro de 1999.txt', 'Ato Declaratório Normativo Cosit nº 28, de 27 de dezembro de 1996.txt', 'Ato Declaratório Normativo Cosit nº 7, de 13 de janeiro de 1997.txt', 'Ato Declaratório Normativo Cosit nº 9, de 1º de abril de 1999.txt', 'Ato Declaratório PGFN Nº 1, de 12 de março de 2018.txt', 'Ato Declaratório PGFN Nº 1, de 18 de fevereiro de 2005.txt', 'Ato Declaratório PGFN Nº 1, de 2 de janeiro de 2014.txt', 'Ato Declaratório PGFN Nº 1, de 27 de março de 2009.txt', 'Ato Declaratório PGFN nº 13.txt', 'Ato Declaratório PGFN nº 14.txt', 'Ato Declaratório PGFN nº 2.txt', 'Ato Declaratório PGFN nº 3.txt', 'Ato Declaratório PGFN nº 4, de 12 de agosto de 2002.txt', 'Ato Declaratório PGFN nº 4, de 16 de novembro de 2006.txt', 'Ato Declaratório PGFN nº 5, de 16 de novembro de 2006.txt', 'Ato Declaratório PGFN nº 5, de 3 de maio de 2016.txt', 'Ato Declaratório PGFN nº 6 DE 2006.txt', 'Ato Declaratório PGFN nº 6 DE 2008.txt', 'Ato Declaratório PGFN nº 9.txt', 'Ato Declaratório RFB nº 18.txt', 'Ato Declaratório RFB nº 3.txt', 'Ato Declaratório SRF nº 22.txt', 'Ato Declaratório SRF nº 26.txt', 'Ato Declaratório SRF nº 28.txt', 'Ato Declaratório SRF nº 3.txt', 'Ato Declaratório SRF nº 48.txt', 'Ato Declaratório SRF nº 7.txt', 'Ato Declaratório SRF nº 8.txt', 'Ato Declaratório SRF nº 84.txt', 'Ato Declaratório SRF nº 95.txt', 'Ato Declaratório SRF nº 96.txt', 'Ato Declaratório do Presidente da Mesa do Congresso Nacional nº 38, de 14 de outubro de 2005.txt', 'Ação Direta de Inconstitucionalidade (ADI) nº 5.422, do Supremo Tribunal Federal.txt', 'Ação Direta de Inconstitucionalidade nº 5.583DF do Supremo Tribunal Federal (STF).txt', 'Circular do Banco Central do Brasil nº 3.432, de 3 de fevereiro de 2009.txt', 'Consolidação das Leis do Trabalho (CLT).txt', 'Constituição Federal de 1988.txt', 'Convenção Postal Universal.txt', 'Convenção de Berna da União Postal Universal (UPU).txt', 'Convenção de Viena sobre o Direito dos Tratados.txt', 'Convenção de Viena, Decreto nº 56.435, de 8 de junho de 1965.txt', 'Convenção sobre Privilégios e Imunidades das Agências Especializadas.txt', 'Convenção sobre Privilégios e Imunidades das Nações Unidas.txt', 'Convênio de Criação de um Conselho de Cooperação Aduaneira.txt', 'Código Civil.txt', 'Código Tributário Nacional (CTN).txt', 'Decisão Cosit nº 2, de 2000.txt', 'Declaração de Benefícios Fiscais (DFB).txt', 'Declaração de Imposto de Renda Retido na Fonte (DIRF).txt', 'Declaração de Serviços Médicos e de Saúde (Dmed).txt', 'Declaração de informações sobre Atividades Imobiliárias (Dimob).txt', 'Declaração sobre Operações Imobiliárias (DOI).txt', 'Decreto nº 21.177.txt', 'Decreto nº 27.784.txt', 'Decreto nº 3.000.txt', 'Decreto nº 361.txt', 'Decreto nº 4.897.txt', 'Decreto nº 5.128.txt', 'Decreto nº 50.656.txt', 'Decreto nº 52.288.txt', 'Decreto nº 56.435.txt', 'Decreto nº 57.784.txt', 'Decreto nº 57.942.txt', 'Decreto nº 59.308.txt', 'Decreto nº 59.309.txt', 'Decreto nº 59.566.txt', 'Decreto nº 61.078.txt', 'Decreto nº 62.125.txt', 'Decreto nº 63.151.txt', 'Decreto nº 67.542.txt', 'Decreto nº 70.951.txt', 'Decreto nº 71.733.txt', 'Decreto nº 75.102.txt', 'Decreto nº 8.289.txt', 'Decreto nº 8.624.txt', 'Decreto nº 85.306.txt', 'Decreto nº 85.801.txt', 'Decreto nº 86.006.txt', 'Decreto nº 86.084.txt', 'Decreto nº 86.365.txt', 'Decreto nº 87.563.txt', 'Decreto nº 9.580, de 22 de novembro de 2018.txt', 'Decreto nº 93.153.txt', 'Decreto nº 95.711.txt', 'Despacho nº 3482020PGFN- ME, de 26082020.txt', 'Documento de Informação e Apuração do ITR (Diat).txt', 'Estatuto da Criança e do Adolescente (ECA).txt', 'IN RFB nº 1.500, de 2014.txt', 'Instrução Normativa RFB nº 1.037.txt', 'Instrução Normativa RFB nº 1.131.txt', 'Instrução Normativa RFB nº 1.343.txt', 'Instrução Normativa RFB nº 1.500.txt', 'Instrução Normativa RFB nº 1.505, de 05 de agosto de 2014.txt', 'Instrução Normativa RFB nº 1.531.txt', 'Instrução Normativa RFB nº 1.548.txt', 'Instrução Normativa RFB nº 1.558, de 31 de março de 2015.txt', 'Instrução Normativa RFB nº 1.585.txt', 'Instrução Normativa RFB nº 1.627.txt', 'Instrução Normativa RFB nº 1.645.txt', 'Instrução Normativa RFB nº 1.704.txt', 'Instrução Normativa RFB nº 1.717.txt', 'Instrução Normativa RFB nº 1.888.txt', 'Instrução Normativa RFB nº 1.997, de 21 de novembro de 2019.txt', 'Instrução Normativa RFB nº 107.txt', 'Instrução Normativa RFB nº 118.txt', 'Instrução Normativa RFB nº 165.txt', 'Instrução Normativa RFB nº 2.055.txt', 'Instrução Normativa RFB nº 2.060.txt', 'Instrução Normativa RFB nº 2.066.txt', 'Instrução Normativa RFB nº 2.172.txt', 'Instrução Normativa RFB nº 2.178.txt', 'Instrução Normativa RFB nº 2.180.txt', 'Instrução Normativa RFB nº 208.txt', 'Instrução Normativa RFB nº 256.txt', 'Instrução Normativa RFB nº 283.txt', 'Instrução Normativa RFB nº 588.txt', 'Instrução Normativa RFB nº 599.txt', 'Instrução Normativa RFB nº 67.txt', 'Instrução Normativa RFB nº 698.txt', 'Instrução Normativa RFB nº 76.txt', 'Instrução Normativa RFB nº 81.txt', 'Instrução Normativa RFB nº 83.txt', 'Instrução Normativa RFB nº 936.txt', 'Instrução Normativa SRF nº 1.008, de 9 de fevereiro de 2010.txt', 'Instrução Normativa SRF nº 23, de 25 de março de 1983.txt', 'Instrução Normativa SRF nº 4, de 13 de janeiro de 1999.txt', 'Instrução Normativa SRF nº 599, de 28 de dezembro de 2005.txt', 'Instrução Normativa SRF nº 84, de 11 de outubro de 2001.txt', 'Instrução Normativa SRF nº 84, de 20 de dezembro de 1979.txt', 'Legislação do Fundo de Garantia do Tempo de Serviço (FGTS).txt', 'Lei n° 10.406, de 10 de janeiro de 2002 - Código Civil.txt', 'Lei n° 10.522, de 19 de julho de 2002.txt', 'Lei nº 1.301.txt', 'Lei nº 1.381.txt', 'Lei nº 1.493.txt', 'Lei nº 1.510.txt', 'Lei nº 1.535.txt', 'Lei nº 10.101.txt', 'Lei nº 10.200.txt', 'Lei nº 10.406.txt', 'Lei nº 10.451.txt', 'Lei nº 10.522.txt', 'Lei nº 10.559.txt', 'Lei nº 10.698.txt', 'Lei nº 10.741.txt', 'Lei nº 10.833.txt', 'Lei nº 10.865.txt', 'Lei nº 10.973.txt', 'Lei nº 109.txt', 'Lei nº 11.033.txt', 'Lei nº 11.051.txt', 'Lei nº 11.053.txt', 'Lei nº 11.196.txt', 'Lei nº 11.312.txt', 'Lei nº 11.324.txt', 'Lei nº 11.437.txt', 'Lei nº 11.438.txt', 'Lei nº 11.472.txt', 'Lei nº 11.482.txt', 'Lei nº 11.524.txt', 'Lei nº 11.727.txt', 'Lei nº 11.773.txt', 'Lei nº 11.795.txt', 'Lei nº 11.941.txt', 'Lei nº 11.945.txt', 'Lei nº 12.024.txt', 'Lei nº 12.190.txt', 'Lei nº 12.249.txt', 'Lei nº 12.350.txt', 'Lei nº 12.431.txt', 'Lei nº 12.513.txt', 'Lei nº 12.594.txt', 'Lei nº 12.618.txt', 'Lei nº 12.715.txt', 'Lei nº 12.794.txt', 'Lei nº 12.832.txt', 'Lei nº 12.871.txt', 'Lei nº 12.973.txt', 'Lei nº 123.txt', 'Lei nº 13.043.txt', 'Lei nº 13.097.txt', 'Lei nº 13.105.txt', 'Lei nº 13.149.txt', 'Lei nº 13.254.txt', 'Lei nº 13.259.txt', 'Lei nº 13.315.txt', 'Lei nº 13.428.txt', 'Lei nº 13.466.txt', 'Lei nº 13.800.txt', 'Lei nº 14.119.txt', 'Lei nº 14.260.txt', 'Lei nº 14.286.txt', 'Lei nº 14.754.txt', 'Lei nº 167.txt', 'Lei nº 2.396.txt', 'Lei nº 2.579.txt', 'Lei nº 271.txt', 'Lei nº 4.242.txt', 'Lei nº 4.504.txt', 'Lei nº 4.506.txt', 'Lei nº 4.591.txt', 'Lei nº 4.862.txt', 'Lei nº 4.886.txt', 'Lei nº 5.172.txt', 'Lei nº 5.452.txt', 'Lei nº 5.809.txt', 'Lei nº 5.844.txt', 'Lei nº 58.txt', 'Lei nº 6.015.txt', 'Lei nº 6.404.txt', 'Lei nº 6.766.txt', 'Lei nº 7.070.txt', 'Lei nº 7.290.txt', 'Lei nº 7.713.txt', 'Lei nº 7.739.txt', 'Lei nº 8.023.txt', 'Lei nº 8.036.txt', 'Lei nº 8.059.txt', 'Lei nº 8.069.txt', 'Lei nº 8.112.txt', 'Lei nº 8.134.txt', 'Lei nº 8.242.txt', 'Lei nº 8.313.txt', 'Lei nº 8.383.txt', 'Lei nº 8.541.txt', 'Lei nº 8.668.txt', 'Lei nº 8.685.txt', 'Lei nº 8.794.txt', 'Lei nº 8.795.txt', 'Lei nº 8.852.txt', 'Lei nº 8.891.txt', 'Lei nº 8.929.txt', 'Lei nº 8.971.txt', 'Lei nº 8.981.txt', 'Lei nº 9.003.txt', 'Lei nº 9.096.txt', 'Lei nº 9.140.txt', 'Lei nº 9.249.txt', 'Lei nº 9.250, de 26 de dezembro de 1995.txt', 'Lei nº 9.278.txt', 'Lei nº 9.307.txt', 'Lei nº 9.393.txt', 'Lei nº 9.394.txt', 'Lei nº 9.430.txt', 'Lei nº 9.468.txt', 'Lei nº 9.481.txt', 'Lei nº 9.504.txt', 'Lei nº 9.532.txt', 'Lei nº 9.615.txt', 'Lei nº 9.718.txt', 'Lei nº 9.779.txt', 'Lei nº 9.784.txt', 'Lei nº 9.959.txt', 'Medida Provisória nº 2.158.txt', 'Medida Provisória nº 2.159.txt', 'Medida Provisória nº 2.189.txt', 'Medida Provisória nº 2.228.txt', 'Medida Provisória nº 252.txt', 'Medida Provisória nº 497, de 27 de julho de 2010.txt', 'Medida Provisória nº 670, de 10 de março de 2015.txt', 'Nota PGFN CRJ nº 1.040 2015.txt', 'Nota PGFN CRJ nº 1.104 2017.txt', 'Nota PGFN CRJ nº 1.549 2012.txt', 'Nota PGFN CRJ nº 981 2015.txt', 'Nota PGFNCRJ nº 1.114, de 14 de junho de 2012.txt', 'Nota SEI nº 48 2018 CRJPGACETPGFN-MF.txt', 'PMF nº 227, de 1980.txt', 'PMF nº 454, de 1977.txt', 'PMF nº 80, de 1979.txt', 'Parecer Cosit nº 26, de 29 de junho de 2000.txt', 'Parecer Cosit nº 30, de 28 de setembro de 2001.txt', 'Parecer Normativo CST nº 1, de 4 de fevereiro de 1985.txt', 'Parecer Normativo CST nº 10, de 17 de agosto de 1992.txt', 'Parecer Normativo CST nº 122, de 8 de junho de 1974.txt', 'Parecer Normativo CST nº 129, de 13 de setembro de 1973.txt', 'Parecer Normativo CST nº 130, de 1975.txt', 'Parecer Normativo CST nº 130, de 8 de julho de 1970.txt', 'Parecer Normativo CST nº 173, de 26 de setembro de 1974.txt', 'Parecer Normativo CST nº 179, de 1970.txt', 'Parecer Normativo CST nº 2, de 15 de janeiro de 1980.txt', 'Parecer Normativo CST nº 25, de 1976.txt', 'Parecer Normativo CST nº 250, de 15 de março de 1971.txt', 'Parecer Normativo CST nº 28, de 29 de dezembro de 1983.txt', 'Parecer Normativo CST nº 32, de 17 de agosto de 1981.txt', 'Parecer Normativo CST nº 36, de 30 de maio de 1977.txt', 'Parecer Normativo CST nº 38, de 1975.txt', 'Parecer Normativo CST nº 44, de 30 de junho de 1976.txt', 'Parecer Normativo CST nº 6, de 19 de fevereiro de 1986.txt', 'Parecer Normativo CST nº 60, de 20 de junho de 1978.txt', 'Parecer Normativo CST nº 62, de 31 de agosto de 1976.txt', 'Parecer Normativo CST nº 66, de 5 de setembro de 1986.txt', 'Parecer Normativo CST nº 68, de 14 de setembro de 1976.txt', 'Parecer Normativo CST nº 72, de 1979.txt', 'Parecer Normativo CST nº 8, de 1979.txt', 'Parecer Normativo CST nº 9, de 1º de julho de 1983.txt', 'Parecer Normativo CST nº 90, de 16 de outubro de 1978.txt', 'Parecer Normativo Cosit nº 1, de 17 de março de 1994.txt', 'Parecer Normativo Cosit nº 1, de 24 de setembro de 2002.txt', 'Parecer Normativo Cosit nº 1, de 8 de agosto de 1995.txt', 'Parecer Normativo Cosit nº 11, de 30 de setembro de 1992.txt', 'Parecer Normativo Cosit nº 3, de 28 de agosto de 1996.txt', 'Parecer Normativo Cosit nº 4, de 3 de novembro de 1995.txt', 'Parecer Normativo Cosit nº 6, de 4 de agosto de 2014.txt', 'Parecer Normativo nº 129, de 13 de setembro de 1973.txt', 'Parecer PGFN nº 1.888 2008.txt', 'Parecer PGFN nº 2118 2011.txt', 'Parecer PGFN nº 2683 2008.txt', 'Parecer PGFN nº 701 2016.txt', 'Parecer PGFNCAT nº 1.503, de 19 de julho de 2010, aprovado pelo Ministro de Estado da Fazenda em 26 de julho de 2010.txt', 'Parecer PGFNCAT nº 815 2010.txt', 'Parecer PGFNCRJ Nº 2271 2013.txt', 'Parecer SEI Nº 110 2018 CRJPGACETPGFN-MF, aprovado pelo Despacho nº 3482020PGFN-ME, de 26 de agosto de 2020.txt', 'Parecer SEI nº 10167 2021 ME.txt', 'Parecer SEI nº 110 2018 CRJPGACETPGFN-MF.txt', 'Parecer SEI nº 15069 2022 ME.txt', 'Parecer nº 93 2018 DECOR CGU AGU.txt', 'Portaria Conjunta SRFTSE nº 74, de 10 de janeiro de 2006.txt', 'Portaria nº 277.txt', 'REsp nº 1.306.393DF_ Tema Repetitivo nº 535.txt', 'Resolução CGPC nº 26, de 29 de setembro de 2008.txt', 'Resolução CGSN nº 140, de 22 de maio de 2018.txt', 'Resolução TSE nº 22.250, de 2006.txt', 'Sistema de Recolhimento Mensal Obrigatório (Carnê-Leão).txt', 'Solução de Consulta Cosit nº 100.txt', 'Solução de Consulta Cosit nº 102.txt', 'Solução de Consulta Cosit nº 105.txt', 'Solução de Consulta Cosit nº 106.txt', 'Solução de Consulta Cosit nº 111.txt', 'Solução de Consulta Cosit nº 114.txt', 'Solução de Consulta Cosit nº 115.txt', 'Solução de Consulta Cosit nº 116.txt', 'Solução de Consulta Cosit nº 122.txt', 'Solução de Consulta Cosit nº 123.txt', 'Solução de Consulta Cosit nº 125.txt', 'Solução de Consulta Cosit nº 134.txt', 'Solução de Consulta Cosit nº 135.txt', 'Solução de Consulta Cosit nº 138.txt', 'Solução de Consulta Cosit nº 14.txt', 'Solução de Consulta Cosit nº 140.txt', 'Solução de Consulta Cosit nº 142.txt', 'Solução de Consulta Cosit nº 144.txt', 'Solução de Consulta Cosit nº 147.txt', 'Solução de Consulta Cosit nº 15.txt', 'Solução de Consulta Cosit nº 152.txt', 'Solução de Consulta Cosit nº 153.txt', 'Solução de Consulta Cosit nº 157.txt', 'Solução de Consulta Cosit nº 159.txt', 'Solução de Consulta Cosit nº 161, de 27 de setembro de 2021.txt', 'Solução de Consulta Cosit nº 161, de 7 de agosto de 2023.txt', 'Solução de Consulta Cosit nº 162.txt', 'Solução de Consulta Cosit nº 164.txt', 'Solução de Consulta Cosit nº 166.txt', 'Solução de Consulta Cosit nº 167.txt', 'Solução de Consulta Cosit nº 17.txt', 'Solução de Consulta Cosit nº 171.txt', 'Solução de Consulta Cosit nº 173.txt', 'Solução de Consulta Cosit nº 179.txt', 'Solução de Consulta Cosit nº 180.txt', 'Solução de Consulta Cosit nº 181.txt', 'Solução de Consulta Cosit nº 183.txt', 'Solução de Consulta Cosit nº 19, de 18 de março de 2021.txt', 'Solução de Consulta Cosit nº 19, de 4 de novembro de 2013.txt', 'Solução de Consulta Cosit nº 194.txt', 'Solução de Consulta Cosit nº 200.txt', 'Solução de Consulta Cosit nº 201.txt', 'Solução de Consulta Cosit nº 202.txt', 'Solução de Consulta Cosit nº 204, de 4 de setembro de 2023.txt', 'Solução de Consulta Cosit nº 204, de 5 de agosto de 2015.txt', 'Solução de Consulta Cosit nº 206.txt', 'Solução de Consulta Cosit nº 207.txt', 'Solução de Consulta Cosit nº 208.txt', 'Solução de Consulta Cosit nº 209.txt', 'Solução de Consulta Cosit nº 211.txt', 'Solução de Consulta Cosit nº 214.txt', 'Solução de Consulta Cosit nº 215.txt', 'Solução de Consulta Cosit nº 217.txt', 'Solução de Consulta Cosit nº 218.txt', 'Solução de Consulta Cosit nº 221.txt', 'Solução de Consulta Cosit nº 224, de 14 de agosto de 2014.txt', 'Solução de Consulta Cosit nº 224, de 25 de setembro de 2023.txt', 'Solução de Consulta Cosit nº 23.txt', 'Solução de Consulta Cosit nº 231.txt', 'Solução de Consulta Cosit nº 240, de 19 de agosto de 2019.txt', 'Solução de Consulta Cosit nº 240, de 19 de maio de 2017.txt', 'Solução de Consulta Cosit nº 256.txt', 'Solução de Consulta Cosit nº 261.txt', 'Solução de Consulta Cosit nº 264, de 24 de junho de 2019.txt', 'Solução de Consulta Cosit nº 264, de 25 de setembro de 2019.txt', 'Solução de Consulta Cosit nº 264, de 30 de outubro de 2023.txt', 'Solução de Consulta Cosit nº 284.txt', 'Solução de Consulta Cosit nº 309.txt', 'Solução de Consulta Cosit nº 313.txt', 'Solução de Consulta Cosit nº 320.txt', 'Solução de Consulta Cosit nº 325.txt', 'Solução de Consulta Cosit nº 33.txt', 'Solução de Consulta Cosit nº 337, de 15 de dezembro de 2014.txt', 'Solução de Consulta Cosit nº 337, de 28 de dezembro de 2018.txt', 'Solução de Consulta Cosit nº 354.txt', 'Solução de Consulta Cosit nº 356.txt', 'Solução de Consulta Cosit nº 361.txt', 'Solução de Consulta Cosit nº 4.txt', 'Solução de Consulta Cosit nº 42.txt', 'Solução de Consulta Cosit nº 48, de 10 de dezembro de 2013.txt', 'Solução de Consulta Cosit nº 48, de 24 de março de 2021.txt', 'Solução de Consulta Cosit nº 50.txt', 'Solução de Consulta Cosit nº 503.txt', 'Solução de Consulta Cosit nº 53.txt', 'Solução de Consulta Cosit nº 6.txt', 'Solução de Consulta Cosit nº 60, de 20 de fevereiro de 2014.txt', 'Solução de Consulta Cosit nº 60, de 23 de junho de 2020.txt', 'Solução de Consulta Cosit nº 600.txt', 'Solução de Consulta Cosit nº 63.txt', 'Solução de Consulta Cosit nº 64.txt', 'Solução de Consulta Cosit nº 656.txt', 'Solução de Consulta Cosit nº 66.txt', 'Solução de Consulta Cosit nº 665.txt', 'Solução de Consulta Cosit nº 674.txt', 'Solução de Consulta Cosit nº 69.txt', 'Solução de Consulta Cosit nº 7.txt', 'Solução de Consulta Cosit nº 70, de 28 de março de 2014.txt', 'Solução de Consulta Cosit nº 70, de 30 de dezembro de 2013.txt', 'Solução de Consulta Cosit nº 72.txt', 'Solução de Consulta Cosit nº 73.txt', 'Solução de Consulta Cosit nº 75.txt', 'Solução de Consulta Cosit nº 76.txt', 'Solução de Consulta Cosit nº 79.txt', 'Solução de Consulta Cosit nº 81.txt', 'Solução de Consulta Cosit nº 82, de 2 de abril de 2014.txt', 'Solução de Consulta Cosit nº 82, de 4 de abril de 2023.txt', 'Solução de Consulta Cosit nº 92.txt', 'Solução de Consulta Cosit nº 98, de 10 de maio de 2023.txt', 'Solução de Consulta Cosit nº 98, de 3 de abril de 2014.txt', 'Solução de Consulta Interna Cosit nº 10, de 5 de junho de 2014.txt', 'Solução de Consulta Interna Cosit nº 11, de 28 de junho de 2012.txt', 'Solução de Consulta Interna Cosit nº 12, de 15 de maio de 2013.txt', 'Solução de Consulta Interna Cosit nº 2, de 14 de janeiro de 2014.txt', 'Solução de Consulta Interna Cosit nº 20, de 13 de agosto de 2013.txt', 'Solução de Consulta Interna Cosit nº 23, de 30 de agosto de 2013.txt', 'Solução de Consulta Interna Cosit nº 27, de 7 de julho de 2008.txt', 'Solução de Consulta Interna Cosit nº 29, de 4 de novembro de 2013.txt', 'Solução de Consulta Interna Cosit nº 3, de 8 de fevereiro de 2012.txt', 'Solução de Consulta Interna Cosit nº 4, de 17 de abril de 2012.txt', 'Solução de Consulta Interna Cosit nº 5, de 15 de fevereiro de 2013.txt', 'Solução de Consulta Interna Cosit nº 5, de 28 de março de 2006.txt', 'Solução de Consulta Interna Cosit nº 6, de 18 de maio de 2015.txt', 'Solução de Consulta Interna Cosit nº 7, de 17 de maio de 2012.txt', 'Solução de Consulta SRRF03Disit nº 15, de 9 de março de 2009.txt', 'Solução de Consulta SRRF06Disit nº 6.007, de 25 de março de 2019.txt', 'Solução de Consulta nº 140, de 5 de junho de 2015.txt', 'Solução de Divergência Cosit nº 10, de 14 de agosto de 2014.txt', 'Solução de Divergência Cosit nº 16, de 27 de setembro de 2012.txt', 'Solução de Divergência Cosit nº 19, de 16 de setembro de 2013.txt', 'Súmula Carf nº 42.txt', 'Súmula nº 125 do Superior Tribunal de Justiça (STJ).txt', 'Súmula nº 136 do Superior Tribunal de Justiça (STJ).txt'])"
      ]
     },
     "execution_count": 83,
     "metadata": {},
     "output_type": "execute_result"
    }
   ],
   "source": [
    "normas_json.keys()"
   ]
  },
  {
   "cell_type": "code",
   "execution_count": 107,
   "id": "c12ef8d6-8551-4001-b27b-bfaf45265c99",
   "metadata": {},
   "outputs": [],
   "source": [
    "hierarchical_text_splitter = HierachicalRecursiveCharacterTextSplitter(\n",
    "    separators=LEGISLATION_SPLITTING_HIERARCHY_BRAZIL_NO_NEWLINE,\n",
    "    is_separator_regex=True,\n",
    "    chunk_size=1000,  # Tamanho máximo do chunk em caracteres\n",
    "    chunk_overlap=100,  # Sobreposição entre chunks para contexto\n",
    "    apply_chunk_size=6 # Separator index to start applying the chunk size check.\n",
    ")"
   ]
  },
  {
   "cell_type": "code",
   "execution_count": 108,
   "id": "191f5ddb-d9b0-4b9d-9f44-627aaeb995d4",
   "metadata": {},
   "outputs": [],
   "source": [
    "text_splitter = RecursiveCharacterTextSplitter(\n",
    "    chunk_size=1000,  # Tamanho máximo do chunk em caracteres\n",
    "    chunk_overlap=100,  # Sobreposição entre chunks para contexto\n",
    ")"
   ]
  },
  {
   "cell_type": "code",
   "execution_count": 109,
   "id": "f03d4a6d-5dd1-4d26-a340-ced0d6d6ba01",
   "metadata": {},
   "outputs": [
    {
     "name": "stderr",
     "output_type": "stream",
     "text": [
      "/opt/conda/lib/python3.10/site-packages/huggingface_hub/file_download.py:1132: FutureWarning: `resume_download` is deprecated and will be removed in version 1.0.0. Downloads always resume when possible. If you want to force a new download, use `force_download=True`.\n",
      "  warnings.warn(\n"
     ]
    }
   ],
   "source": [
    "tokens_counter = tokensCounter(\"stjiris/bert-large-portuguese-cased-legal-tsdae\")"
   ]
  },
  {
   "cell_type": "markdown",
   "id": "69899ed5-d489-432c-9e55-68b21571be2d",
   "metadata": {},
   "source": [
    "### Process (segmentation and flattening) all the referenced documents"
   ]
  },
  {
   "cell_type": "code",
   "execution_count": 110,
   "id": "f8890f9a-b152-408c-a290-7c7a6d776cc8",
   "metadata": {},
   "outputs": [],
   "source": [
    "from tqdm import tqdm"
   ]
  },
  {
   "cell_type": "code",
   "execution_count": 111,
   "id": "248fa739-26e3-4ebf-bb92-5d39fffde269",
   "metadata": {
    "scrolled": true
   },
   "outputs": [
    {
     "name": "stderr",
     "output_type": "stream",
     "text": [
      "Processing all referred legal documents:   0%|                                                                                                                                            | 0/478 [00:00<?, ?it/s]/opt/conda/lib/python3.10/site-packages/scipy/stats/_stats_py.py:1087: RuntimeWarning: divide by zero encountered in divide\n",
      "  var *= np.divide(n, n-ddof)  # to avoid error on division by zero\n",
      "/opt/conda/lib/python3.10/site-packages/scipy/stats/_stats_py.py:1087: RuntimeWarning: invalid value encountered in scalar multiply\n",
      "  var *= np.divide(n, n-ddof)  # to avoid error on division by zero\n",
      "Processing all referred legal documents:  10%|█████████████▌                                                                                                                    | 50/478 [00:00<00:00, 495.47it/s]"
     ]
    },
    {
     "name": "stdout",
     "output_type": "stream",
     "text": [
      ">>> Applying regular text splitter in file Acordo para Evitar a Dupla Tributação em Matéria de Impostos sobre a Renda e o Capital firmado entre o Brasil e a Alemanha.txt.\n",
      ">>> Applying regular text splitter in file Acórdão do RE nº 855.091RS (Tema 808).txt.\n",
      ">>> Applying regular text splitter in file Ato Declaratório Normativo Cosit nº 24, de 14 de setembro de 1999.txt.\n",
      ">>> Applying regular text splitter in file Ato Declaratório PGFN Nº 1, de 12 de março de 2018.txt.\n",
      ">>> Applying regular text splitter in file Ato Declaratório PGFN nº 5, de 3 de maio de 2016.txt.\n",
      ">>> Applying regular text splitter in file Ato Declaratório RFB nº 3.txt.\n",
      ">>> Applying regular text splitter in file Ato Declaratório do Presidente da Mesa do Congresso Nacional nº 38, de 14 de outubro de 2005.txt.\n",
      ">>> Applying regular text splitter in file Ação Direta de Inconstitucionalidade nº 5.583DF do Supremo Tribunal Federal (STF).txt.\n",
      ">>> Applying regular text splitter in file Consolidação das Leis do Trabalho (CLT).txt.\n",
      ">>> Applying regular text splitter in file Convenção Postal Universal.txt.\n",
      ">>> Applying regular text splitter in file Convenção de Berna da União Postal Universal (UPU).txt.\n",
      ">>> Applying regular text splitter in file Convenção de Viena sobre o Direito dos Tratados.txt.\n",
      ">>> Applying regular text splitter in file Convenção de Viena, Decreto nº 56.435, de 8 de junho de 1965.txt.\n",
      ">>> Applying regular text splitter in file Convenção sobre Privilégios e Imunidades das Agências Especializadas.txt.\n",
      ">>> Applying regular text splitter in file Convenção sobre Privilégios e Imunidades das Nações Unidas.txt.\n",
      ">>> Applying regular text splitter in file Código Tributário Nacional (CTN).txt.\n",
      ">>> Applying regular text splitter in file Declaração de Benefícios Fiscais (DFB).txt.\n",
      ">>> Applying regular text splitter in file Declaração de Imposto de Renda Retido na Fonte (DIRF).txt.\n",
      ">>> Applying regular text splitter in file Declaração de Serviços Médicos e de Saúde (Dmed).txt.\n",
      ">>> Applying regular text splitter in file Declaração de informações sobre Atividades Imobiliárias (Dimob).txt.\n",
      ">>> Applying regular text splitter in file Declaração sobre Operações Imobiliárias (DOI).txt.\n",
      ">>> Applying regular text splitter in file Decreto nº 5.128.txt.\n",
      ">>> Applying regular text splitter in file Decreto nº 50.656.txt.\n",
      ">>> Applying regular text splitter in file Decreto nº 52.288.txt.\n",
      ">>> Applying regular text splitter in file Decreto nº 56.435.txt.\n",
      ">>> Applying regular text splitter in file Decreto nº 57.784.txt.\n",
      ">>> Applying regular text splitter in file Decreto nº 57.942.txt.\n",
      ">>> Applying regular text splitter in file Decreto nº 59.308.txt.\n",
      ">>> Applying regular text splitter in file Decreto nº 59.309.txt.\n",
      ">>> Applying regular text splitter in file Decreto nº 59.566.txt.\n",
      ">>> Applying regular text splitter in file Decreto nº 61.078.txt.\n",
      ">>> Applying regular text splitter in file Decreto nº 70.951.txt.\n",
      ">>> Applying regular text splitter in file Decreto nº 71.733.txt.\n"
     ]
    },
    {
     "name": "stderr",
     "output_type": "stream",
     "text": [
      "Processing all referred legal documents:  21%|██████████████████████████▉                                                                                                      | 100/478 [00:00<00:03, 114.69it/s]"
     ]
    },
    {
     "name": "stdout",
     "output_type": "stream",
     "text": [
      ">>> Applying regular text splitter in file Decreto nº 75.102.txt.\n",
      ">>> Applying regular text splitter in file Decreto nº 8.624.txt.\n",
      ">>> Applying regular text splitter in file Decreto nº 85.306.txt.\n",
      ">>> Applying regular text splitter in file Decreto nº 86.084.txt.\n",
      ">>> Applying regular text splitter in file Decreto nº 86.365.txt.\n",
      ">>> Applying regular text splitter in file Decreto nº 87.563.txt.\n",
      ">>> Applying regular text splitter in file Documento de Informação e Apuração do ITR (Diat).txt.\n",
      ">>> Applying regular text splitter in file IN RFB nº 1.500, de 2014.txt.\n",
      ">>> Applying regular text splitter in file Instrução Normativa RFB nº 1.037.txt.\n",
      ">>> Applying regular text splitter in file Instrução Normativa RFB nº 1.500.txt.\n"
     ]
    },
    {
     "name": "stderr",
     "output_type": "stream",
     "text": [
      "Processing all referred legal documents:  26%|█████████████████████████████████▉                                                                                                | 125/478 [00:01<00:05, 61.97it/s]"
     ]
    },
    {
     "name": "stdout",
     "output_type": "stream",
     "text": [
      ">>> Applying regular text splitter in file Instrução Normativa RFB nº 1.548.txt.\n",
      ">>> Applying regular text splitter in file Instrução Normativa RFB nº 1.558, de 31 de março de 2015.txt.\n",
      ">>> Applying regular text splitter in file Instrução Normativa RFB nº 107.txt.\n",
      ">>> Applying regular text splitter in file Instrução Normativa RFB nº 2.055.txt.\n",
      ">>> Applying regular text splitter in file Instrução Normativa RFB nº 2.060.txt.\n",
      ">>> Applying regular text splitter in file Instrução Normativa RFB nº 208.txt.\n"
     ]
    },
    {
     "name": "stderr",
     "output_type": "stream",
     "text": [
      "Processing all referred legal documents:  32%|█████████████████████████████████████████▌                                                                                        | 153/478 [00:02<00:05, 58.63it/s]"
     ]
    },
    {
     "name": "stdout",
     "output_type": "stream",
     "text": [
      ">>> Applying regular text splitter in file Instrução Normativa RFB nº 256.txt.\n",
      ">>> Applying regular text splitter in file Instrução Normativa RFB nº 67.txt.\n",
      ">>> Applying regular text splitter in file Instrução Normativa SRF nº 84, de 20 de dezembro de 1979.txt.\n"
     ]
    },
    {
     "name": "stderr",
     "output_type": "stream",
     "text": [
      "Processing all referred legal documents:  37%|████████████████████████████████████████████████▍                                                                                 | 178/478 [00:02<00:05, 57.16it/s]"
     ]
    },
    {
     "name": "stdout",
     "output_type": "stream",
     "text": [
      ">>> Applying regular text splitter in file Lei nº 10.865.txt.\n",
      ">>> Applying regular text splitter in file Lei nº 11.196.txt.\n"
     ]
    },
    {
     "name": "stderr",
     "output_type": "stream",
     "text": [
      "Processing all referred legal documents:  39%|██████████████████████████████████████████████████▊                                                                               | 187/478 [00:02<00:05, 56.61it/s]"
     ]
    },
    {
     "name": "stdout",
     "output_type": "stream",
     "text": [
      ">>> Applying regular text splitter in file Lei nº 11.437.txt.\n",
      ">>> Applying regular text splitter in file Lei nº 11.941.txt.\n",
      ">>> Applying regular text splitter in file Lei nº 11.945.txt.\n"
     ]
    },
    {
     "name": "stderr",
     "output_type": "stream",
     "text": [
      "Processing all referred legal documents:  41%|█████████████████████████████████████████████████████                                                                             | 195/478 [00:03<00:05, 50.53it/s]"
     ]
    },
    {
     "name": "stdout",
     "output_type": "stream",
     "text": [
      ">>> Applying regular text splitter in file Lei nº 12.249.txt.\n",
      ">>> Applying regular text splitter in file Lei nº 12.350.txt.\n",
      ">>> Applying regular text splitter in file Lei nº 12.715.txt.\n",
      ">>> Applying regular text splitter in file Lei nº 12.794.txt.\n"
     ]
    },
    {
     "name": "stderr",
     "output_type": "stream",
     "text": [
      "Processing all referred legal documents:  42%|██████████████████████████████████████████████████████▉                                                                           | 202/478 [00:03<00:06, 42.33it/s]"
     ]
    },
    {
     "name": "stdout",
     "output_type": "stream",
     "text": [
      ">>> Applying regular text splitter in file Lei nº 12.871.txt.\n",
      ">>> Applying regular text splitter in file Lei nº 12.973.txt.\n",
      ">>> Applying regular text splitter in file Lei nº 123.txt.\n",
      ">>> Applying regular text splitter in file Lei nº 13.043.txt.\n",
      ">>> Applying regular text splitter in file Lei nº 13.097.txt.\n"
     ]
    },
    {
     "name": "stderr",
     "output_type": "stream",
     "text": [
      "Processing all referred legal documents:  45%|███████████████████████████████████████████████████████████                                                                       | 217/478 [00:03<00:06, 39.28it/s]"
     ]
    },
    {
     "name": "stdout",
     "output_type": "stream",
     "text": [
      ">>> Applying regular text splitter in file Lei nº 13.149.txt.\n",
      ">>> Applying regular text splitter in file Lei nº 14.119.txt.\n",
      ">>> Applying regular text splitter in file Lei nº 14.286.txt.\n",
      ">>> Applying regular text splitter in file Lei nº 167.txt.\n",
      ">>> Applying regular text splitter in file Lei nº 2.579.txt.\n",
      ">>> Applying regular text splitter in file Lei nº 4.504.txt.\n"
     ]
    },
    {
     "name": "stderr",
     "output_type": "stream",
     "text": [
      "Processing all referred legal documents:  47%|████████████████████████████████████████████████████████████▋                                                                     | 223/478 [00:03<00:06, 41.52it/s]"
     ]
    },
    {
     "name": "stdout",
     "output_type": "stream",
     "text": [
      ">>> Applying regular text splitter in file Lei nº 4.591.txt.\n",
      ">>> Applying regular text splitter in file Lei nº 4.862.txt.\n",
      ">>> Applying regular text splitter in file Lei nº 4.886.txt.\n",
      ">>> Applying regular text splitter in file Lei nº 5.172.txt.\n"
     ]
    },
    {
     "name": "stderr",
     "output_type": "stream",
     "text": [
      "Processing all referred legal documents:  48%|██████████████████████████████████████████████████████████████▎                                                                   | 229/478 [00:04<00:08, 30.62it/s]"
     ]
    },
    {
     "name": "stdout",
     "output_type": "stream",
     "text": [
      ">>> Applying regular text splitter in file Lei nº 5.452.txt.\n",
      ">>> Applying regular text splitter in file Lei nº 5.809.txt.\n",
      ">>> Applying regular text splitter in file Lei nº 5.844.txt.\n"
     ]
    },
    {
     "name": "stderr",
     "output_type": "stream",
     "text": [
      "Processing all referred legal documents:  49%|███████████████████████████████████████████████████████████████▋                                                                  | 234/478 [00:04<00:09, 25.98it/s]"
     ]
    },
    {
     "name": "stdout",
     "output_type": "stream",
     "text": [
      ">>> Applying regular text splitter in file Lei nº 6.015.txt.\n",
      ">>> Applying regular text splitter in file Lei nº 7.713.txt.\n"
     ]
    },
    {
     "name": "stderr",
     "output_type": "stream",
     "text": [
      "Processing all referred legal documents:  53%|████████████████████████████████████████████████████████████████████▌                                                             | 252/478 [00:04<00:05, 43.04it/s]"
     ]
    },
    {
     "name": "stdout",
     "output_type": "stream",
     "text": [
      ">>> Applying regular text splitter in file Lei nº 8.112.txt.\n",
      ">>> Applying regular text splitter in file Lei nº 8.383.txt.\n"
     ]
    },
    {
     "name": "stderr",
     "output_type": "stream",
     "text": [
      "Processing all referred legal documents:  56%|████████████████████████████████████████████████████████████████████████▎                                                         | 266/478 [00:04<00:04, 51.49it/s]"
     ]
    },
    {
     "name": "stdout",
     "output_type": "stream",
     "text": [
      ">>> Applying regular text splitter in file Lei nº 9.250, de 26 de dezembro de 1995.txt.\n",
      ">>> Applying regular text splitter in file Lei nº 9.504.txt.\n"
     ]
    },
    {
     "name": "stderr",
     "output_type": "stream",
     "text": [
      "Processing all referred legal documents:  59%|████████████████████████████████████████████████████████████████████████████▋                                                     | 282/478 [00:05<00:03, 51.58it/s]"
     ]
    },
    {
     "name": "stdout",
     "output_type": "stream",
     "text": [
      ">>> Applying regular text splitter in file Lei nº 9.615.txt.\n",
      ">>> Applying regular text splitter in file Medida Provisória nº 2.189.txt.\n",
      ">>> Applying regular text splitter in file Medida Provisória nº 670, de 10 de março de 2015.txt.\n",
      ">>> Applying regular text splitter in file Nota PGFN CRJ nº 1.040 2015.txt.\n",
      ">>> Applying regular text splitter in file Nota PGFN CRJ nº 1.549 2012.txt.\n",
      ">>> Applying regular text splitter in file Nota PGFN CRJ nº 981 2015.txt.\n",
      ">>> Applying regular text splitter in file Nota PGFNCRJ nº 1.114, de 14 de junho de 2012.txt.\n",
      ">>> Applying regular text splitter in file PMF nº 227, de 1980.txt.\n",
      ">>> Applying regular text splitter in file PMF nº 454, de 1977.txt.\n",
      ">>> Applying regular text splitter in file PMF nº 80, de 1979.txt.\n",
      ">>> Applying regular text splitter in file Parecer Normativo CST nº 1, de 4 de fevereiro de 1985.txt.\n",
      ">>> Applying regular text splitter in file Parecer Normativo CST nº 10, de 17 de agosto de 1992.txt.\n",
      ">>> Applying regular text splitter in file Parecer Normativo CST nº 122, de 8 de junho de 1974.txt.\n",
      ">>> Applying regular text splitter in file Parecer Normativo CST nº 173, de 26 de setembro de 1974.txt.\n",
      ">>> Applying regular text splitter in file Parecer Normativo CST nº 2, de 15 de janeiro de 1980.txt.\n",
      ">>> Applying regular text splitter in file Parecer Normativo CST nº 250, de 15 de março de 1971.txt.\n",
      ">>> Applying regular text splitter in file Parecer Normativo CST nº 28, de 29 de dezembro de 1983.txt.\n"
     ]
    },
    {
     "name": "stderr",
     "output_type": "stream",
     "text": [
      "Processing all referred legal documents:  69%|█████████████████████████████████████████████████████████████████████████████████████████▎                                       | 331/478 [00:05<00:01, 124.47it/s]"
     ]
    },
    {
     "name": "stdout",
     "output_type": "stream",
     "text": [
      ">>> Applying regular text splitter in file Parecer Normativo CST nº 32, de 17 de agosto de 1981.txt.\n",
      ">>> Applying regular text splitter in file Parecer Normativo CST nº 36, de 30 de maio de 1977.txt.\n",
      ">>> Applying regular text splitter in file Parecer Normativo CST nº 6, de 19 de fevereiro de 1986.txt.\n",
      ">>> Applying regular text splitter in file Parecer Normativo CST nº 60, de 20 de junho de 1978.txt.\n",
      ">>> Applying regular text splitter in file Parecer Normativo CST nº 62, de 31 de agosto de 1976.txt.\n",
      ">>> Applying regular text splitter in file Parecer Normativo CST nº 66, de 5 de setembro de 1986.txt.\n",
      ">>> Applying regular text splitter in file Parecer Normativo CST nº 68, de 14 de setembro de 1976.txt.\n",
      ">>> Applying regular text splitter in file Parecer Normativo CST nº 72, de 1979.txt.\n",
      ">>> Applying regular text splitter in file Parecer Normativo CST nº 90, de 16 de outubro de 1978.txt.\n",
      ">>> Applying regular text splitter in file Parecer Normativo Cosit nº 1, de 24 de setembro de 2002.txt.\n",
      ">>> Applying regular text splitter in file Parecer Normativo Cosit nº 1, de 8 de agosto de 1995.txt.\n",
      ">>> Applying regular text splitter in file Parecer Normativo Cosit nº 3, de 28 de agosto de 1996.txt.\n",
      ">>> Applying regular text splitter in file Parecer Normativo Cosit nº 4, de 3 de novembro de 1995.txt.\n",
      ">>> Applying regular text splitter in file Parecer Normativo Cosit nº 6, de 4 de agosto de 2014.txt.\n",
      ">>> Applying regular text splitter in file Parecer PGFN nº 2118 2011.txt.\n",
      ">>> Applying regular text splitter in file Parecer PGFN nº 2683 2008.txt.\n",
      ">>> Applying regular text splitter in file Parecer PGFN nº 701 2016.txt.\n",
      ">>> Applying regular text splitter in file Parecer PGFNCAT nº 1.503, de 19 de julho de 2010, aprovado pelo Ministro de Estado da Fazenda em 26 de julho de 2010.txt.\n",
      ">>> Applying regular text splitter in file Parecer PGFNCAT nº 815 2010.txt.\n",
      ">>> Applying regular text splitter in file Parecer PGFNCRJ Nº 2271 2013.txt.\n",
      ">>> Applying regular text splitter in file Parecer SEI Nº 110 2018 CRJPGACETPGFN-MF, aprovado pelo Despacho nº 3482020PGFN-ME, de 26 de agosto de 2020.txt.\n",
      ">>> Applying regular text splitter in file Parecer SEI nº 110 2018 CRJPGACETPGFN-MF.txt.\n"
     ]
    },
    {
     "name": "stderr",
     "output_type": "stream",
     "text": [
      "Processing all referred legal documents:  72%|██████████████████████████████████████████████████████████████████████████████████████████████                                    | 346/478 [00:05<00:01, 93.86it/s]"
     ]
    },
    {
     "name": "stdout",
     "output_type": "stream",
     "text": [
      ">>> Applying regular text splitter in file Parecer nº 93 2018 DECOR CGU AGU.txt.\n",
      ">>> Applying regular text splitter in file Portaria Conjunta SRFTSE nº 74, de 10 de janeiro de 2006.txt.\n",
      ">>> Applying regular text splitter in file Portaria nº 277.txt.\n",
      ">>> Applying regular text splitter in file REsp nº 1.306.393DF_ Tema Repetitivo nº 535.txt.\n",
      ">>> Applying regular text splitter in file Resolução CGPC nº 26, de 29 de setembro de 2008.txt.\n",
      ">>> Applying regular text splitter in file Resolução CGSN nº 140, de 22 de maio de 2018.txt.\n",
      ">>> Applying regular text splitter in file Resolução TSE nº 22.250, de 2006.txt.\n",
      ">>> Applying regular text splitter in file Sistema de Recolhimento Mensal Obrigatório (Carnê-Leão).txt.\n",
      ">>> Applying regular text splitter in file Solução de Consulta Cosit nº 105.txt.\n",
      ">>> Applying regular text splitter in file Solução de Consulta Cosit nº 115.txt.\n",
      ">>> Applying regular text splitter in file Solução de Consulta Cosit nº 135.txt.\n"
     ]
    },
    {
     "name": "stderr",
     "output_type": "stream",
     "text": [
      "Processing all referred legal documents: 100%|██████████████████████████████████████████████████████████████████████████████████████████████████████████████████████████████████| 478/478 [00:05<00:00, 80.03it/s]"
     ]
    },
    {
     "name": "stdout",
     "output_type": "stream",
     "text": [
      ">>> Applying regular text splitter in file Solução de Consulta Cosit nº 144.txt.\n",
      ">>> Applying regular text splitter in file Solução de Consulta Cosit nº 15.txt.\n",
      ">>> Applying regular text splitter in file Solução de Consulta Cosit nº 173.txt.\n",
      ">>> Applying regular text splitter in file Solução de Consulta Cosit nº 181.txt.\n",
      ">>> Applying regular text splitter in file Solução de Consulta Cosit nº 206.txt.\n",
      ">>> Applying regular text splitter in file Solução de Consulta Cosit nº 256.txt.\n",
      ">>> Applying regular text splitter in file Solução de Consulta Cosit nº 264, de 24 de junho de 2019.txt.\n",
      ">>> Applying regular text splitter in file Solução de Consulta Cosit nº 264, de 25 de setembro de 2019.txt.\n",
      ">>> Applying regular text splitter in file Solução de Consulta Cosit nº 48, de 24 de março de 2021.txt.\n",
      ">>> Applying regular text splitter in file Solução de Consulta Cosit nº 60, de 23 de junho de 2020.txt.\n",
      ">>> Applying regular text splitter in file Solução de Consulta Cosit nº 63.txt.\n",
      ">>> Applying regular text splitter in file Solução de Consulta Cosit nº 64.txt.\n",
      ">>> Applying regular text splitter in file Solução de Consulta Cosit nº 66.txt.\n",
      ">>> Applying regular text splitter in file Solução de Consulta Cosit nº 674.txt.\n",
      ">>> Applying regular text splitter in file Solução de Consulta Cosit nº 69.txt.\n",
      ">>> Applying regular text splitter in file Solução de Consulta Cosit nº 72.txt.\n",
      ">>> Applying regular text splitter in file Solução de Consulta Cosit nº 75.txt.\n",
      ">>> Applying regular text splitter in file Solução de Consulta Interna Cosit nº 12, de 15 de maio de 2013.txt.\n",
      ">>> Applying regular text splitter in file Solução de Consulta Interna Cosit nº 6, de 18 de maio de 2015.txt.\n",
      ">>> Applying regular text splitter in file Solução de Consulta SRRF03Disit nº 15, de 9 de março de 2009.txt.\n",
      ">>> Applying regular text splitter in file Solução de Consulta SRRF06Disit nº 6.007, de 25 de março de 2019.txt.\n",
      ">>> Applying regular text splitter in file Súmula Carf nº 42.txt.\n",
      ">>> Applying regular text splitter in file Súmula nº 125 do Superior Tribunal de Justiça (STJ).txt.\n",
      ">>> Applying regular text splitter in file Súmula nº 136 do Superior Tribunal de Justiça (STJ).txt.\n"
     ]
    },
    {
     "name": "stderr",
     "output_type": "stream",
     "text": [
      "\n"
     ]
    }
   ],
   "source": [
    "applied_splitter = []\n",
    "passages_referred_docs = []\n",
    "\n",
    "for filename, doc in tqdm(normas_json.items(), desc=\"Processing all referred legal documents\"):\n",
    "    # print(f\"Processing file: {filename}\")\n",
    "    \n",
    "    # Remove a extensão \".txt\" do nome do arquivo\n",
    "    doc_name = filename.replace(\".txt\", \"\")\n",
    "\n",
    "    # First try applying the hierarchical splitter\n",
    "    chunks = hierarchical_text_splitter.split_text(doc)\n",
    "    passages = []\n",
    "    current_path = \"\"\n",
    "\n",
    "    flatten_passages_hierarchy(chunks, current_path, passages)\n",
    "    \n",
    "    # print(chunks.keys())\n",
    "    \n",
    "    total_statistics = tokens_counter.passages_statistics([passage['passage'] for passage in passages])\n",
    "\n",
    "    # print(total_statistics)\n",
    "\n",
    "    #\n",
    "    # Check if there are indications the hierarchical splitter did not work\n",
    "    # verifying if there is any chunk longer than the maximum size.\n",
    "    #\n",
    "    \n",
    "    if total_statistics['max_tokens'] > 512:\n",
    "        # For such document, apply a regular text splitter.\n",
    "        \n",
    "        print(f\">>> Applying regular text splitter in file {filename}.\")\n",
    "\n",
    "        chunks = text_splitter.split_text(doc)\n",
    "        applied_splitter.append({'filename': filename,\n",
    "                                 'splitter': 'text'})\n",
    "\n",
    "        for passage in chunks:\n",
    "            # Formata cada chunk com o nome do arquivo e o conteúdo\n",
    "            passage_with_path = \"{}: {}\".format(doc_name, passage)\n",
    "            passages_referred_docs.append(passage_with_path)    \n",
    "    else:\n",
    "        applied_splitter.append({'filename': filename,\n",
    "                                 'splitter': 'hierarchical'})\n",
    "    \n",
    "        for passage in passages:\n",
    "            # Formata cada chunk com o nome do arquivo e o conteúdo\n",
    "            passage_with_path = \"{}: {}\".format(doc_name + \"_\" + passage['path'], passage['passage'])\n",
    "            passages_referred_docs.append(passage_with_path)"
   ]
  },
  {
   "cell_type": "code",
   "execution_count": 112,
   "id": "763e310e-bc34-4abd-99f7-16c76ad361ae",
   "metadata": {},
   "outputs": [],
   "source": [
    "splitter_df = pd.DataFrame(applied_splitter)"
   ]
  },
  {
   "cell_type": "code",
   "execution_count": 113,
   "id": "641aefcc-a1eb-4be1-9173-3ed5dda5be95",
   "metadata": {},
   "outputs": [
    {
     "data": {
      "text/html": [
       "<div>\n",
       "<style scoped>\n",
       "    .dataframe tbody tr th:only-of-type {\n",
       "        vertical-align: middle;\n",
       "    }\n",
       "\n",
       "    .dataframe tbody tr th {\n",
       "        vertical-align: top;\n",
       "    }\n",
       "\n",
       "    .dataframe thead th {\n",
       "        text-align: right;\n",
       "    }\n",
       "</style>\n",
       "<table border=\"1\" class=\"dataframe\">\n",
       "  <thead>\n",
       "    <tr style=\"text-align: right;\">\n",
       "      <th></th>\n",
       "      <th>filename</th>\n",
       "    </tr>\n",
       "    <tr>\n",
       "      <th>splitter</th>\n",
       "      <th></th>\n",
       "    </tr>\n",
       "  </thead>\n",
       "  <tbody>\n",
       "    <tr>\n",
       "      <th>hierarchical</th>\n",
       "      <td>319</td>\n",
       "    </tr>\n",
       "    <tr>\n",
       "      <th>text</th>\n",
       "      <td>159</td>\n",
       "    </tr>\n",
       "  </tbody>\n",
       "</table>\n",
       "</div>"
      ],
      "text/plain": [
       "              filename\n",
       "splitter              \n",
       "hierarchical       319\n",
       "text               159"
      ]
     },
     "execution_count": 113,
     "metadata": {},
     "output_type": "execute_result"
    }
   ],
   "source": [
    "splitter_df.groupby(\"splitter\").count()"
   ]
  },
  {
   "cell_type": "code",
   "execution_count": 114,
   "id": "b3a31ac2-2ca6-4e39-8505-20031ca19ff6",
   "metadata": {},
   "outputs": [
    {
     "data": {
      "text/plain": [
       "27900"
      ]
     },
     "execution_count": 114,
     "metadata": {},
     "output_type": "execute_result"
    }
   ],
   "source": [
    "len(passages_referred_docs)"
   ]
  },
  {
   "cell_type": "code",
   "execution_count": 115,
   "id": "8dfc56e3-42bf-49ef-be58-77f853a4d150",
   "metadata": {},
   "outputs": [
    {
     "data": {
      "text/plain": [
       "27900"
      ]
     },
     "execution_count": 115,
     "metadata": {},
     "output_type": "execute_result"
    }
   ],
   "source": [
    "len(passages_referred_docs)"
   ]
  },
  {
   "cell_type": "markdown",
   "id": "a91b9d4a-12fe-4350-81d7-d8dd6d836435",
   "metadata": {},
   "source": [
    "#### Check data statistics"
   ]
  },
  {
   "cell_type": "code",
   "execution_count": 116,
   "id": "e60bbca1-5158-4554-9f3c-021c1f9c6510",
   "metadata": {},
   "outputs": [
    {
     "data": {
      "text/plain": [
       "{'max_tokens': 971,\n",
       " 'min_tokens': 15,\n",
       " 'mean_tokens': 157.3652688172043,\n",
       " 'std_tokens': 108.53451531127307,\n",
       " 'skewness_tokens': 1.2022322856693686,\n",
       " 'kurtosis_tokens': 2.812744568385634,\n",
       " 'median_tokens': 121.0,\n",
       " 'max_token_passage': 18865}"
      ]
     },
     "execution_count": 116,
     "metadata": {},
     "output_type": "execute_result"
    }
   ],
   "source": [
    "tokens_counter.passages_statistics(passages_referred_docs)"
   ]
  },
  {
   "cell_type": "code",
   "execution_count": 117,
   "id": "d345bc57-f9e4-4f2e-922a-da27d0d0ebbb",
   "metadata": {},
   "outputs": [],
   "source": [
    "import pickle"
   ]
  },
  {
   "cell_type": "code",
   "execution_count": 118,
   "id": "50cb020f-b140-4fd7-b2a7-a6c4518bdb6e",
   "metadata": {},
   "outputs": [],
   "source": [
    "with open(DATA_PATH + \"chunks_complete_normas_new_20250310.pkl\", \"wb\") as output_file:\n",
    "    pickle.dump({\"passages\": passages_referred_docs,\n",
    "                 \"splitter\": applied_splitter}, output_file, pickle.HIGHEST_PROTOCOL)"
   ]
  },
  {
   "cell_type": "code",
   "execution_count": null,
   "id": "2196a376-3738-490d-bec2-307471d83afa",
   "metadata": {},
   "outputs": [],
   "source": []
  }
 ],
 "metadata": {
  "kernelspec": {
   "display_name": "Python 3 (ipykernel)",
   "language": "python",
   "name": "python3"
  },
  "language_info": {
   "codemirror_mode": {
    "name": "ipython",
    "version": 3
   },
   "file_extension": ".py",
   "mimetype": "text/x-python",
   "name": "python",
   "nbconvert_exporter": "python",
   "pygments_lexer": "ipython3",
   "version": "3.10.14"
  }
 },
 "nbformat": 4,
 "nbformat_minor": 5
}
