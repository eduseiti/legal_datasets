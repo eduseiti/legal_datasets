{
 "cells": [
  {
   "cell_type": "code",
   "execution_count": 1,
   "id": "5fb570e4-78ef-43eb-a27f-48a2067c2db3",
   "metadata": {},
   "outputs": [],
   "source": [
    "import re\n",
    "import json\n",
    "import os"
   ]
  },
  {
   "cell_type": "code",
   "execution_count": 25,
   "id": "03891b97-5956-4bcc-ba54-081092eabf98",
   "metadata": {},
   "outputs": [],
   "source": [
    "import pandas as pd"
   ]
  },
  {
   "cell_type": "code",
   "execution_count": 2,
   "id": "1c71656c-7a36-4167-8118-a55f0023ed3c",
   "metadata": {},
   "outputs": [],
   "source": [
    "%load_ext autoreload\n",
    "%autoreload 2"
   ]
  },
  {
   "cell_type": "code",
   "execution_count": 14,
   "id": "ee35475d-d05e-4a70-a48f-332f88398205",
   "metadata": {},
   "outputs": [],
   "source": [
    "from legal_document_splitter import *"
   ]
  },
  {
   "cell_type": "code",
   "execution_count": 4,
   "id": "f2bdb3ea-d198-4ddf-bd18-2eee59edd64a",
   "metadata": {},
   "outputs": [],
   "source": [
    "DATA_PATH=\"data/\""
   ]
  },
  {
   "cell_type": "code",
   "execution_count": 5,
   "id": "9fba395b-d287-4daf-9342-f1a061cbbc7b",
   "metadata": {},
   "outputs": [],
   "source": [
    "json_normas_path = DATA_PATH + 'normas_full.json'\n",
    "\n",
    "with open(json_normas_path, 'r') as file:\n",
    "    normas_json = json.load(file)\n",
    "\n",
    "normas = list(normas_json.values())"
   ]
  },
  {
   "cell_type": "code",
   "execution_count": 6,
   "id": "1f2d73f9-c486-4da5-aab8-5116d085ab65",
   "metadata": {
    "scrolled": true
   },
   "outputs": [
    {
     "data": {
      "text/plain": [
       "dict_keys(['Ato Declaratório Cosar nº 47.txt', 'Ato Declaratório Interpretativo RFB nº 1.txt', 'Ato Declaratório Interpretativo SRF nº 2.txt', 'Ato Declaratório Interpretativo SRF nº 24.txt', 'Ato Declaratório Interpretativo SRF nº 5.txt', 'Ato Declaratório PGFN nº 1.txt', 'Ato Declaratório PGFN nº 13.txt', 'Ato Declaratório PGFN nº 14.txt', 'Ato Declaratório PGFN nº 2.txt', 'Ato Declaratório PGFN nº 3.txt', 'Ato Declaratório PGFN nº 4.txt', 'Ato Declaratório PGFN nº 5.txt', 'Ato Declaratório PGFN nº 6 DE 2006.txt', 'Ato Declaratório PGFN nº 6 DE 2008.txt', 'Ato Declaratório PGFN nº 9.txt', 'Ato Declaratório RFB nº 16.txt', 'Ato Declaratório RFB nº 18.txt', 'Ato Declaratório RFB nº 3.txt', 'Ato Declaratório SRF nº 14.txt', 'Ato Declaratório SRF nº 16.txt', 'Ato Declaratório SRF nº 22.txt', 'Ato Declaratório SRF nº 26.txt', 'Ato Declaratório SRF nº 28.txt', 'Ato Declaratório SRF nº 3.txt', 'Ato Declaratório SRF nº 48.txt', 'Ato Declaratório SRF nº 7.txt', 'Ato Declaratório SRF nº 8.txt', 'Ato Declaratório SRF nº 84.txt', 'Ato Declaratório SRF nº 95.txt', 'Ato Declaratório SRF nº 96.txt', 'Decreto nº 21.177.txt', 'Decreto nº 27.784.txt', 'Decreto nº 3.000.txt', 'Decreto nº 361.txt', 'Decreto nº 4.897.txt', 'Decreto nº 5.128.txt', 'Decreto nº 50.656.txt', 'Decreto nº 52.288.txt', 'Decreto nº 56.435.txt', 'Decreto nº 57.784.txt', 'Decreto nº 57.942.txt', 'Decreto nº 59.308.txt', 'Decreto nº 59.309.txt', 'Decreto nº 59.566.txt', 'Decreto nº 61.078.txt', 'Decreto nº 62.125.txt', 'Decreto nº 63.151.txt', 'Decreto nº 67.542.txt', 'Decreto nº 70.951.txt', 'Decreto nº 71.733.txt', 'Decreto nº 75.102.txt', 'Decreto nº 8.289.txt', 'Decreto nº 8.624.txt', 'Decreto nº 85.306.txt', 'Decreto nº 85.801.txt', 'Decreto nº 86.006.txt', 'Decreto nº 86.084.txt', 'Decreto nº 86.365.txt', 'Decreto nº 87.563.txt', 'Decreto nº 93.153.txt', 'Decreto nº 95.711.txt', 'Instrução Normativa RFB nº 1.037.txt', 'Instrução Normativa RFB nº 1.131.txt', 'Instrução Normativa RFB nº 1.343.txt', 'Instrução Normativa RFB nº 1.500.txt', 'Instrução Normativa RFB nº 1.531.txt', 'Instrução Normativa RFB nº 1.548.txt', 'Instrução Normativa RFB nº 1.585.txt', 'Instrução Normativa RFB nº 1.627.txt', 'Instrução Normativa RFB nº 1.645.txt', 'Instrução Normativa RFB nº 1.704.txt', 'Instrução Normativa RFB nº 1.717.txt', 'Instrução Normativa RFB nº 1.888.txt', 'Instrução Normativa RFB nº 107.txt', 'Instrução Normativa RFB nº 118.txt', 'Instrução Normativa RFB nº 165.txt', 'Instrução Normativa RFB nº 2.055.txt', 'Instrução Normativa RFB nº 2.060.txt', 'Instrução Normativa RFB nº 2.066.txt', 'Instrução Normativa RFB nº 2.172.txt', 'Instrução Normativa RFB nº 2.178.txt', 'Instrução Normativa RFB nº 2.180.txt', 'Instrução Normativa RFB nº 208.txt', 'Instrução Normativa RFB nº 256.txt', 'Instrução Normativa RFB nº 283.txt', 'Instrução Normativa RFB nº 588.txt', 'Instrução Normativa RFB nº 599.txt', 'Instrução Normativa RFB nº 67.txt', 'Instrução Normativa RFB nº 698.txt', 'Instrução Normativa RFB nº 76.txt', 'Instrução Normativa RFB nº 81.txt', 'Instrução Normativa RFB nº 83.txt', 'Instrução Normativa RFB nº 84.txt', 'Instrução Normativa RFB nº 936.txt', 'Lei nº 1.301.txt', 'Lei nº 1.381.txt', 'Lei nº 1.428.txt', 'Lei nº 1.493.txt', 'Lei nº 1.510.txt', 'Lei nº 1.535.txt', 'Lei nº 10.101.txt', 'Lei nº 10.200.txt', 'Lei nº 10.406.txt', 'Lei nº 10.451.txt', 'Lei nº 10.522.txt', 'Lei nº 10.559.txt', 'Lei nº 10.698.txt', 'Lei nº 10.741.txt', 'Lei nº 10.833.txt', 'Lei nº 10.865.txt', 'Lei nº 10.973.txt', 'Lei nº 109.txt', 'Lei nº 11.033.txt', 'Lei nº 11.051.txt', 'Lei nº 11.053.txt', 'Lei nº 11.196.txt', 'Lei nº 11.312.txt', 'Lei nº 11.324.txt', 'Lei nº 11.437.txt', 'Lei nº 11.438.txt', 'Lei nº 11.472.txt', 'Lei nº 11.482.txt', 'Lei nº 11.524.txt', 'Lei nº 11.727.txt', 'Lei nº 11.773.txt', 'Lei nº 11.795.txt', 'Lei nº 11.941.txt', 'Lei nº 11.945.txt', 'Lei nº 12.024.txt', 'Lei nº 12.190.txt', 'Lei nº 12.249.txt', 'Lei nº 12.350.txt', 'Lei nº 12.431.txt', 'Lei nº 12.469.txt', 'Lei nº 12.513.txt', 'Lei nº 12.594.txt', 'Lei nº 12.618.txt', 'Lei nº 12.715.txt', 'Lei nº 12.794.txt', 'Lei nº 12.832.txt', 'Lei nº 12.871.txt', 'Lei nº 12.973.txt', 'Lei nº 123.txt', 'Lei nº 13.043.txt', 'Lei nº 13.097.txt', 'Lei nº 13.105.txt', 'Lei nº 13.149.txt', 'Lei nº 13.254.txt', 'Lei nº 13.259.txt', 'Lei nº 13.315.txt', 'Lei nº 13.428.txt', 'Lei nº 13.466.txt', 'Lei nº 13.800.txt', 'Lei nº 14.119.txt', 'Lei nº 14.260.txt', 'Lei nº 14.286.txt', 'Lei nº 14.754.txt', 'Lei nº 167.txt', 'Lei nº 2.396.txt', 'Lei nº 2.579.txt', 'Lei nº 271.txt', 'Lei nº 4.242.txt', 'Lei nº 4.504.txt', 'Lei nº 4.506.txt', 'Lei nº 4.591.txt', 'Lei nº 4.862.txt', 'Lei nº 4.886.txt', 'Lei nº 5.172.txt', 'Lei nº 5.452.txt', 'Lei nº 5.809.txt', 'Lei nº 5.844.txt', 'Lei nº 58.txt', 'Lei nº 6.015.txt', 'Lei nº 6.404.txt', 'Lei nº 6.766.txt', 'Lei nº 7.070.txt', 'Lei nº 7.290.txt', 'Lei nº 7.713.txt', 'Lei nº 7.739.txt', 'Lei nº 8.023.txt', 'Lei nº 8.036.txt', 'Lei nº 8.059.txt', 'Lei nº 8.069.txt', 'Lei nº 8.112.txt', 'Lei nº 8.134.txt', 'Lei nº 8.242.txt', 'Lei nº 8.313.txt', 'Lei nº 8.383.txt', 'Lei nº 8.541.txt', 'Lei nº 8.668.txt', 'Lei nº 8.685.txt', 'Lei nº 8.794.txt', 'Lei nº 8.795.txt', 'Lei nº 8.852.txt', 'Lei nº 8.891.txt', 'Lei nº 8.929.txt', 'Lei nº 8.971.txt', 'Lei nº 8.981.txt', 'Lei nº 9.003.txt', 'Lei nº 9.096.txt', 'Lei nº 9.140.txt', 'Lei nº 9.249.txt', 'Lei nº 9.250.txt', 'Lei nº 9.278.txt', 'Lei nº 9.307.txt', 'Lei nº 9.393.txt', 'Lei nº 9.394.txt', 'Lei nº 9.430.txt', 'Lei nº 9.468.txt', 'Lei nº 9.481.txt', 'Lei nº 9.504.txt', 'Lei nº 9.532.txt', 'Lei nº 9.615.txt', 'Lei nº 9.718.txt', 'Lei nº 9.779.txt', 'Lei nº 9.784.txt', 'Lei nº 9.959.txt', 'Lei nº 9250.txt', 'Medida Provisória nº 2.158.txt', 'Medida Provisória nº 2.159.txt', 'Medida Provisória nº 2.189.txt', 'Medida Provisória nº 2.228.txt', 'Medida Provisória nº 252.txt', 'Nota PGFN nº 1.1042017.txt', 'Nota PGFN nº 1.5492012.txt', 'Nota PGFNCRJ nº 1.0402015.txt', 'Nota PGFNCRJ nº 9812015.txt', 'Nota SEI nº 482018CRJPGACETPGFN-MF.txt', 'Parecer PGFN nº 1.8882008.txt', 'Parecer PGFN nº 21182011.txt', 'Parecer PGFN nº 26832008.txt', 'Parecer PGFN nº 7012016.txt', 'Parecer PGFNCRJ Nº 22712013.txt', 'Parecer SEI nº 1102018CRJPGACETPGFN-MF.txt', 'Portaria nº 277.txt', 'RIR2018.txt', 'Solução de Consulta Cosit nº 100.txt', 'Solução de Consulta Cosit nº 102.txt', 'Solução de Consulta Cosit nº 105.txt', 'Solução de Consulta Cosit nº 106.txt', 'Solução de Consulta Cosit nº 111.txt', 'Solução de Consulta Cosit nº 114.txt', 'Solução de Consulta Cosit nº 115.txt', 'Solução de Consulta Cosit nº 116.txt', 'Solução de Consulta Cosit nº 122.txt', 'Solução de Consulta Cosit nº 123.txt', 'Solução de Consulta Cosit nº 125.txt', 'Solução de Consulta Cosit nº 134.txt', 'Solução de Consulta Cosit nº 135.txt', 'Solução de Consulta Cosit nº 138.txt', 'Solução de Consulta Cosit nº 14.txt', 'Solução de Consulta Cosit nº 140.txt', 'Solução de Consulta Cosit nº 142.txt', 'Solução de Consulta Cosit nº 144.txt', 'Solução de Consulta Cosit nº 147.txt', 'Solução de Consulta Cosit nº 15.txt', 'Solução de Consulta Cosit nº 152.txt', 'Solução de Consulta Cosit nº 153.txt', 'Solução de Consulta Cosit nº 157.txt', 'Solução de Consulta Cosit nº 159.txt', 'Solução de Consulta Cosit nº 161.txt', 'Solução de Consulta Cosit nº 162.txt', 'Solução de Consulta Cosit nº 164.txt', 'Solução de Consulta Cosit nº 166.txt', 'Solução de Consulta Cosit nº 167.txt', 'Solução de Consulta Cosit nº 17.txt', 'Solução de Consulta Cosit nº 171.txt', 'Solução de Consulta Cosit nº 173.txt', 'Solução de Consulta Cosit nº 179.txt', 'Solução de Consulta Cosit nº 180.txt', 'Solução de Consulta Cosit nº 181.txt', 'Solução de Consulta Cosit nº 183.txt', 'Solução de Consulta Cosit nº 19.txt', 'Solução de Consulta Cosit nº 194.txt', 'Solução de Consulta Cosit nº 200.txt', 'Solução de Consulta Cosit nº 201.txt', 'Solução de Consulta Cosit nº 202.txt', 'Solução de Consulta Cosit nº 204.txt', 'Solução de Consulta Cosit nº 206.txt', 'Solução de Consulta Cosit nº 207.txt', 'Solução de Consulta Cosit nº 208.txt', 'Solução de Consulta Cosit nº 209.txt', 'Solução de Consulta Cosit nº 211.txt', 'Solução de Consulta Cosit nº 214.txt', 'Solução de Consulta Cosit nº 215.txt', 'Solução de Consulta Cosit nº 217.txt', 'Solução de Consulta Cosit nº 218.txt', 'Solução de Consulta Cosit nº 221.txt', 'Solução de Consulta Cosit nº 224.txt', 'Solução de Consulta Cosit nº 23.txt', 'Solução de Consulta Cosit nº 231.txt', 'Solução de Consulta Cosit nº 240.txt', 'Solução de Consulta Cosit nº 256.txt', 'Solução de Consulta Cosit nº 261.txt', 'Solução de Consulta Cosit nº 264.txt', 'Solução de Consulta Cosit nº 284.txt', 'Solução de Consulta Cosit nº 309.txt', 'Solução de Consulta Cosit nº 313.txt', 'Solução de Consulta Cosit nº 320.txt', 'Solução de Consulta Cosit nº 325.txt', 'Solução de Consulta Cosit nº 33.txt', 'Solução de Consulta Cosit nº 337.txt', 'Solução de Consulta Cosit nº 354.txt', 'Solução de Consulta Cosit nº 356.txt', 'Solução de Consulta Cosit nº 361.txt', 'Solução de Consulta Cosit nº 4.txt', 'Solução de Consulta Cosit nº 42.txt', 'Solução de Consulta Cosit nº 48.txt', 'Solução de Consulta Cosit nº 50.txt', 'Solução de Consulta Cosit nº 503.txt', 'Solução de Consulta Cosit nº 53.txt', 'Solução de Consulta Cosit nº 6.txt', 'Solução de Consulta Cosit nº 60.txt', 'Solução de Consulta Cosit nº 600.txt', 'Solução de Consulta Cosit nº 63.txt', 'Solução de Consulta Cosit nº 64.txt', 'Solução de Consulta Cosit nº 656.txt', 'Solução de Consulta Cosit nº 66.txt', 'Solução de Consulta Cosit nº 665.txt', 'Solução de Consulta Cosit nº 674.txt', 'Solução de Consulta Cosit nº 69.txt', 'Solução de Consulta Cosit nº 7.txt', 'Solução de Consulta Cosit nº 70.txt', 'Solução de Consulta Cosit nº 72.txt', 'Solução de Consulta Cosit nº 73.txt', 'Solução de Consulta Cosit nº 75.txt', 'Solução de Consulta Cosit nº 76.txt', 'Solução de Consulta Cosit nº 79.txt', 'Solução de Consulta Cosit nº 81.txt', 'Solução de Consulta Cosit nº 82.txt', 'Solução de Consulta Cosit nº 92.txt', 'Solução de Consulta Cosit nº 98.txt'])"
      ]
     },
     "execution_count": 6,
     "metadata": {},
     "output_type": "execute_result"
    }
   ],
   "source": [
    "normas_json.keys()"
   ]
  },
  {
   "cell_type": "code",
   "execution_count": 7,
   "id": "c12ef8d6-8551-4001-b27b-bfaf45265c99",
   "metadata": {},
   "outputs": [],
   "source": [
    "hierarchical_text_splitter = HierachicalRecursiveCharacterTextSplitter(\n",
    "    separators=LEGISLATION_SPLITTING_HIERARCHY_BRAZIL,\n",
    "    is_separator_regex=True,\n",
    "    chunk_size=1000,  # Tamanho máximo do chunk em caracteres\n",
    "    chunk_overlap=100,  # Sobreposição entre chunks para contexto\n",
    "    apply_chunk_size=6 # Separator index to start applying the chunk size check.\n",
    ")"
   ]
  },
  {
   "cell_type": "code",
   "execution_count": 18,
   "id": "191f5ddb-d9b0-4b9d-9f44-627aaeb995d4",
   "metadata": {},
   "outputs": [],
   "source": [
    "text_splitter = RecursiveCharacterTextSplitter(\n",
    "    chunk_size=1000,  # Tamanho máximo do chunk em caracteres\n",
    "    chunk_overlap=100,  # Sobreposição entre chunks para contexto\n",
    ")"
   ]
  },
  {
   "cell_type": "code",
   "execution_count": 15,
   "id": "f03d4a6d-5dd1-4d26-a340-ced0d6d6ba01",
   "metadata": {},
   "outputs": [],
   "source": [
    "tokens_counter = tokensCounter(\"stjiris/bert-large-portuguese-cased-legal-tsdae\")"
   ]
  },
  {
   "cell_type": "markdown",
   "id": "69899ed5-d489-432c-9e55-68b21571be2d",
   "metadata": {},
   "source": [
    "### Process (segmentation and flattening) all the referenced documents"
   ]
  },
  {
   "cell_type": "code",
   "execution_count": 16,
   "id": "f8890f9a-b152-408c-a290-7c7a6d776cc8",
   "metadata": {},
   "outputs": [],
   "source": [
    "from tqdm import tqdm"
   ]
  },
  {
   "cell_type": "code",
   "execution_count": 29,
   "id": "248fa739-26e3-4ebf-bb92-5d39fffde269",
   "metadata": {
    "scrolled": true
   },
   "outputs": [
    {
     "name": "stderr",
     "output_type": "stream",
     "text": [
      "Processing all referred legal documents:   0%|                                                                                                                          | 0/332 [00:00<?, ?it/s]/opt/conda/lib/python3.10/site-packages/scipy/stats/_stats_py.py:1087: RuntimeWarning: divide by zero encountered in divide\n",
      "  var *= np.divide(n, n-ddof)  # to avoid error on division by zero\n",
      "/opt/conda/lib/python3.10/site-packages/scipy/stats/_stats_py.py:1087: RuntimeWarning: invalid value encountered in scalar multiply\n",
      "  var *= np.divide(n, n-ddof)  # to avoid error on division by zero\n",
      "Processing all referred legal documents:   5%|██████                                                                                                          | 18/332 [00:00<00:01, 159.66it/s]"
     ]
    },
    {
     "name": "stdout",
     "output_type": "stream",
     "text": [
      ">>> Applying regular text splitter in file Ato Declaratório PGFN nº 1.txt.\n",
      ">>> Applying regular text splitter in file Ato Declaratório PGFN nº 6 DE 2006.txt.\n",
      ">>> Applying regular text splitter in file Ato Declaratório PGFN nº 9.txt.\n",
      ">>> Applying regular text splitter in file Ato Declaratório RFB nº 3.txt.\n",
      ">>> Applying regular text splitter in file Decreto nº 21.177.txt.\n"
     ]
    },
    {
     "name": "stderr",
     "output_type": "stream",
     "text": [
      "Processing all referred legal documents:  13%|██████████████▎                                                                                                  | 42/332 [00:01<00:08, 35.19it/s]"
     ]
    },
    {
     "name": "stdout",
     "output_type": "stream",
     "text": [
      ">>> Applying regular text splitter in file Decreto nº 3.000.txt.\n",
      ">>> Applying regular text splitter in file Decreto nº 5.128.txt.\n",
      ">>> Applying regular text splitter in file Decreto nº 50.656.txt.\n",
      ">>> Applying regular text splitter in file Decreto nº 52.288.txt.\n",
      ">>> Applying regular text splitter in file Decreto nº 56.435.txt.\n",
      ">>> Applying regular text splitter in file Decreto nº 57.784.txt.\n",
      ">>> Applying regular text splitter in file Decreto nº 57.942.txt.\n",
      ">>> Applying regular text splitter in file Decreto nº 59.308.txt.\n",
      ">>> Applying regular text splitter in file Decreto nº 59.309.txt.\n"
     ]
    },
    {
     "name": "stderr",
     "output_type": "stream",
     "text": [
      "Processing all referred legal documents:  15%|████████████████▋                                                                                                | 49/332 [00:01<00:07, 35.87it/s]"
     ]
    },
    {
     "name": "stdout",
     "output_type": "stream",
     "text": [
      ">>> Applying regular text splitter in file Decreto nº 59.566.txt.\n",
      ">>> Applying regular text splitter in file Decreto nº 61.078.txt.\n",
      ">>> Applying regular text splitter in file Decreto nº 62.125.txt.\n",
      ">>> Applying regular text splitter in file Decreto nº 67.542.txt.\n",
      ">>> Applying regular text splitter in file Decreto nº 70.951.txt.\n",
      ">>> Applying regular text splitter in file Decreto nº 71.733.txt.\n",
      ">>> Applying regular text splitter in file Decreto nº 75.102.txt.\n"
     ]
    },
    {
     "name": "stderr",
     "output_type": "stream",
     "text": [
      "Processing all referred legal documents:  17%|██████████████████▋                                                                                              | 55/332 [00:01<00:07, 35.81it/s]"
     ]
    },
    {
     "name": "stdout",
     "output_type": "stream",
     "text": [
      ">>> Applying regular text splitter in file Decreto nº 8.289.txt.\n",
      ">>> Applying regular text splitter in file Decreto nº 8.624.txt.\n",
      ">>> Applying regular text splitter in file Decreto nº 85.306.txt.\n",
      ">>> Applying regular text splitter in file Decreto nº 86.084.txt.\n",
      ">>> Applying regular text splitter in file Decreto nº 86.365.txt.\n",
      ">>> Applying regular text splitter in file Decreto nº 87.563.txt.\n",
      ">>> Applying regular text splitter in file Instrução Normativa RFB nº 1.037.txt.\n"
     ]
    },
    {
     "name": "stderr",
     "output_type": "stream",
     "text": [
      "Processing all referred legal documents:  19%|█████████████████████▍                                                                                           | 63/332 [00:01<00:06, 38.88it/s]"
     ]
    },
    {
     "name": "stdout",
     "output_type": "stream",
     "text": [
      ">>> Applying regular text splitter in file Instrução Normativa RFB nº 1.131.txt.\n",
      ">>> Applying regular text splitter in file Instrução Normativa RFB nº 1.500.txt.\n",
      ">>> Applying regular text splitter in file Instrução Normativa RFB nº 1.548.txt.\n"
     ]
    },
    {
     "name": "stderr",
     "output_type": "stream",
     "text": [
      "Processing all referred legal documents:  20%|███████████████████████▏                                                                                         | 68/332 [00:02<00:10, 24.62it/s]"
     ]
    },
    {
     "name": "stdout",
     "output_type": "stream",
     "text": [
      ">>> Applying regular text splitter in file Instrução Normativa RFB nº 1.585.txt.\n"
     ]
    },
    {
     "name": "stderr",
     "output_type": "stream",
     "text": [
      "Processing all referred legal documents:  23%|██████████████████████████▏                                                                                      | 77/332 [00:02<00:10, 25.21it/s]"
     ]
    },
    {
     "name": "stdout",
     "output_type": "stream",
     "text": [
      ">>> Applying regular text splitter in file Instrução Normativa RFB nº 1.717.txt.\n",
      ">>> Applying regular text splitter in file Instrução Normativa RFB nº 107.txt.\n",
      ">>> Applying regular text splitter in file Instrução Normativa RFB nº 2.055.txt.\n",
      ">>> Applying regular text splitter in file Instrução Normativa RFB nº 2.060.txt.\n"
     ]
    },
    {
     "name": "stderr",
     "output_type": "stream",
     "text": [
      "Processing all referred legal documents:  24%|███████████████████████████▌                                                                                     | 81/332 [00:02<00:09, 26.81it/s]"
     ]
    },
    {
     "name": "stdout",
     "output_type": "stream",
     "text": [
      ">>> Applying regular text splitter in file Instrução Normativa RFB nº 2.172.txt.\n",
      ">>> Applying regular text splitter in file Instrução Normativa RFB nº 208.txt.\n"
     ]
    },
    {
     "name": "stderr",
     "output_type": "stream",
     "text": [
      "Processing all referred legal documents:  27%|██████████████████████████████▉                                                                                  | 91/332 [00:03<00:09, 25.28it/s]"
     ]
    },
    {
     "name": "stdout",
     "output_type": "stream",
     "text": [
      ">>> Applying regular text splitter in file Instrução Normativa RFB nº 256.txt.\n",
      ">>> Applying regular text splitter in file Instrução Normativa RFB nº 588.txt.\n",
      ">>> Applying regular text splitter in file Instrução Normativa RFB nº 67.txt.\n",
      ">>> Applying regular text splitter in file Instrução Normativa RFB nº 81.txt.\n"
     ]
    },
    {
     "name": "stderr",
     "output_type": "stream",
     "text": [
      "Processing all referred legal documents:  31%|███████████████████████████████████                                                                             | 104/332 [00:03<00:06, 34.17it/s]"
     ]
    },
    {
     "name": "stdout",
     "output_type": "stream",
     "text": [
      ">>> Applying regular text splitter in file Lei nº 1.510.txt.\n",
      ">>> Applying regular text splitter in file Lei nº 10.522.txt.\n",
      ">>> Applying regular text splitter in file Lei nº 10.559.txt.\n",
      ">>> Applying regular text splitter in file Lei nº 10.741.txt.\n"
     ]
    },
    {
     "name": "stderr",
     "output_type": "stream",
     "text": [
      "Processing all referred legal documents:  33%|████████████████████████████████████▊                                                                           | 109/332 [00:03<00:08, 25.51it/s]"
     ]
    },
    {
     "name": "stdout",
     "output_type": "stream",
     "text": [
      ">>> Applying regular text splitter in file Lei nº 10.833.txt.\n",
      ">>> Applying regular text splitter in file Lei nº 10.865.txt.\n"
     ]
    },
    {
     "name": "stderr",
     "output_type": "stream",
     "text": [
      "Processing all referred legal documents:  34%|██████████████████████████████████████                                                                          | 113/332 [00:03<00:11, 19.77it/s]"
     ]
    },
    {
     "name": "stdout",
     "output_type": "stream",
     "text": [
      ">>> Applying regular text splitter in file Lei nº 109.txt.\n",
      ">>> Applying regular text splitter in file Lei nº 11.033.txt.\n"
     ]
    },
    {
     "name": "stderr",
     "output_type": "stream",
     "text": [
      "Processing all referred legal documents:  35%|███████████████████████████████████████▏                                                                        | 116/332 [00:04<00:13, 16.59it/s]"
     ]
    },
    {
     "name": "stdout",
     "output_type": "stream",
     "text": [
      ">>> Applying regular text splitter in file Lei nº 11.196.txt.\n"
     ]
    },
    {
     "name": "stderr",
     "output_type": "stream",
     "text": [
      "Processing all referred legal documents:  37%|█████████████████████████████████████████▊                                                                      | 124/332 [00:04<00:11, 18.70it/s]"
     ]
    },
    {
     "name": "stdout",
     "output_type": "stream",
     "text": [
      ">>> Applying regular text splitter in file Lei nº 11.437.txt.\n",
      ">>> Applying regular text splitter in file Lei nº 11.524.txt.\n",
      ">>> Applying regular text splitter in file Lei nº 11.727.txt.\n"
     ]
    },
    {
     "name": "stderr",
     "output_type": "stream",
     "text": [
      "Processing all referred legal documents:  38%|██████████████████████████████████████████▊                                                                     | 127/332 [00:04<00:10, 19.23it/s]"
     ]
    },
    {
     "name": "stdout",
     "output_type": "stream",
     "text": [
      ">>> Applying regular text splitter in file Lei nº 11.941.txt.\n",
      ">>> Applying regular text splitter in file Lei nº 11.945.txt.\n"
     ]
    },
    {
     "name": "stderr",
     "output_type": "stream",
     "text": [
      "Processing all referred legal documents:  39%|████████████████████████████████████████████▏                                                                   | 131/332 [00:05<00:11, 17.64it/s]"
     ]
    },
    {
     "name": "stdout",
     "output_type": "stream",
     "text": [
      ">>> Applying regular text splitter in file Lei nº 12.249.txt.\n",
      ">>> Applying regular text splitter in file Lei nº 12.350.txt.\n",
      ">>> Applying regular text splitter in file Lei nº 12.431.txt.\n"
     ]
    },
    {
     "name": "stderr",
     "output_type": "stream",
     "text": [
      "Processing all referred legal documents:  41%|█████████████████████████████████████████████▉                                                                  | 136/332 [00:05<00:11, 16.92it/s]"
     ]
    },
    {
     "name": "stdout",
     "output_type": "stream",
     "text": [
      ">>> Applying regular text splitter in file Lei nº 12.469.txt.\n",
      ">>> Applying regular text splitter in file Lei nº 12.594.txt.\n"
     ]
    },
    {
     "name": "stderr",
     "output_type": "stream",
     "text": [
      "Processing all referred legal documents:  42%|██████████████████████████████████████████████▌                                                                 | 138/332 [00:05<00:12, 15.52it/s]"
     ]
    },
    {
     "name": "stdout",
     "output_type": "stream",
     "text": [
      ">>> Applying regular text splitter in file Lei nº 12.715.txt.\n",
      ">>> Applying regular text splitter in file Lei nº 12.794.txt.\n"
     ]
    },
    {
     "name": "stderr",
     "output_type": "stream",
     "text": [
      "Processing all referred legal documents:  43%|███████████████████████████████████████████████▉                                                                | 142/332 [00:05<00:12, 15.28it/s]"
     ]
    },
    {
     "name": "stdout",
     "output_type": "stream",
     "text": [
      ">>> Applying regular text splitter in file Lei nº 12.973.txt.\n",
      ">>> Applying regular text splitter in file Lei nº 123.txt.\n"
     ]
    },
    {
     "name": "stderr",
     "output_type": "stream",
     "text": [
      "Processing all referred legal documents:  43%|████████████████████████████████████████████████▌                                                               | 144/332 [00:06<00:17, 10.99it/s]"
     ]
    },
    {
     "name": "stdout",
     "output_type": "stream",
     "text": [
      ">>> Applying regular text splitter in file Lei nº 13.043.txt.\n",
      ">>> Applying regular text splitter in file Lei nº 13.097.txt.\n"
     ]
    },
    {
     "name": "stderr",
     "output_type": "stream",
     "text": [
      "Processing all referred legal documents:  46%|███████████████████████████████████████████████████▌                                                            | 153/332 [00:07<00:14, 12.54it/s]"
     ]
    },
    {
     "name": "stdout",
     "output_type": "stream",
     "text": [
      ">>> Applying regular text splitter in file Lei nº 13.149.txt.\n",
      ">>> Applying regular text splitter in file Lei nº 14.119.txt.\n",
      ">>> Applying regular text splitter in file Lei nº 14.286.txt.\n"
     ]
    },
    {
     "name": "stderr",
     "output_type": "stream",
     "text": [
      "Processing all referred legal documents:  49%|██████████████████████████████████████████████████████▋                                                         | 162/332 [00:07<00:08, 18.94it/s]"
     ]
    },
    {
     "name": "stdout",
     "output_type": "stream",
     "text": [
      ">>> Applying regular text splitter in file Lei nº 167.txt.\n",
      ">>> Applying regular text splitter in file Lei nº 2.579.txt.\n",
      ">>> Applying regular text splitter in file Lei nº 4.242.txt.\n",
      ">>> Applying regular text splitter in file Lei nº 4.504.txt.\n"
     ]
    },
    {
     "name": "stderr",
     "output_type": "stream",
     "text": [
      "Processing all referred legal documents:  50%|████████████████████████████████████████████████████████                                                        | 166/332 [00:07<00:10, 16.13it/s]"
     ]
    },
    {
     "name": "stdout",
     "output_type": "stream",
     "text": [
      ">>> Applying regular text splitter in file Lei nº 4.506.txt.\n",
      ">>> Applying regular text splitter in file Lei nº 4.591.txt.\n",
      ">>> Applying regular text splitter in file Lei nº 4.862.txt.\n",
      ">>> Applying regular text splitter in file Lei nº 4.886.txt.\n",
      ">>> Applying regular text splitter in file Lei nº 5.172.txt.\n"
     ]
    },
    {
     "name": "stderr",
     "output_type": "stream",
     "text": [
      "Processing all referred legal documents:  52%|█████████████████████████████████████████████████████████▋                                                      | 171/332 [00:08<00:16,  9.53it/s]"
     ]
    },
    {
     "name": "stdout",
     "output_type": "stream",
     "text": [
      ">>> Applying regular text splitter in file Lei nº 5.452.txt.\n",
      ">>> Applying regular text splitter in file Lei nº 5.809.txt.\n",
      ">>> Applying regular text splitter in file Lei nº 5.844.txt.\n"
     ]
    },
    {
     "name": "stderr",
     "output_type": "stream",
     "text": [
      "Processing all referred legal documents:  52%|██████████████████████████████████████████████████████████▎                                                     | 173/332 [00:08<00:17,  9.14it/s]"
     ]
    },
    {
     "name": "stdout",
     "output_type": "stream",
     "text": [
      ">>> Applying regular text splitter in file Lei nº 6.015.txt.\n"
     ]
    },
    {
     "name": "stderr",
     "output_type": "stream",
     "text": [
      "Processing all referred legal documents:  54%|████████████████████████████████████████████████████████████▍                                                   | 179/332 [00:09<00:13, 10.95it/s]"
     ]
    },
    {
     "name": "stdout",
     "output_type": "stream",
     "text": [
      ">>> Applying regular text splitter in file Lei nº 6.404.txt.\n",
      ">>> Applying regular text splitter in file Lei nº 7.713.txt.\n"
     ]
    },
    {
     "name": "stderr",
     "output_type": "stream",
     "text": [
      "Processing all referred legal documents:  55%|█████████████████████████████████████████████████████████████▋                                                  | 183/332 [00:09<00:11, 12.48it/s]"
     ]
    },
    {
     "name": "stdout",
     "output_type": "stream",
     "text": [
      ">>> Applying regular text splitter in file Lei nº 8.036.txt.\n",
      ">>> Applying regular text splitter in file Lei nº 8.069.txt.\n"
     ]
    },
    {
     "name": "stderr",
     "output_type": "stream",
     "text": [
      "Processing all referred legal documents:  56%|██████████████████████████████████████████████████████████████▍                                                 | 185/332 [00:09<00:11, 12.83it/s]"
     ]
    },
    {
     "name": "stdout",
     "output_type": "stream",
     "text": [
      ">>> Applying regular text splitter in file Lei nº 8.112.txt.\n",
      ">>> Applying regular text splitter in file Lei nº 8.313.txt.\n"
     ]
    },
    {
     "name": "stderr",
     "output_type": "stream",
     "text": [
      "Processing all referred legal documents:  58%|████████████████████████████████████████████████████████████████▍                                               | 191/332 [00:10<00:08, 16.19it/s]"
     ]
    },
    {
     "name": "stdout",
     "output_type": "stream",
     "text": [
      ">>> Applying regular text splitter in file Lei nº 8.383.txt.\n",
      ">>> Applying regular text splitter in file Lei nº 8.685.txt.\n",
      ">>> Applying regular text splitter in file Lei nº 8.852.txt.\n"
     ]
    },
    {
     "name": "stderr",
     "output_type": "stream",
     "text": [
      "Processing all referred legal documents:  60%|██████████████████████████████████████████████████████████████████▊                                             | 198/332 [00:10<00:07, 17.77it/s]"
     ]
    },
    {
     "name": "stdout",
     "output_type": "stream",
     "text": [
      ">>> Applying regular text splitter in file Lei nº 8.891.txt.\n",
      ">>> Applying regular text splitter in file Lei nº 8.981.txt.\n"
     ]
    },
    {
     "name": "stderr",
     "output_type": "stream",
     "text": [
      "Processing all referred legal documents:  61%|████████████████████████████████████████████████████████████████████▏                                           | 202/332 [00:10<00:07, 16.87it/s]"
     ]
    },
    {
     "name": "stdout",
     "output_type": "stream",
     "text": [
      ">>> Applying regular text splitter in file Lei nº 9.096.txt.\n",
      ">>> Applying regular text splitter in file Lei nº 9.249.txt.\n"
     ]
    },
    {
     "name": "stderr",
     "output_type": "stream",
     "text": [
      "Processing all referred legal documents:  62%|█████████████████████████████████████████████████████████████████████▍                                          | 206/332 [00:11<00:07, 17.60it/s]"
     ]
    },
    {
     "name": "stdout",
     "output_type": "stream",
     "text": [
      ">>> Applying regular text splitter in file Lei nº 9.250.txt.\n"
     ]
    },
    {
     "name": "stderr",
     "output_type": "stream",
     "text": [
      "Processing all referred legal documents:  63%|██████████████████████████████████████████████████████████████████████▏                                         | 208/332 [00:11<00:12, 10.07it/s]"
     ]
    },
    {
     "name": "stdout",
     "output_type": "stream",
     "text": [
      ">>> Applying regular text splitter in file Lei nº 9.430.txt.\n"
     ]
    },
    {
     "name": "stderr",
     "output_type": "stream",
     "text": [
      "Processing all referred legal documents:  64%|███████████████████████████████████████████████████████████████████████▏                                        | 211/332 [00:11<00:12,  9.72it/s]"
     ]
    },
    {
     "name": "stdout",
     "output_type": "stream",
     "text": [
      ">>> Applying regular text splitter in file Lei nº 9.504.txt.\n",
      ">>> Applying regular text splitter in file Lei nº 9.532.txt.\n"
     ]
    },
    {
     "name": "stderr",
     "output_type": "stream",
     "text": [
      "Processing all referred legal documents:  65%|████████████████████████████████████████████████████████████████████████▊                                       | 216/332 [00:12<00:09, 11.90it/s]"
     ]
    },
    {
     "name": "stdout",
     "output_type": "stream",
     "text": [
      ">>> Applying regular text splitter in file Lei nº 9.615.txt.\n",
      ">>> Applying regular text splitter in file Lei nº 9.779.txt.\n",
      ">>> Applying regular text splitter in file Lei nº 9250.txt.\n"
     ]
    },
    {
     "name": "stderr",
     "output_type": "stream",
     "text": [
      "Processing all referred legal documents:  67%|██████████████████████████████████████████████████████████████████████████▉                                     | 222/332 [00:12<00:07, 15.24it/s]"
     ]
    },
    {
     "name": "stdout",
     "output_type": "stream",
     "text": [
      ">>> Applying regular text splitter in file Medida Provisória nº 2.158.txt.\n",
      ">>> Applying regular text splitter in file Medida Provisória nº 2.228.txt.\n"
     ]
    },
    {
     "name": "stderr",
     "output_type": "stream",
     "text": [
      "Processing all referred legal documents:  69%|█████████████████████████████████████████████████████████████████████████████▌                                  | 230/332 [00:12<00:04, 23.63it/s]"
     ]
    },
    {
     "name": "stdout",
     "output_type": "stream",
     "text": [
      ">>> Applying regular text splitter in file Medida Provisória nº 252.txt.\n",
      ">>> Applying regular text splitter in file Nota PGFN nº 1.1042017.txt.\n",
      ">>> Applying regular text splitter in file Nota PGFN nº 1.5492012.txt.\n",
      ">>> Applying regular text splitter in file Nota PGFNCRJ nº 1.0402015.txt.\n",
      ">>> Applying regular text splitter in file Nota PGFNCRJ nº 9812015.txt.\n",
      ">>> Applying regular text splitter in file Nota SEI nº 482018CRJPGACETPGFN-MF.txt.\n",
      ">>> Applying regular text splitter in file Parecer PGFN nº 1.8882008.txt.\n",
      ">>> Applying regular text splitter in file Parecer PGFN nº 21182011.txt.\n",
      ">>> Applying regular text splitter in file Parecer PGFN nº 26832008.txt.\n"
     ]
    },
    {
     "name": "stderr",
     "output_type": "stream",
     "text": [
      "Processing all referred legal documents:  71%|███████████████████████████████████████████████████████████████████████████████▎                                | 235/332 [00:12<00:03, 28.72it/s]"
     ]
    },
    {
     "name": "stdout",
     "output_type": "stream",
     "text": [
      ">>> Applying regular text splitter in file Parecer PGFN nº 7012016.txt.\n",
      ">>> Applying regular text splitter in file Parecer PGFNCRJ Nº 22712013.txt.\n",
      ">>> Applying regular text splitter in file Parecer SEI nº 1102018CRJPGACETPGFN-MF.txt.\n",
      ">>> Applying regular text splitter in file Portaria nº 277.txt.\n"
     ]
    },
    {
     "name": "stderr",
     "output_type": "stream",
     "text": [
      "Processing all referred legal documents:  79%|████████████████████████████████████████████████████████████████████████████████████████▍                       | 262/332 [00:14<00:03, 22.37it/s]"
     ]
    },
    {
     "name": "stdout",
     "output_type": "stream",
     "text": [
      ">>> Applying regular text splitter in file RIR2018.txt.\n",
      ">>> Applying regular text splitter in file Solução de Consulta Cosit nº 100.txt.\n",
      ">>> Applying regular text splitter in file Solução de Consulta Cosit nº 105.txt.\n",
      ">>> Applying regular text splitter in file Solução de Consulta Cosit nº 115.txt.\n",
      ">>> Applying regular text splitter in file Solução de Consulta Cosit nº 123.txt.\n",
      ">>> Applying regular text splitter in file Solução de Consulta Cosit nº 134.txt.\n",
      ">>> Applying regular text splitter in file Solução de Consulta Cosit nº 135.txt.\n",
      ">>> Applying regular text splitter in file Solução de Consulta Cosit nº 138.txt.\n",
      ">>> Applying regular text splitter in file Solução de Consulta Cosit nº 14.txt.\n",
      ">>> Applying regular text splitter in file Solução de Consulta Cosit nº 140.txt.\n",
      ">>> Applying regular text splitter in file Solução de Consulta Cosit nº 144.txt.\n",
      ">>> Applying regular text splitter in file Solução de Consulta Cosit nº 147.txt.\n",
      ">>> Applying regular text splitter in file Solução de Consulta Cosit nº 15.txt.\n",
      ">>> Applying regular text splitter in file Solução de Consulta Cosit nº 157.txt.\n",
      ">>> Applying regular text splitter in file Solução de Consulta Cosit nº 167.txt.\n",
      ">>> Applying regular text splitter in file Solução de Consulta Cosit nº 173.txt.\n",
      ">>> Applying regular text splitter in file Solução de Consulta Cosit nº 181.txt.\n",
      ">>> Applying regular text splitter in file Solução de Consulta Cosit nº 19.txt.\n",
      ">>> Applying regular text splitter in file Solução de Consulta Cosit nº 194.txt.\n"
     ]
    },
    {
     "name": "stderr",
     "output_type": "stream",
     "text": [
      "Processing all referred legal documents:  93%|████████████████████████████████████████████████████████████████████████████████████████████████████████▏       | 309/332 [00:14<00:00, 64.16it/s]"
     ]
    },
    {
     "name": "stdout",
     "output_type": "stream",
     "text": [
      ">>> Applying regular text splitter in file Solução de Consulta Cosit nº 206.txt.\n",
      ">>> Applying regular text splitter in file Solução de Consulta Cosit nº 209.txt.\n",
      ">>> Applying regular text splitter in file Solução de Consulta Cosit nº 211.txt.\n",
      ">>> Applying regular text splitter in file Solução de Consulta Cosit nº 214.txt.\n",
      ">>> Applying regular text splitter in file Solução de Consulta Cosit nº 240.txt.\n",
      ">>> Applying regular text splitter in file Solução de Consulta Cosit nº 256.txt.\n",
      ">>> Applying regular text splitter in file Solução de Consulta Cosit nº 313.txt.\n",
      ">>> Applying regular text splitter in file Solução de Consulta Cosit nº 354.txt.\n",
      ">>> Applying regular text splitter in file Solução de Consulta Cosit nº 356.txt.\n",
      ">>> Applying regular text splitter in file Solução de Consulta Cosit nº 48.txt.\n",
      ">>> Applying regular text splitter in file Solução de Consulta Cosit nº 6.txt.\n",
      ">>> Applying regular text splitter in file Solução de Consulta Cosit nº 60.txt.\n",
      ">>> Applying regular text splitter in file Solução de Consulta Cosit nº 63.txt.\n",
      ">>> Applying regular text splitter in file Solução de Consulta Cosit nº 64.txt.\n",
      ">>> Applying regular text splitter in file Solução de Consulta Cosit nº 66.txt.\n",
      ">>> Applying regular text splitter in file Solução de Consulta Cosit nº 674.txt.\n",
      ">>> Applying regular text splitter in file Solução de Consulta Cosit nº 69.txt.\n",
      ">>> Applying regular text splitter in file Solução de Consulta Cosit nº 7.txt.\n",
      ">>> Applying regular text splitter in file Solução de Consulta Cosit nº 70.txt.\n",
      ">>> Applying regular text splitter in file Solução de Consulta Cosit nº 72.txt.\n",
      ">>> Applying regular text splitter in file Solução de Consulta Cosit nº 75.txt.\n",
      ">>> Applying regular text splitter in file Solução de Consulta Cosit nº 76.txt.\n"
     ]
    },
    {
     "name": "stderr",
     "output_type": "stream",
     "text": [
      "Processing all referred legal documents: 100%|████████████████████████████████████████████████████████████████████████████████████████████████████████████████| 332/332 [00:14<00:00, 22.42it/s]"
     ]
    },
    {
     "name": "stdout",
     "output_type": "stream",
     "text": [
      ">>> Applying regular text splitter in file Solução de Consulta Cosit nº 79.txt.\n",
      ">>> Applying regular text splitter in file Solução de Consulta Cosit nº 82.txt.\n"
     ]
    },
    {
     "name": "stderr",
     "output_type": "stream",
     "text": [
      "\n"
     ]
    }
   ],
   "source": [
    "applied_splitter = []\n",
    "passages_referred_docs = []\n",
    "\n",
    "for filename, doc in tqdm(normas_json.items(), desc=\"Processing all referred legal documents\"):\n",
    "    # print(f\"Processing file: {filename}\")\n",
    "    \n",
    "    # Remove a extensão \".txt\" do nome do arquivo\n",
    "    doc_name = filename.replace(\".txt\", \"\")\n",
    "\n",
    "    # First try applying the hierarchical splitter\n",
    "    chunks = hierarchical_text_splitter.split_text(doc)\n",
    "    passages = []\n",
    "    current_path = \"\"\n",
    "\n",
    "    flatten_passages_hierarchy(chunks, current_path, passages)\n",
    "    \n",
    "    # print(chunks.keys())\n",
    "    \n",
    "    total_statistics = tokens_counter.passages_statistics([passage['passage'] for passage in passages])\n",
    "\n",
    "    # print(total_statistics)\n",
    "\n",
    "    #\n",
    "    # Check if there are indications the hierarchical splitter did not work\n",
    "    # verifying if there is any chunk longer than the maximum size.\n",
    "    #\n",
    "    \n",
    "    if total_statistics['max_tokens'] > 512:\n",
    "        # For such document, apply a regular text splitter.\n",
    "        \n",
    "        print(f\">>> Applying regular text splitter in file {filename}.\")\n",
    "\n",
    "        chunks = text_splitter.split_text(doc)\n",
    "        applied_splitter.append({'filename': filename,\n",
    "                                 'splitter': 'text'})\n",
    "\n",
    "        for passage in chunks:\n",
    "            # Formata cada chunk com o nome do arquivo e o conteúdo\n",
    "            passage_with_path = \"{}: {}\".format(doc_name, passage)\n",
    "            passages_referred_docs.append(passage_with_path)    \n",
    "    else:\n",
    "        applied_splitter.append({'filename': filename,\n",
    "                                 'splitter': 'hierarchical'})\n",
    "    \n",
    "        for passage in passages:\n",
    "            # Formata cada chunk com o nome do arquivo e o conteúdo\n",
    "            passage_with_path = \"{}: {}\".format(doc_name + \"_\" + passage['path'], passage['passage'])\n",
    "            passages_referred_docs.append(passage_with_path)"
   ]
  },
  {
   "cell_type": "code",
   "execution_count": 30,
   "id": "763e310e-bc34-4abd-99f7-16c76ad361ae",
   "metadata": {},
   "outputs": [],
   "source": [
    "splitter_df = pd.DataFrame(applied_splitter)"
   ]
  },
  {
   "cell_type": "code",
   "execution_count": 31,
   "id": "641aefcc-a1eb-4be1-9173-3ed5dda5be95",
   "metadata": {},
   "outputs": [
    {
     "data": {
      "text/html": [
       "<div>\n",
       "<style scoped>\n",
       "    .dataframe tbody tr th:only-of-type {\n",
       "        vertical-align: middle;\n",
       "    }\n",
       "\n",
       "    .dataframe tbody tr th {\n",
       "        vertical-align: top;\n",
       "    }\n",
       "\n",
       "    .dataframe thead th {\n",
       "        text-align: right;\n",
       "    }\n",
       "</style>\n",
       "<table border=\"1\" class=\"dataframe\">\n",
       "  <thead>\n",
       "    <tr style=\"text-align: right;\">\n",
       "      <th></th>\n",
       "      <th>filename</th>\n",
       "    </tr>\n",
       "    <tr>\n",
       "      <th>splitter</th>\n",
       "      <th></th>\n",
       "    </tr>\n",
       "  </thead>\n",
       "  <tbody>\n",
       "    <tr>\n",
       "      <th>hierarchical</th>\n",
       "      <td>171</td>\n",
       "    </tr>\n",
       "    <tr>\n",
       "      <th>text</th>\n",
       "      <td>161</td>\n",
       "    </tr>\n",
       "  </tbody>\n",
       "</table>\n",
       "</div>"
      ],
      "text/plain": [
       "              filename\n",
       "splitter              \n",
       "hierarchical       171\n",
       "text               161"
      ]
     },
     "execution_count": 31,
     "metadata": {},
     "output_type": "execute_result"
    }
   ],
   "source": [
    "splitter_df.groupby(\"splitter\").count()"
   ]
  },
  {
   "cell_type": "code",
   "execution_count": 32,
   "id": "b3a31ac2-2ca6-4e39-8505-20031ca19ff6",
   "metadata": {},
   "outputs": [
    {
     "data": {
      "text/plain": [
       "20464"
      ]
     },
     "execution_count": 32,
     "metadata": {},
     "output_type": "execute_result"
    }
   ],
   "source": [
    "len(passages_referred_docs)"
   ]
  },
  {
   "cell_type": "code",
   "execution_count": 28,
   "id": "cf385262-a57e-4ad9-878e-843369673876",
   "metadata": {},
   "outputs": [
    {
     "data": {
      "text/html": [
       "<div>\n",
       "<style scoped>\n",
       "    .dataframe tbody tr th:only-of-type {\n",
       "        vertical-align: middle;\n",
       "    }\n",
       "\n",
       "    .dataframe tbody tr th {\n",
       "        vertical-align: top;\n",
       "    }\n",
       "\n",
       "    .dataframe thead th {\n",
       "        text-align: right;\n",
       "    }\n",
       "</style>\n",
       "<table border=\"1\" class=\"dataframe\">\n",
       "  <thead>\n",
       "    <tr style=\"text-align: right;\">\n",
       "      <th></th>\n",
       "      <th>filename</th>\n",
       "    </tr>\n",
       "    <tr>\n",
       "      <th>splitter</th>\n",
       "      <th></th>\n",
       "    </tr>\n",
       "  </thead>\n",
       "  <tbody>\n",
       "    <tr>\n",
       "      <th>hierarchical</th>\n",
       "      <td>250</td>\n",
       "    </tr>\n",
       "    <tr>\n",
       "      <th>text</th>\n",
       "      <td>82</td>\n",
       "    </tr>\n",
       "  </tbody>\n",
       "</table>\n",
       "</div>"
      ],
      "text/plain": [
       "              filename\n",
       "splitter              \n",
       "hierarchical       250\n",
       "text                82"
      ]
     },
     "execution_count": 28,
     "metadata": {},
     "output_type": "execute_result"
    }
   ],
   "source": [
    "splitter_df.groupby(\"splitter\").count()"
   ]
  },
  {
   "cell_type": "code",
   "execution_count": 23,
   "id": "8dfc56e3-42bf-49ef-be58-77f853a4d150",
   "metadata": {},
   "outputs": [
    {
     "data": {
      "text/plain": [
       "24281"
      ]
     },
     "execution_count": 23,
     "metadata": {},
     "output_type": "execute_result"
    }
   ],
   "source": [
    "len(passages_referred_docs)"
   ]
  },
  {
   "cell_type": "code",
   "execution_count": null,
   "id": "5cebcf07-52be-4276-abb2-1c00958d4440",
   "metadata": {},
   "outputs": [],
   "source": []
  },
  {
   "cell_type": "markdown",
   "id": "a91b9d4a-12fe-4350-81d7-d8dd6d836435",
   "metadata": {},
   "source": [
    "#### Check data statistics"
   ]
  },
  {
   "cell_type": "code",
   "execution_count": 24,
   "id": "e60bbca1-5158-4554-9f3c-021c1f9c6510",
   "metadata": {},
   "outputs": [
    {
     "data": {
      "text/plain": [
       "{'max_tokens': 1007,\n",
       " 'min_tokens': 18,\n",
       " 'mean_tokens': 165.15407108438697,\n",
       " 'std_tokens': 105.98080524276165,\n",
       " 'skewness_tokens': 1.5930594614675477,\n",
       " 'kurtosis_tokens': 6.1454833961628985,\n",
       " 'median_tokens': 160,\n",
       " 'max_token_passage': 3220}"
      ]
     },
     "execution_count": 24,
     "metadata": {},
     "output_type": "execute_result"
    }
   ],
   "source": [
    "tokens_counter.passages_statistics(passages_referred_docs)"
   ]
  },
  {
   "cell_type": "code",
   "execution_count": 21,
   "id": "24b56eb9-0242-45b2-b5be-a053b38d670b",
   "metadata": {},
   "outputs": [
    {
     "data": {
      "text/plain": [
       "{'max_tokens': 966,\n",
       " 'min_tokens': 19,\n",
       " 'mean_tokens': 202.92464816262705,\n",
       " 'std_tokens': 94.56423146322919,\n",
       " 'skewness_tokens': 0.8993632242460677,\n",
       " 'kurtosis_tokens': 5.14506011498575,\n",
       " 'median_tokens': 218.0,\n",
       " 'max_token_passage': 11027}"
      ]
     },
     "execution_count": 21,
     "metadata": {},
     "output_type": "execute_result"
    }
   ],
   "source": [
    "tokens_counter.passages_statistics(passages_referred_docs)"
   ]
  },
  {
   "cell_type": "code",
   "execution_count": null,
   "id": "144c078e-355d-4ee9-8943-4cd1b807fce7",
   "metadata": {},
   "outputs": [],
   "source": []
  },
  {
   "cell_type": "code",
   "execution_count": 33,
   "id": "d345bc57-f9e4-4f2e-922a-da27d0d0ebbb",
   "metadata": {},
   "outputs": [],
   "source": [
    "import pickle"
   ]
  },
  {
   "cell_type": "code",
   "execution_count": 34,
   "id": "50cb020f-b140-4fd7-b2a7-a6c4518bdb6e",
   "metadata": {},
   "outputs": [],
   "source": [
    "with open(DATA_PATH + \"chunks_normas_new_20250228.pkl\", \"wb\") as output_file:\n",
    "    pickle.dump(passages_referred_docs, output_file, pickle.HIGHEST_PROTOCOL)"
   ]
  },
  {
   "cell_type": "code",
   "execution_count": null,
   "id": "cfee7f56-c484-41f9-9f44-ba5b0dcac981",
   "metadata": {},
   "outputs": [],
   "source": []
  },
  {
   "cell_type": "code",
   "execution_count": null,
   "id": "4e991224-40db-4647-9290-d1927bf32bb9",
   "metadata": {},
   "outputs": [],
   "source": []
  },
  {
   "cell_type": "code",
   "execution_count": null,
   "id": "ce299707-c7f5-4f47-838c-466522434b33",
   "metadata": {},
   "outputs": [],
   "source": []
  },
  {
   "cell_type": "code",
   "execution_count": null,
   "id": "2196a376-3738-490d-bec2-307471d83afa",
   "metadata": {},
   "outputs": [],
   "source": []
  }
 ],
 "metadata": {
  "kernelspec": {
   "display_name": "Python 3 (ipykernel)",
   "language": "python",
   "name": "python3"
  },
  "language_info": {
   "codemirror_mode": {
    "name": "ipython",
    "version": 3
   },
   "file_extension": ".py",
   "mimetype": "text/x-python",
   "name": "python",
   "nbconvert_exporter": "python",
   "pygments_lexer": "ipython3",
   "version": "3.10.14"
  }
 },
 "nbformat": 4,
 "nbformat_minor": 5
}
