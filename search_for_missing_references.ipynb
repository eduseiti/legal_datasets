{
 "cells": [
  {
   "cell_type": "code",
   "execution_count": 1,
   "id": "65d88902-7139-45bb-a29f-67affb962733",
   "metadata": {},
   "outputs": [],
   "source": [
    "from googlesearch import search"
   ]
  },
  {
   "cell_type": "code",
   "execution_count": 29,
   "id": "06f72862-138f-4a99-aeba-da9fa9b0bc34",
   "metadata": {},
   "outputs": [],
   "source": [
    "import glob\n",
    "import os\n",
    "import pickle\n",
    "import numpy\n",
    "\n",
    "import time"
   ]
  },
  {
   "cell_type": "code",
   "execution_count": 4,
   "id": "390f9358-8cec-402a-822f-959cdc6145db",
   "metadata": {},
   "outputs": [],
   "source": [
    "%load_ext autoreload\n",
    "%autoreload 2"
   ]
  },
  {
   "cell_type": "code",
   "execution_count": 5,
   "id": "1c6a0d2a-1839-42b5-a19f-3741ea50881c",
   "metadata": {},
   "outputs": [],
   "source": [
    "DATA_PATH=\"data/\""
   ]
  },
  {
   "cell_type": "code",
   "execution_count": 6,
   "id": "485847f4-10d4-469b-87f0-19f2e2f65d76",
   "metadata": {},
   "outputs": [],
   "source": [
    "with open(DATA_PATH + \"extracted_reference_match_results_20250214.pkl\", \"rb\") as input_file:\n",
    "    references = pickle.load(input_file)"
   ]
  },
  {
   "cell_type": "code",
   "execution_count": 7,
   "id": "fffbdfbf-d81a-484c-b30e-a0dceff86124",
   "metadata": {},
   "outputs": [
    {
     "data": {
      "text/plain": [
       "dict_keys(['exact_matches', 'multiple_matches', 'file_to_reference', 'already_extracted', 'still_to_extract'])"
      ]
     },
     "execution_count": 7,
     "metadata": {},
     "output_type": "execute_result"
    }
   ],
   "source": [
    "references.keys()"
   ]
  },
  {
   "cell_type": "code",
   "execution_count": 9,
   "id": "7b5970af-d38e-4b7a-bdf5-8cb98b42b1a8",
   "metadata": {},
   "outputs": [
    {
     "data": {
      "text/plain": [
       "(160,)"
      ]
     },
     "execution_count": 9,
     "metadata": {},
     "output_type": "execute_result"
    }
   ],
   "source": [
    "references['still_to_extract'].shape"
   ]
  },
  {
   "cell_type": "code",
   "execution_count": 28,
   "id": "31331054-a472-498f-aea5-06f3bd41069e",
   "metadata": {},
   "outputs": [
    {
     "data": {
      "text/plain": [
       "array(['AD PGFN nº 3 de 18 de setembro de 2008', 'ADI RFB nº 12, de 2016',\n",
       "       'Acordo para Evitar a Dupla Tributação em Matéria de Impostos sobre a Renda e o Capital firmado entre o Brasil e a Alemanha',\n",
       "       'Acórdão do RE nº 855.091/RS (Tema 808)',\n",
       "       'Ato Declaratório (AD) PGFN nº 3, de 18 de setembro de 2008',\n",
       "       'Ato Declaratório Executivo Codac nº 23, de 4 de dezembro de 2019',\n",
       "       'Ato Declaratório Executivo RFB nº 2, de 6 de março de 2024',\n",
       "       'Ato Declaratório Executivo SRF nº 72, de 22 de dezembro de 2005',\n",
       "       'Ato Declaratório Interpretativo SRF nº 14, de 4 de maio de 2004',\n",
       "       'Ato Declaratório Normativo CST nº 10, de 1991',\n",
       "       'Ato Declaratório Normativo CST nº 11, de 1978',\n",
       "       'Ato Declaratório Normativo CST nº 16, de 27 de julho de 1979',\n",
       "       'Ato Declaratório Normativo CST nº 25, de 13 de dezembro de 1989',\n",
       "       'Ato Declaratório Normativo CST nº 29, de 25 de junho de 1986',\n",
       "       'Ato Declaratório Normativo Cosit nº 19, de 1998',\n",
       "       'Ato Declaratório Normativo Cosit nº 19, de 25 de outubro de 2000',\n",
       "       'Ato Declaratório Normativo Cosit nº 20, de 1989',\n",
       "       'Ato Declaratório Normativo Cosit nº 24, de 14 de setembro de 1999',\n",
       "       'Ato Declaratório Normativo Cosit nº 28, de 27 de dezembro de 1996',\n",
       "       'Ato Declaratório Normativo Cosit nº 7, de 13 de janeiro de 1997',\n",
       "       'Ato Declaratório Normativo Cosit nº 9, de 1º de abril de 1999',\n",
       "       'Ato Declaratório PGFN Nº 1, de 12 de março de 2018',\n",
       "       'Ato Declaratório PGFN Nº 1, de 2 de janeiro de 2014',\n",
       "       'Ato Declaratório PGFN Nº 1, de 27 de março de 2009',\n",
       "       'Ato Declaratório PGFN nº 4, de 16 de novembro de 2006',\n",
       "       'Ato Declaratório PGFN nº 5, de 3 de maio de 2016',\n",
       "       'Ato Declaratório do Presidente da Mesa do Congresso Nacional nº 38, de 14 de outubro de 2005',\n",
       "       'Ação Direta de Inconstitucionalidade (ADI) nº 5.422, do Supremo Tribunal Federal',\n",
       "       'Ação Direta de Inconstitucionalidade nº 5.583/DF do Supremo Tribunal Federal (STF)',\n",
       "       'Circular do Banco Central do Brasil nº 3.432, de 3 de fevereiro de 2009',\n",
       "       'Consolidação das Leis do Trabalho (CLT)',\n",
       "       'Constituição Federal de 1988', 'Convenção Postal Universal',\n",
       "       'Convenção de Berna da União Postal Universal (UPU)',\n",
       "       'Convenção de Viena sobre o Direito dos Tratados',\n",
       "       'Convenção de Viena, Decreto nº 56.435, de 8 de junho de 1965',\n",
       "       'Convenção sobre Privilégios e Imunidades das Agências Especializadas',\n",
       "       'Convenção sobre Privilégios e Imunidades das Nações Unidas',\n",
       "       'Convênio de Criação de um Conselho de Cooperação Aduaneira',\n",
       "       'Código Civil', 'Código Tributário Nacional (CTN)',\n",
       "       'Decisão Cosit nº 2, de 2000',\n",
       "       'Declaração de Benefícios Fiscais (DFB)',\n",
       "       'Declaração de Imposto de Renda Retido na Fonte (DIRF)',\n",
       "       'Declaração de Serviços Médicos e de Saúde (Dmed)',\n",
       "       'Declaração de informações sobre Atividades Imobiliárias (Dimob)',\n",
       "       'Declaração sobre Operações Imobiliárias (DOI)',\n",
       "       'Decreto nº 9.580, de 22 de novembro de 2018',\n",
       "       'Despacho nº 348/2020/PGFN- ME, de 26/08/2020',\n",
       "       'Documento de Informação e Apuração do ITR (Diat)',\n",
       "       'Estatuto da Criança e do Adolescente (ECA)',\n",
       "       'IN RFB nº 1.500, de 2014',\n",
       "       'Instrução Normativa RFB nº 1.505, de 05 de agosto de 2014',\n",
       "       'Instrução Normativa RFB nº 1.558, de 31 de março de 2015',\n",
       "       'Instrução Normativa RFB nº 1.997, de 21 de novembro de 2019',\n",
       "       'Instrução Normativa SRF nº 1.008, de 9 de fevereiro de 2010',\n",
       "       'Instrução Normativa SRF nº 23, de 25 de março de 1983',\n",
       "       'Instrução Normativa SRF nº 4, de 13 de janeiro de 1999',\n",
       "       'Instrução Normativa SRF nº 599, de 28 de dezembro de 2005',\n",
       "       'Instrução Normativa SRF nº 84, de 20 de dezembro de 1979',\n",
       "       'Legislação do Fundo de Garantia do Tempo de Serviço (FGTS)',\n",
       "       'Lei n° 10.406, de 10 de janeiro de 2002 - Código Civil',\n",
       "       'Lei n° 10.522, de 19 de julho de 2002',\n",
       "       'Lei nº 9.250, de 26 de dezembro de 1995',\n",
       "       'Medida Provisória nº 497, de 27 de julho de 2010',\n",
       "       'Medida Provisória nº 670, de 10 de março de 2015',\n",
       "       'Nota PGFN/CRJ nº 1.114, de 14 de junho de 2012',\n",
       "       'PMF nº 227, de 1980', 'PMF nº 454, de 1977', 'PMF nº 80, de 1979',\n",
       "       'Parecer Cosit nº 26, de 29 de junho de 2000',\n",
       "       'Parecer Cosit nº 30, de 28 de setembro de 2001',\n",
       "       'Parecer Normativo CST nº 1, de 4 de fevereiro de 1985',\n",
       "       'Parecer Normativo CST nº 10, de 17 de agosto de 1992',\n",
       "       'Parecer Normativo CST nº 122, de 8 de junho de 1974',\n",
       "       'Parecer Normativo CST nº 129, de 13 de setembro de 1973',\n",
       "       'Parecer Normativo CST nº 130, de 1975',\n",
       "       'Parecer Normativo CST nº 130, de 8 de julho de 1970',\n",
       "       'Parecer Normativo CST nº 173, de 26 de setembro de 1974',\n",
       "       'Parecer Normativo CST nº 179, de 1970',\n",
       "       'Parecer Normativo CST nº 2, de 15 de janeiro de 1980',\n",
       "       'Parecer Normativo CST nº 25, de 1976',\n",
       "       'Parecer Normativo CST nº 250, de 15 de março de 1971',\n",
       "       'Parecer Normativo CST nº 28, de 29 de dezembro de 1983',\n",
       "       'Parecer Normativo CST nº 32, de 17 de agosto de 1981',\n",
       "       'Parecer Normativo CST nº 36, de 30 de maio de 1977',\n",
       "       'Parecer Normativo CST nº 38, de 1975',\n",
       "       'Parecer Normativo CST nº 44, de 30 de junho de 1976',\n",
       "       'Parecer Normativo CST nº 6, de 19 de fevereiro de 1986',\n",
       "       'Parecer Normativo CST nº 60, de 20 de junho de 1978',\n",
       "       'Parecer Normativo CST nº 62, de 31 de agosto de 1976',\n",
       "       'Parecer Normativo CST nº 66, de 5 de setembro de 1986',\n",
       "       'Parecer Normativo CST nº 68, de 14 de setembro de 1976',\n",
       "       'Parecer Normativo CST nº 72, de 1979',\n",
       "       'Parecer Normativo CST nº 8, de 1979',\n",
       "       'Parecer Normativo CST nº 9, de 1º de julho de 1983',\n",
       "       'Parecer Normativo CST nº 90, de 16 de outubro de 1978',\n",
       "       'Parecer Normativo Cosit nº 1, de 17 de março de 1994',\n",
       "       'Parecer Normativo Cosit nº 1, de 24 de setembro de 2002',\n",
       "       'Parecer Normativo Cosit nº 1, de 8 de agosto de 1995',\n",
       "       'Parecer Normativo Cosit nº 11, de 30 de setembro de 1992',\n",
       "       'Parecer Normativo Cosit nº 3, de 28 de agosto de 1996',\n",
       "       'Parecer Normativo Cosit nº 4, de 3 de novembro de 1995',\n",
       "       'Parecer Normativo Cosit nº 6, de 4 de agosto de 2014',\n",
       "       'Parecer Normativo Cosit/RFB nº 6, de 4 de agosto de 2014',\n",
       "       'Parecer Normativo nº 129, de 13 de setembro de 1973',\n",
       "       'Parecer PGFN/CAT nº 1.503, de 19 de julho de 2010, aprovado pelo Ministro de Estado da Fazenda em 26 de julho de 2010',\n",
       "       'Parecer PGFN/CAT nº 815/2010',\n",
       "       'Parecer SEI Nº 110/2018/CRJ/PGACET/PGFN-MF, aprovado pelo Despacho nº 348/2020/PGFN-ME, de 26 de agosto de 2020',\n",
       "       'Parecer SEI nº 10167/2021/ME', 'Parecer SEI nº 15069/2022/ME',\n",
       "       'Parecer nº 93/2018/DECOR/CGU/AGU',\n",
       "       'Portaria Conjunta SRF/TSE nº 74, de 10 de janeiro de 2006',\n",
       "       'REsp nº 1.306.393/DF; Tema Repetitivo nº 535',\n",
       "       'Resolução CGPC nº 26, de 29 de setembro de 2008',\n",
       "       'Resolução CGSN nº 140, de 22 de maio de 2018',\n",
       "       'Resolução TSE nº 22.250, de 2006',\n",
       "       'Sistema de Recolhimento Mensal Obrigatório (Carnê-Leão)',\n",
       "       'Solução de Consulta Cosit nº 161, de 27 de setembro de 2021',\n",
       "       'Solução de Consulta Cosit nº 19, de 18 de março de 2021',\n",
       "       'Solução de Consulta Cosit nº 19, de 4 de novembro de 2013',\n",
       "       'Solução de Consulta Cosit nº 204, de 5 de agosto de 2015',\n",
       "       'Solução de Consulta Cosit nº 224, de 14 de agosto de 2014',\n",
       "       'Solução de Consulta Cosit nº 240, de 19 de agosto de 2019',\n",
       "       'Solução de Consulta Cosit nº 240, de 19 de maio de 2017',\n",
       "       'Solução de Consulta Cosit nº 264, de 24 de junho de 2019',\n",
       "       'Solução de Consulta Cosit nº 264, de 25 de setembro de 2019',\n",
       "       'Solução de Consulta Cosit nº 264, de 30 de outubro de 2023',\n",
       "       'Solução de Consulta Cosit nº 337, de 15 de dezembro de 2014',\n",
       "       'Solução de Consulta Cosit nº 48, de 10 de dezembro de 2013',\n",
       "       'Solução de Consulta Cosit nº 60, de 20 de fevereiro de 2014',\n",
       "       'Solução de Consulta Cosit nº 60, de 23 de junho de 2020',\n",
       "       'Solução de Consulta Cosit nº 70, de 28 de março de 2014',\n",
       "       'Solução de Consulta Cosit nº 70, de 30 de dezembro de 2013',\n",
       "       'Solução de Consulta Cosit nº 82, de 2 de abril de 2014',\n",
       "       'Solução de Consulta Cosit nº 98, de 10 de maio de 2023',\n",
       "       'Solução de Consulta Cosit nº 98, de 3 de abril de 2014',\n",
       "       'Solução de Consulta Interna Cosit nº 10, de 5 de junho de 2014',\n",
       "       'Solução de Consulta Interna Cosit nº 11, de 28 de junho de 2012',\n",
       "       'Solução de Consulta Interna Cosit nº 12, de 15 de maio de 2013',\n",
       "       'Solução de Consulta Interna Cosit nº 2, de 14 de janeiro de 2014',\n",
       "       'Solução de Consulta Interna Cosit nº 20, de 13 de agosto de 2013',\n",
       "       'Solução de Consulta Interna Cosit nº 23, de 30 de agosto de 2013',\n",
       "       'Solução de Consulta Interna Cosit nº 27, de 7 de julho de 2008',\n",
       "       'Solução de Consulta Interna Cosit nº 29, de 4 de novembro de 2013',\n",
       "       'Solução de Consulta Interna Cosit nº 3, de 8 de fevereiro de 2012',\n",
       "       'Solução de Consulta Interna Cosit nº 4, de 17 de abril de 2012',\n",
       "       'Solução de Consulta Interna Cosit nº 5, de 15 de fevereiro de 2013',\n",
       "       'Solução de Consulta Interna Cosit nº 5, de 28 de março de 2006',\n",
       "       'Solução de Consulta Interna Cosit nº 6, de 18 de maio de 2015',\n",
       "       'Solução de Consulta Interna Cosit nº 7, de 17 de maio de 2012',\n",
       "       'Solução de Consulta SRRF03/Disit nº 15, de 9 de março de 2009',\n",
       "       'Solução de Consulta SRRF06/Disit nº 6.007, de 25 de março de 2019',\n",
       "       'Solução de Consulta nº 140, de 5 de junho de 2015',\n",
       "       'Solução de Divergência Cosit nº 10, de 14 de agosto de 2014',\n",
       "       'Solução de Divergência Cosit nº 16, de 27 de setembro de 2012',\n",
       "       'Solução de Divergência Cosit nº 19, de 16 de setembro de 2013',\n",
       "       'Súmula Carf nº 42',\n",
       "       'Súmula nº 125 do Superior Tribunal de Justiça (STJ)',\n",
       "       'Súmula nº 136 do Superior Tribunal de Justiça (STJ)'],\n",
       "      dtype='<U144')"
      ]
     },
     "execution_count": 28,
     "metadata": {},
     "output_type": "execute_result"
    }
   ],
   "source": [
    "references['still_to_extract']"
   ]
  },
  {
   "cell_type": "markdown",
   "id": "eef99a07-5d2d-4e85-bdcc-76b47893af69",
   "metadata": {},
   "source": [
    "### Loop through the missing references and get the first search result from Google"
   ]
  },
  {
   "cell_type": "code",
   "execution_count": null,
   "id": "06be8c27-b65e-4e17-b45b-09a70b2b57de",
   "metadata": {
    "scrolled": true
   },
   "outputs": [],
   "source": [
    "missing_references_url = []"
   ]
  },
  {
   "cell_type": "code",
   "execution_count": 42,
   "id": "540ecb31-cb9a-4127-9b1c-220057c1aca4",
   "metadata": {},
   "outputs": [
    {
     "name": "stdout",
     "output_type": "stream",
     "text": [
      "Solução de Consulta Interna Cosit nº 4, de 17 de abril de 2012 ― http://normas.receita.fazenda.gov.br/sijut2consulta/link.action?idAto=50721\n",
      "Solução de Consulta Interna Cosit nº 5, de 15 de fevereiro de 2013 ― http://normas.receita.fazenda.gov.br/sijut2consulta/link.action?visao=anotado&idAto=50789\n",
      "Solução de Consulta Interna Cosit nº 5, de 28 de março de 2006 ― http://normas.receita.fazenda.gov.br/sijut2consulta/link.action?idAto=3367&visao=relacional\n",
      "Solução de Consulta Interna Cosit nº 6, de 18 de maio de 2015 ― http://normas.receita.fazenda.gov.br/sijut2consulta/link.action?idAto=64476&visao=anotado\n",
      "Solução de Consulta Interna Cosit nº 7, de 17 de maio de 2012 ― http://normas.receita.fazenda.gov.br/sijut2consulta/link.action?idAto=50717&visao=relacional\n",
      "Solução de Consulta SRRF03/Disit nº 15, de 9 de março de 2009 ― http://normas.receita.fazenda.gov.br/sijut2consulta/link.action?idAto=87793\n",
      "Solução de Consulta SRRF06/Disit nº 6.007, de 25 de março de 2019 ― http://normas.receita.fazenda.gov.br/sijut2consulta/link.action?idAto=99845\n",
      "Solução de Consulta nº 140, de 5 de junho de 2015 ― http://normas.receita.fazenda.gov.br/sijut2consulta/link.action?idAto=65066\n",
      "Solução de Divergência Cosit nº 10, de 14 de agosto de 2014 ― http://normas.receita.fazenda.gov.br/sijut2consulta/link.action?idAto=55877\n",
      "Solução de Divergência Cosit nº 16, de 27 de setembro de 2012 ― https://www.normaslegais.com.br/legislacao/solucao-divergencia-16-2012.htm\n",
      "Solução de Divergência Cosit nº 19, de 16 de setembro de 2013 ― http://normas.receita.fazenda.gov.br/sijut2consulta/link.action?idAto=46656\n",
      "Súmula Carf nº 42 ― http://idg.carf.fazenda.gov.br/jurisprudencia/sumulas-carf/sumulas-por-materia/irpf\n",
      "Súmula nº 125 do Superior Tribunal de Justiça (STJ) ― https://www.stj.jus.br/publicacaoinstitucional/index.php/sumstj/article/download/5442/5565\n",
      "Súmula nº 136 do Superior Tribunal de Justiça (STJ) ― https://www.stj.jus.br/publicacaoinstitucional/index.php/sumstj/article/viewFile/5478/5601\n"
     ]
    }
   ],
   "source": [
    "for missing_reference in references['still_to_extract'][146:]:\n",
    "    search_results = search(missing_reference, lang='pt', num_results=1)\n",
    "\n",
    "    missing_references_url.append(next(iter(search_results)))\n",
    "\n",
    "    print(f\"{missing_reference} ― {missing_references_url[-1]}\")\n",
    "    \n",
    "    time.sleep(2)"
   ]
  },
  {
   "cell_type": "code",
   "execution_count": 43,
   "id": "cea39c01-f1a4-4814-a790-275dc5b448d3",
   "metadata": {},
   "outputs": [
    {
     "data": {
      "text/plain": [
       "160"
      ]
     },
     "execution_count": 43,
     "metadata": {},
     "output_type": "execute_result"
    }
   ],
   "source": [
    "len(missing_references_url)"
   ]
  },
  {
   "cell_type": "code",
   "execution_count": 47,
   "id": "e002ec7f-2821-4709-a755-bf9471b02348",
   "metadata": {},
   "outputs": [
    {
     "data": {
      "text/plain": [
       "['http://normas.receita.fazenda.gov.br/sijut2consulta/link.action?idAto=435',\n",
       " 'http://normas.receita.fazenda.gov.br/sijut2consulta/link.action?idAto=78851',\n",
       " 'https://www.gov.br/receitafederal/pt-br/acesso-a-informacao/legislacao/acordos-internacionais/acordos-para-evitar-a-dupla-tributacao/acordos-para-evitar-a-dupla-tributacao',\n",
       " 'https://portal.stf.jus.br/jurisprudenciaRepercussao/verAndamentoProcesso.asp?incidente=4677992&numeroProcesso=855091&classeProcesso=RE&numeroTema=808',\n",
       " '/search?num=3']"
      ]
     },
     "execution_count": 47,
     "metadata": {},
     "output_type": "execute_result"
    }
   ],
   "source": [
    "missing_references_url[:5]"
   ]
  },
  {
   "cell_type": "code",
   "execution_count": 54,
   "id": "5af56e75-26e7-4b56-aa80-0b5266d23085",
   "metadata": {},
   "outputs": [
    {
     "data": {
      "text/plain": [
       "array(['AD PGFN nº 3 de 18 de setembro de 2008', 'ADI RFB nº 12, de 2016',\n",
       "       'Acordo para Evitar a Dupla Tributação em Matéria de Impostos sobre a Renda e o Capital firmado entre o Brasil e a Alemanha',\n",
       "       'Acórdão do RE nº 855.091/RS (Tema 808)',\n",
       "       'Ato Declaratório (AD) PGFN nº 3, de 18 de setembro de 2008',\n",
       "       'Ato Declaratório Executivo Codac nº 23, de 4 de dezembro de 2019',\n",
       "       'Ato Declaratório Executivo RFB nº 2, de 6 de março de 2024',\n",
       "       'Ato Declaratório Executivo SRF nº 72, de 22 de dezembro de 2005',\n",
       "       'Ato Declaratório Interpretativo SRF nº 14, de 4 de maio de 2004',\n",
       "       'Ato Declaratório Normativo CST nº 10, de 1991'], dtype='<U144')"
      ]
     },
     "execution_count": 54,
     "metadata": {},
     "output_type": "execute_result"
    }
   ],
   "source": [
    "references['still_to_extract'][:10]"
   ]
  },
  {
   "cell_type": "markdown",
   "id": "13c2eb4b-a2d6-46d0-b6dd-5868b89f56f4",
   "metadata": {},
   "source": [
    "#### Copy the URL of the first element for the 5th, since they are duplicates"
   ]
  },
  {
   "cell_type": "code",
   "execution_count": 57,
   "id": "8cc215c1-908b-4a2f-9a1a-02cfc79910f8",
   "metadata": {},
   "outputs": [],
   "source": [
    "missing_references_url[4] = missing_references_url[0]"
   ]
  },
  {
   "cell_type": "code",
   "execution_count": 58,
   "id": "85b4ea0a-6921-4d9a-8c2e-83eb98894784",
   "metadata": {},
   "outputs": [
    {
     "data": {
      "text/plain": [
       "['http://normas.receita.fazenda.gov.br/sijut2consulta/link.action?idAto=435',\n",
       " 'http://normas.receita.fazenda.gov.br/sijut2consulta/link.action?idAto=78851',\n",
       " 'https://www.gov.br/receitafederal/pt-br/acesso-a-informacao/legislacao/acordos-internacionais/acordos-para-evitar-a-dupla-tributacao/acordos-para-evitar-a-dupla-tributacao',\n",
       " 'https://portal.stf.jus.br/jurisprudenciaRepercussao/verAndamentoProcesso.asp?incidente=4677992&numeroProcesso=855091&classeProcesso=RE&numeroTema=808',\n",
       " 'http://normas.receita.fazenda.gov.br/sijut2consulta/link.action?idAto=435',\n",
       " 'http://normas.receita.fazenda.gov.br/sijut2consulta/link.action?idAto=105356',\n",
       " 'http://normas.receita.fazenda.gov.br/sijut2consulta/link.action?idAto=136487',\n",
       " 'http://sijut2.receita.fazenda.gov.br/sijut2consulta/link.action?idAto=5216&visao=original',\n",
       " 'http://normas.receita.fazenda.gov.br/sijut2consulta/link.action?idAto=5654',\n",
       " 'http://normas.receita.fazenda.gov.br/sijut2consulta/link.action?visao=anotado&idAto=5847']"
      ]
     },
     "execution_count": 58,
     "metadata": {},
     "output_type": "execute_result"
    }
   ],
   "source": [
    "missing_references_url[:10]"
   ]
  },
  {
   "cell_type": "code",
   "execution_count": 60,
   "id": "d94d6522-8ab7-4395-ba75-8cb323039db9",
   "metadata": {},
   "outputs": [
    {
     "data": {
      "text/plain": [
       "(159, 159)"
      ]
     },
     "execution_count": 60,
     "metadata": {},
     "output_type": "execute_result"
    }
   ],
   "source": [
    "len(references['still_to_extract'][1:]), len(missing_references_url[1:])"
   ]
  },
  {
   "cell_type": "markdown",
   "id": "4a0fce8b-4740-42c5-826a-d76122619df1",
   "metadata": {},
   "source": [
    "#### Now save the lists ignoring the first element"
   ]
  },
  {
   "cell_type": "code",
   "execution_count": 61,
   "id": "1c7bf7f5-b6ca-417d-a436-436015a463c2",
   "metadata": {},
   "outputs": [],
   "source": [
    "with open(DATA_PATH + \"missing_references_urls_20250216_final.pkl\", \"wb\") as output_file:\n",
    "    pickle.dump({'missing_references': references['still_to_extract'][1:],\n",
    "                 'best_google_result_url': missing_references_url[1:]}, output_file, pickle.HIGHEST_PROTOCOL)"
   ]
  },
  {
   "cell_type": "code",
   "execution_count": 63,
   "id": "081aa366-74ba-4fb6-8bbd-ecb1ca48f54d",
   "metadata": {},
   "outputs": [],
   "source": [
    "import pandas as pd"
   ]
  },
  {
   "cell_type": "code",
   "execution_count": 64,
   "id": "9825c94a-e450-481f-b08a-8d3e1d99afc1",
   "metadata": {},
   "outputs": [],
   "source": [
    "pd.set_option(\"display.max_colwidth\", None)\n",
    "pd.set_option(\"display.max_rows\", 500)"
   ]
  },
  {
   "cell_type": "code",
   "execution_count": 65,
   "id": "33cf7d63-069f-460b-81fa-c9d122bb82ce",
   "metadata": {},
   "outputs": [],
   "source": [
    "missing_url = pd.DataFrame({'missing_references': references['still_to_extract'][1:],\n",
    "                            'best_google_result_url': missing_references_url[1:]})"
   ]
  },
  {
   "cell_type": "code",
   "execution_count": 69,
   "id": "6dde0603-723d-4880-9943-d8dd70bc7c39",
   "metadata": {},
   "outputs": [],
   "source": [
    "missing_url.to_excel(DATA_PATH + \"missing_references_urls_20250216_final.xlsx\")"
   ]
  },
  {
   "cell_type": "code",
   "execution_count": null,
   "id": "4501f405-7725-48b7-b346-288d597008ac",
   "metadata": {},
   "outputs": [],
   "source": []
  }
 ],
 "metadata": {
  "kernelspec": {
   "display_name": "Python 3 (ipykernel)",
   "language": "python",
   "name": "python3"
  },
  "language_info": {
   "codemirror_mode": {
    "name": "ipython",
    "version": 3
   },
   "file_extension": ".py",
   "mimetype": "text/x-python",
   "name": "python",
   "nbconvert_exporter": "python",
   "pygments_lexer": "ipython3",
   "version": "3.10.14"
  }
 },
 "nbformat": 4,
 "nbformat_minor": 5
}
