{
 "cells": [
  {
   "cell_type": "code",
   "execution_count": 1,
   "id": "6016814c-cbe7-4897-9be3-38f23722407f",
   "metadata": {},
   "outputs": [],
   "source": [
    "import glob\n",
    "import os\n",
    "import pickle\n",
    "import numpy\n",
    "\n",
    "import time\n",
    "\n",
    "import pandas as pd"
   ]
  },
  {
   "cell_type": "code",
   "execution_count": 30,
   "id": "20d675a7-e265-4586-a018-c1bd26fe4204",
   "metadata": {},
   "outputs": [],
   "source": [
    "from context_matching import *"
   ]
  },
  {
   "cell_type": "code",
   "execution_count": 2,
   "id": "3347aee5-a2a4-47bb-893b-964a2fc0adcb",
   "metadata": {},
   "outputs": [],
   "source": [
    "%load_ext autoreload\n",
    "%autoreload 2"
   ]
  },
  {
   "cell_type": "code",
   "execution_count": 3,
   "id": "461887c9-d594-44af-92ae-5fe09567861b",
   "metadata": {},
   "outputs": [],
   "source": [
    "DATA_PATH=\"data/\""
   ]
  },
  {
   "cell_type": "markdown",
   "id": "c4a930d8-259c-4a90-9141-0f50906d895e",
   "metadata": {},
   "source": [
    "### Read the complete references list"
   ]
  },
  {
   "cell_type": "code",
   "execution_count": 21,
   "id": "de14b705-c41a-408b-a319-dd175d2c1d1d",
   "metadata": {},
   "outputs": [],
   "source": [
    "with open(DATA_PATH + \"extracted_reference_match_results_20250214.pkl\", \"rb\") as input_file:\n",
    "    references = pickle.load(input_file)"
   ]
  },
  {
   "cell_type": "markdown",
   "id": "eaeaafd5-8a66-42e4-919d-c85524d45d65",
   "metadata": {},
   "source": [
    "### Read the question references matches with the complete references list"
   ]
  },
  {
   "cell_type": "code",
   "execution_count": 16,
   "id": "72fc4b0b-a90c-41bf-a9c0-3e5c4d1aec6b",
   "metadata": {},
   "outputs": [],
   "source": [
    "with open(DATA_PATH + \"question_references_matches_20250217.pkl\", \"rb\") as input_file:\n",
    "    matches = pickle.load(input_file)"
   ]
  },
  {
   "cell_type": "markdown",
   "id": "2e2af692-e02d-4fec-9209-1720d93932e6",
   "metadata": {},
   "source": [
    "### Read the test results using the hierarchical segmentation"
   ]
  },
  {
   "cell_type": "code",
   "execution_count": 9,
   "id": "09537349-d593-46df-b6a7-8db0e72c48d1",
   "metadata": {},
   "outputs": [],
   "source": [
    "with open(DATA_PATH + 'teste_normas_new_full_20250221_165423_gpt-4o-mini.pkl', 'rb') as input_file:\n",
    "    rag_normas_new_fixed_df = pickle.load(input_file)"
   ]
  },
  {
   "cell_type": "code",
   "execution_count": null,
   "id": "5efce422-fef9-4366-89d9-e8818abadff2",
   "metadata": {},
   "outputs": [],
   "source": [
    "rag_normas_new_fixed_df.head()"
   ]
  },
  {
   "cell_type": "code",
   "execution_count": null,
   "id": "e3721685-8adc-4517-8a11-15f289f3f484",
   "metadata": {},
   "outputs": [],
   "source": [
    "normas_new_full_rag = extract_question_references(rag_normas_new_fixed_df, question_number_field='question_id', rag_context_field='rag_context')"
   ]
  },
  {
   "cell_type": "code",
   "execution_count": 33,
   "id": "1553f5d3-b567-4438-8550-52f6615eb639",
   "metadata": {},
   "outputs": [
    {
     "name": "stdout",
     "output_type": "stream",
     "text": [
      "count    559.000000\n",
      "mean       0.375354\n",
      "std        0.360967\n",
      "min        0.000000\n",
      "25%        0.000000\n",
      "50%        0.333333\n",
      "75%        0.600000\n",
      "max        1.000000\n",
      "Name: correct_ratio, dtype: float64\n",
      "\n",
      "\n",
      "count    676.000000\n",
      "mean       0.924825\n",
      "std        0.191912\n",
      "min        0.000000\n",
      "25%        1.000000\n",
      "50%        1.000000\n",
      "75%        1.000000\n",
      "max        1.000000\n",
      "Name: wrong_ratio, dtype: float64\n",
      "\n",
      "\n",
      "count    579.000000\n",
      "mean       0.107753\n",
      "std        0.292591\n",
      "min        0.000000\n",
      "25%        0.000000\n",
      "50%        0.000000\n",
      "75%        0.000000\n",
      "max        1.000000\n",
      "Name: missing_ratio, dtype: float64\n"
     ]
    }
   ],
   "source": [
    "context_matches_normas_new_titles_df = count_rag_matches(normas_new_full_rag, matches, references['file_to_reference'], match_mode=\"title_occurrences\")"
   ]
  },
  {
   "cell_type": "code",
   "execution_count": 34,
   "id": "78458f51-10ce-44b8-a3e8-cbf60db98357",
   "metadata": {},
   "outputs": [
    {
     "name": "stdout",
     "output_type": "stream",
     "text": [
      "count    559.000000\n",
      "mean       0.522292\n",
      "std        0.431247\n",
      "min        0.000000\n",
      "25%        0.000000\n",
      "50%        0.500000\n",
      "75%        1.000000\n",
      "max        1.000000\n",
      "Name: correct_ratio, dtype: float64\n",
      "\n",
      "\n",
      "count    676.000000\n",
      "mean       0.960548\n",
      "std        0.153721\n",
      "min        0.000000\n",
      "25%        1.000000\n",
      "50%        1.000000\n",
      "75%        1.000000\n",
      "max        1.000000\n",
      "Name: wrong_ratio, dtype: float64\n",
      "\n",
      "\n",
      "count    579.000000\n",
      "mean       0.107753\n",
      "std        0.292591\n",
      "min        0.000000\n",
      "25%        0.000000\n",
      "50%        0.000000\n",
      "75%        0.000000\n",
      "max        1.000000\n",
      "Name: missing_ratio, dtype: float64\n"
     ]
    }
   ],
   "source": [
    "context_matches_normas_new_all_df = count_rag_matches(normas_new_full_rag, matches, references['file_to_reference'])"
   ]
  },
  {
   "cell_type": "markdown",
   "id": "268fea77-8cd0-4461-89ad-11516896c625",
   "metadata": {},
   "source": [
    "### Now read the results of the original segmentation"
   ]
  },
  {
   "cell_type": "code",
   "execution_count": 24,
   "id": "a095150e-6217-48b0-a7db-f6ac40f7d413",
   "metadata": {},
   "outputs": [],
   "source": [
    "with open(DATA_PATH + 'teste_normas_full_20250221_191456_gpt-4o-mini.pkl', 'rb') as input_file:\n",
    "    rag_normas_original_fixed_df = pickle.load(input_file)"
   ]
  },
  {
   "cell_type": "code",
   "execution_count": 25,
   "id": "aa6f0849-7784-49eb-a09e-61248cc51815",
   "metadata": {},
   "outputs": [],
   "source": [
    "normas_original_full_rag = extract_question_references(rag_normas_original_fixed_df, question_number_field='question_id', rag_context_field='rag_context', verbose=False)"
   ]
  },
  {
   "cell_type": "code",
   "execution_count": 35,
   "id": "c860d346-19b6-40ec-ab45-f9bf7caa34b7",
   "metadata": {},
   "outputs": [
    {
     "name": "stdout",
     "output_type": "stream",
     "text": [
      "count    559.000000\n",
      "mean       0.457055\n",
      "std        0.370031\n",
      "min        0.000000\n",
      "25%        0.125000\n",
      "50%        0.400000\n",
      "75%        0.750000\n",
      "max        1.000000\n",
      "Name: correct_ratio, dtype: float64\n",
      "\n",
      "\n",
      "count    676.000000\n",
      "mean       0.935442\n",
      "std        0.178186\n",
      "min        0.000000\n",
      "25%        1.000000\n",
      "50%        1.000000\n",
      "75%        1.000000\n",
      "max        1.000000\n",
      "Name: wrong_ratio, dtype: float64\n",
      "\n",
      "\n",
      "count    569.000000\n",
      "mean       0.063391\n",
      "std        0.229578\n",
      "min        0.000000\n",
      "25%        0.000000\n",
      "50%        0.000000\n",
      "75%        0.000000\n",
      "max        1.000000\n",
      "Name: missing_ratio, dtype: float64\n"
     ]
    }
   ],
   "source": [
    "context_matches_normas_original_titles_df = count_rag_matches(normas_original_full_rag, matches, references['file_to_reference'], match_mode=\"title_occurrences\")"
   ]
  },
  {
   "cell_type": "code",
   "execution_count": 36,
   "id": "62742d74-2af9-4690-89d1-a4123b1966c2",
   "metadata": {},
   "outputs": [
    {
     "name": "stdout",
     "output_type": "stream",
     "text": [
      "count    559.000000\n",
      "mean       0.626230\n",
      "std        0.422321\n",
      "min        0.000000\n",
      "25%        0.166667\n",
      "50%        1.000000\n",
      "75%        1.000000\n",
      "max        1.000000\n",
      "Name: correct_ratio, dtype: float64\n",
      "\n",
      "\n",
      "count    676.000000\n",
      "mean       0.968235\n",
      "std        0.132103\n",
      "min        0.000000\n",
      "25%        1.000000\n",
      "50%        1.000000\n",
      "75%        1.000000\n",
      "max        1.000000\n",
      "Name: wrong_ratio, dtype: float64\n",
      "\n",
      "\n",
      "count    569.000000\n",
      "mean       0.063391\n",
      "std        0.229578\n",
      "min        0.000000\n",
      "25%        0.000000\n",
      "50%        0.000000\n",
      "75%        0.000000\n",
      "max        1.000000\n",
      "Name: missing_ratio, dtype: float64\n"
     ]
    }
   ],
   "source": [
    "context_matches_normas_original_all_df = count_rag_matches(normas_original_full_rag, matches, references['file_to_reference'])"
   ]
  },
  {
   "cell_type": "code",
   "execution_count": 37,
   "id": "bf515860-6fb6-4869-b022-25cdbfdc789f",
   "metadata": {},
   "outputs": [],
   "source": [
    "with open(DATA_PATH + \"context_matching_results_rag_k10_question_fixes_20250224.pkl\", \"wb\") as output_file:\n",
    "    pickle.dump({\"teste_normas_new_full_20250221_165423_gpt-4o-mini_title_occurrences\": context_matches_normas_new_titles_df,\n",
    "                 \"teste_normas_new_full_20250221_165423_gpt-4o-mini_all_occurrences\": context_matches_normas_new_all_df,\n",
    "                 \"teste_normas_full_20250221_191456_gpt-4o-mini_title_occurrences\": context_matches_normas_original_titles_df,\n",
    "                 \"teste_normas_full_20250221_191456_gpt-4o-mini_all_occurrences\": context_matches_normas_original_all_df}, output_file, pickle.HIGHEST_PROTOCOL)"
   ]
  },
  {
   "cell_type": "code",
   "execution_count": null,
   "id": "afd11b2c-66f0-4563-88f1-70cb3271c78d",
   "metadata": {},
   "outputs": [],
   "source": []
  }
 ],
 "metadata": {
  "kernelspec": {
   "display_name": "Python 3 (ipykernel)",
   "language": "python",
   "name": "python3"
  },
  "language_info": {
   "codemirror_mode": {
    "name": "ipython",
    "version": 3
   },
   "file_extension": ".py",
   "mimetype": "text/x-python",
   "name": "python",
   "nbconvert_exporter": "python",
   "pygments_lexer": "ipython3",
   "version": "3.10.14"
  }
 },
 "nbformat": 4,
 "nbformat_minor": 5
}
